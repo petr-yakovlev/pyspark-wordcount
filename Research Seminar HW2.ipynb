{
 "cells": [
  {
   "cell_type": "code",
   "execution_count": 1,
   "metadata": {},
   "outputs": [],
   "source": [
    "# we download the findspark library and start it with findspark.init() function\n",
    "import findspark\n",
    "findspark.init()"
   ]
  },
  {
   "cell_type": "code",
   "execution_count": 2,
   "metadata": {},
   "outputs": [],
   "source": [
    "# we create Spark context in order to work with RDD (Resilient Distributed Dataset)\n",
    "from pyspark.sql import SparkSession\n",
    "from pyspark.conf import SparkConf"
   ]
  },
  {
   "cell_type": "code",
   "execution_count": 3,
   "metadata": {},
   "outputs": [],
   "source": [
    "# Spark set-up\n",
    "spark=SparkSession.builder\\\n",
    "    .master(\"local[*]\")\\\n",
    "    .appName(\"WordCount\")\\\n",
    "    .getOrCreate()"
   ]
  },
  {
   "cell_type": "code",
   "execution_count": 4,
   "metadata": {},
   "outputs": [],
   "source": [
    "# initialize Spark context\n",
    "sc=spark.sparkContext"
   ]
  },
  {
   "cell_type": "code",
   "execution_count": 5,
   "metadata": {},
   "outputs": [
    {
     "data": {
      "text/plain": [
       "[\"Once again Mr. Costner has dragged out a movie for far longer than necessary. Aside from the terrific sea rescue sequences, of which there are very few I just did not care about any of the characters. Most of us have ghosts in the closet, and Costner's character are realized early on, and then forgotten until much later, by which time I did not care. The character we should really care about is a very cocky, overconfident Ashton Kutcher. The problem is he comes off as kid who thinks he's better than anyone else around him and shows no signs of a cluttered closet. His only obstacle appears to be winning over Costner. Finally when we are well past the half way point of this stinker, Costner tells us all about Kutcher's ghosts. We are told why Kutcher is driven to be the best with no prior inkling or foreshadowing. No magic here, it was all I could do to keep from turning it off an hour in.\",\n",
       " \"I was looking forward to this movie. Trustworthy actors, interesting plot. Great atmosphere then ????? IF you are going to attempt something that is meant to encapsulate the meaning of life. First. Know it. OK I did not expect the directors or writers to actually know the meaning but I thought they may have offered crumbs to peck at and treats to add fuel to the fire-Which! they almost did. Things I didn't get. A woman wandering around in dark places and lonely car parks alone-oblivious to the consequences. Great riddles that fell by the wayside. The promise of the knowledge therein contained by the original so-called criminal. I had no problem with the budget and enjoyed the suspense. I understood and can wax lyrical about the fool and found Adrian Pauls role crucial and penetrating and then ????? Basically the story line and the script where good up to a point and that point was the last 10 minutes or so. What? Run out of ideas! Such a pity that this movie had to let us down so badly. It may not comprehend the meaning and I really did not expect the writers to understand it but I was hoping for an intellectual, if not spiritual ride and got a bump in the road\",\n",
       " \"I gave this a 3 out of a possible 10 stars.<br /><br />Unless you like wasting your time watching an anorexic actress, in this film it's Carly Pope, behaving like a ditz, don't bother.<br /><br />Carly Pope plays Sara Novak, a young college student, who becomes intrigued with a game of riddles, that leads her down into subway tunnels underneath the city - a dangerous thing for even a well-armed man to go in alone.<br /><br />There are various intrigues in the film -- a weirdo classmate who is apparently stalking Sara, a cynical shopkeeper who runs some kind of offbeat hole-in-the-wall establishment that appears to be located in the back alley of a ghetto, a nerdish dim-wit that hangs around the cynic's shop, and a woman named Emily Gray, who is back in prison.<br /><br />Sara's father is a lawyer who is handling Emily Gray's case. <br /><br />A few years back, Emily Gray attempted to drown a 12 year old boy. Emily was put in a mental hospital for 5 years, and for some cockeyed reason they let her out again, even though it is obvious she is still dangerously deranged.<br /><br />The only explanation Emily has ever given for her crime is: I never sinned.<br /><br />It's all part of the design.<br /><br />Well, my friend, don't expect to ever get any better explanation than that, because you won't.\",\n",
       " 'Years ago, when DARLING LILI played on TV, it was always the pan and scan version, which I hated and decided to wait and see the film in its proper widescreen format. So when I saw an inexpensive DVD of this Julie Andrews/Blake Edwards opus, I decided to purchase and watch it once and for all.<br /><br />Boy, what a terrible film. It\\'s so bad and on so many levels that I really do not know where to start in describing where and when it goes so horribly wrong. Looking at it now, it\\'s obvious to any fans of movies that Blake Edwards created this star vehicle for his wife simply because so many other directors had struck gold with Andrews in musicals (MARY POPPINS, SOUND OF MUSIC, THOROUGHLY MODERN MILLIE, etc) but also because Andrews was snubbed from starring in projects made famous on stage by Julie herself (CAMELOT, MY FAIR LADY, etc) because Hollywood thought she wasn\\'t sexy or glamorous enough. So Blake created this stillborn effort, to showcase his wife in a bizarre concoction of spy story/war movie/romance/slapstick comedy/musical. DARLING LILI suffers from multiple personalities, never knowing who or what it is. Some specific scenes are good or effective but as a whole, it just doesn\\'t work at all to a point of it being very embarrassing.<br /><br />Mind you, the version on the DVD is the \"director\\'s cut\", or in this case, \"let\\'s salvage whatever we can\" from this notorious box office flop. In releasing the DVD, Edwards cut 19 scenes (19!!!!!!!!) from the original bloated theatrical version into this more streamlined and yet remarkably ineffective version. The film moves along with no idea of what it is. We are 25 minutes into it and we still don\\'t know what\\'s going on or why we\\'re watching what\\'s going. What kind of spy is Lili? How powerful is she? Was she ever responsible for someone\\'s death? Instead we watch a thoroughly bored looking Rock Hudson trying to woo a thoroughly bored looking Julie Andrews. Things aren\\'t helped much with the inexplicable reason why the two fall in love. Why does Julie fall for Hudson? Why him and not other men she got involved with? There should have been one of her ex hanging around, trying to win her back or trying to decipher her secret. This would have given us some much needed contrast to the muddled action. It would also have given us some impetuous to the sluggish proceedings. There\\'s no catalyst in this story.<br /><br />One only has to look at the cut scenes to clearly see that Edwards and the writer just came up with ideas inspired by Andrews\\' (and Edwards\\') previous successes. The best (or worst) example is the scene when Andrews and Hudson follows a group of children who sing in the middle of a forest. Edwards channeling SOUND OF MUSIC. It\\'s no wonder he removed it from the DVD. Back in 1970, that scene might have worked on a certain level but today, that moment reeks of desperation. There are other plot elements directly inspired by Andrews/Edwards other films. The endless scenes of dogfights is inspired by the much better MODERN MILLIE. The musical moment \"I\\'ll give you three guesses\" was created just to make fun of Julie\\'s MARY POPPINS persona, which is turned \"raunchy\" with Julie doing a striptease in the act. The ending, bird\\'s eye view of Julie running towards Hudson\\'s plane, is another \"wink\" at SOUND OF MUSIC.<br /><br />The whole thing is confusing. Julie plays a singer, born from a German father and British mother, who lives in England but sings her (English) songs in Paris. You never know exactly where the story takes place. Some moments are just badly edited. Like when Julie and her \"uncle\" are on horseback. They talk and talk and then Julie suddenly sprints off in mid-sentence. I\\'m like \"what happened here?\"<br /><br />The comedy bits are unfunny and cringe-worthy. Every scene with the French police are pathetic. Where\\'s Peter Sellers when you really need him. The action is stupid beyond belief. When Julie and her \"uncle\" are on their way to Germany on that train, Hudson\\'s squadron shoots rounds of bullets at the train, almost killing Lili in the process. Brilliant. What\\'s also funny about that scene is the two leave on the train in the middle of the night but Hudson and his squadron reach the train even though they fly off the next morning. That\\'s one slow moving train there. <br /><br />The musical moments. The beginning is the best part of the entire film (and the reason I gave this film 3 stars) but it\\'s effect is diminished considerably because it\\'s repeated at the end. Speaking of redundant, did we really need to see a can-can dance, Crepe Suzette stripping scene and Julie stripping too? The \"Girl in no man\\'s land\" is OK even if it\\'s bleeding obvious, but that moment just doesn\\'t make any sense whatsoever because Lili sings it to a group of injured soldiers at a French hospital, making me wonder: how many soldiers there were injured indirectly by the result of her spying?<br /><br />The whole project is listless and without energy. The romance is 100% unbelievable. Rock Hudson is way too old and tired looking (check out the museum scene). Julie looks dazed, like she\\'s on Valium. But what really kills this ill-conceived project is Julie playing a German spy. Edwards desperately wanted to dispel the Mary Poppins syndrome afflicting his wife and believed that playing a traitor was a good career decision. As much as I like Julie, she\\'s no Greta Garbo, who pulled it off so beautifully in MATA HARI. Funny enough, even if Julie plays a German spy, she still comes across as cloying and cute.<br /><br />How bad is DARLING LILI? Even after 37 years since its release, Blake Edwards felt he still needed to work on it for its DVD release.',\n",
       " 'Julie Andrews satirically prods her own goody-two-shoes image in this overproduced musical comedy-drama, but if she approaches her role with aplomb, she\\'s alone in doing so. Blake Edwards\\' film about a woman who is both music-hall entertainer and German spy during WWI doesn\\'t know what tone to aim for, and Rock Hudson has the thankless task of playing romantic second-fiddle. Musicals had grown out of favor by 1970, and elephantine productions like \"Star!\" and this film really tarnished Andrews\\' reputation, leaving a lot of dead space in her catalogue until \"The Tamarind Seed\" came along. I\\'ve always thought Julie Andrews would\\'ve made a great villain or shady lady; her strong voice could really command attention, and she hits some low notes that can either be imposing or seductive. Husband/director Edwards seems to realize this, but neither he nor Julie can work up much energy within this scenario. Screenwriter William Peter Blatty isn\\'t a good partner for Edwards, and neither man has his heart in this material. Beatty\\'s script offers Andrews just one fabulous sequence--a striptease. *1/2 from ****',\n",
       " 'Blake Edwards tried very hard to change Julie Andrews image in this film. He tried to make her sexy not realizing she already was. I think they were both still a bit irked that Julie had not been chosen to film her Broadway success of Camelot and was passed over as not being sexy enough. Unfortunately, they chose this vehicle to try and assuage this belief. It gets to the point where it is almost funny seeing Rock Hudson, who we all know now was gay, kissing Julie every 2 minutes throughout this movie. It seems now that they were not only trying to make you believe that Julie was a femme fatale but that Rock was straight. Sadly, they have absolutely no chemistry together and the unending kissing scenes start grossing one out. The other error they made with this picture was not knowing what kind of movie they were making. It is almost three separate movies. There is the drama of Julie as the German spy trying to get military secrets from Rock. There is an air war movie with lots of footage of WWI vintage planes swooping about and there is the stupid attempts at humor that Blake Edwards seems to think he has to insert in every one of his pictures whether it is appropriate or not, In this case, it was not. The only truly redeeming qualities in this film are looking at the always lovely Dame Julie and hearing her sing in that crystal clear bell-like soprano. Of course if you love her, you may overlook the weaknesses of this film just because of her. You can always tell yourself, afterward, that it was a hell of a lot better than sitting through STAR!',\n",
       " \"An obvious vanity press for Julie in her first movie with Blake. Let's see. Where do we begin. She is a traitor during a world war; she redeems that by falling in love; her friends (who are presumably patriots because they are German citizens) are expendable and must die; and she winds up as a heroine. OK. The scenes with the drunken pilot and the buffoons who work for French intelligence can't even be described, and we won't even mention Rock's romantic scenes with a female. (By the way, when they visit a museum, look at his gaze - I reran it on video and it's priceless). Is it a farce or is it a romantic classic or is it a war movie? I don't know and you won't either.\",\n",
       " \"Some may go for a film like this but I most assuredly did not. A college professor, David Norwell, suddenly gets a yen for adoption. He pretty much takes the first child offered, a bad choice named Adam. As it turns out Adam doesn't have both oars in the water which, almost immediately, causes untold stress and turmoil for Dr. Norwell. This sob story drolly played out with one problem after another, all centered around Adam's inabilities and seizures. Why Norwell wanted to complicate his life with an unknown factor like an adoptive child was never explained. Along the way the good doctor managed to attract a wifey to share in all the hell the little one was dishing out. Personally, I think both of them were one beer short of a sixpack. Bypass this yawner.\",\n",
       " \"Few movies have dashed expectations and upset me as much as Fire has. The movie is pretentious garbage. It does not achieve anything at an artistic level. The only thing it managed to receive is a ban in India. If only it was because of the poor quality of film making rather than the topical controversy, the ban would have been more justifiable.<br /><br />Now that I've got my distress out of my system, I am more able to analyse the movie: <br /><br />* From the onset the movie feels unreal especially when the protagonists start conversing in English. The director, of course, did not make the movie for an Indian audience; however it underestimated its international audiences by over simplifying it. Watching the character of the domestic help conversing in perfect English is too unreal to be true.<br /><br />* Next we get regular glimpses into Radha's dreams. These scenes are not very effective. They coming up as jarring and obstruct the flow of the movie. I'm still wondering how that philosophical dialogue connected to the story. I felt that the surrealism was lost.<br /><br />* The love scenes felt voyeuristic and are probably meant for audience titillation rather than being a powerful statement. In any case, they do not achieve either of the two.<br /><br />* The names chosen for the women, Radha and Sita, are names of Hindu deities and hence been selected to shock the audiences. However, since the film wasn't meant for Indian audiences in the first place, the shock-through-name-selection is not meant to achieve its goal, which is absurd.<br /><br />* The quality of direction is very poor and some key and delicate scenes have been poorly handled. A better director could have made a powerful emotional drama out of the subject.<br /><br />* The acting felt wooden although Nandita Das brought some life into the role, the others were wasted. I always thought that Shabana Azmi was a good actress but her talent is not evident in this film. The male leads were outright rubbish.<br /><br />In case you are a fan of Earth and wish to see more of the director, stay away from this one. Please.\",\n",
       " 'For years, I\\'ve been a big fan of Park\\'s work and \"Old boy\" is one of my all-times favorite.<br /><br />With lots of expectation I rented this movie, only to find the worst movie I\\'ve watched in awhile. It\\'s not a proper horror movie; there\\'s no suspense in it and even the \"light\" part is so lame, that I didn\\'t know whether to laugh or cry.<br /><br />I introduced my younger brother to Chan-Wook Park and what a disappointment he got from this. For me, an idol has fallen.<br /><br />If you loved movies like \"Old boy\", the Mr & Lady \"Vengeance\" or even his short films on \"Three extremes\", don\\'t waste your time, the film\\'s not worth it.',\n",
       " 'Might end up being the biggest disappointment that I will see in 2009. I seem to be the rare person who disliked Park\\'s Oldboy, but I think that his \"Lady Vengeance\" and \"Sympathy for Mr. Vengeance\" are among the best films I\\'ve seen in the 2000\\'s decade. Therefore, I really was looking forward to see this, especially as it got such positive reviews. Instead, I found the film clichéd, and broke little, if any new ground to the vampire genre. And while I can appreciate a bit of gallows humor in movies like this, I felt Park did this at very inopportune times.<br /><br />Others have compared/contrasted this to \"Let the Right One In,\" and I have to say that \"Let the Right One In\" was far superior to this one, and was a fresh take on the vampire genre. Sadly, Park\\'s take was a tired one.',\n",
       " \"Bloody Birthday opens to a shot of Meadowvale General Hospital. There three babies are being born at precisely the same time during a total eclipse. A caption informs us that it is now 'Meadowvale, California June 1, 1980'. Two teenage lovers, Duke Benson (Ben Marley) and Annie Smith (Erica Hope) are getting down to business in an open grave. They hear noises and Duke investigates. Both Duke and Annie are murdered. Sheriff Jim Brody (Bert Kramer) is baffled and only has the handle of a child's skipping rope that Annie was holding, as a clue. Unfortunately before Sheriff Brody can solve the case his youngest daughter Debbie (Elizabeth Hoy) and two of her friends Curtis Taylor (Billy Jayne as Billy Jacoby) and Steven Seton (Andy Freeman) murder him. Just as they are finishing Sheriff Brody off another young boy from their class named Timmy Russel (K.C. Martel) turns up, the three killers are unaware of how much he saw. Soon after the incident Timmy plays with Steven and Curtis in a junkyard. Curtis locks Timmy into an old locker. Timmy manages to escape and tell his sister Joyce (Lori Lethin), but she doesn't believe him at first. The three children carry on their murder spree. Their strict teacher Miss Davis (Susan Strasberg) a lovemaking couple (John Avery and Sylvia Wright) in a van and Debbie's older sister Beverly (Julie Brown) are among their victims. Joyce begins to have her suspicions about Debbie, Curtis and Steven which makes her and Timmy a target for the evil trio. Will they be able to convince the authorities that these three innocent looking 10 year olds are really soulless killers?<br /><br />Co-written and directed by Ed Hunt I have an intense dislike for this film. I think it's absolutely awful and doesn't have a single enjoyable aspect to it's 83 minute running time. The script by Hunt and Barry Pearson gives us no explanation for the child killers motives beyond the solar eclipse that blocks out Saturn and therefore for some bizarre astrological reason these three children don't have any conscience, so these are the only children ever born during a total eclipse? If that is true why do they wait until just before their tenth birthday's before starting their killing spree? I guess it just suddenly kicks in, right? To it's credit it is reasonably well paced but I still found it incredibly boring and tedious to sit through. The film as a whole is very unexciting and predictable, the children are revealed as the killers within the first 10 minutes and as I've mentioned next to no motive is given. It's very silly at times, too. Check out the scene where Debbie stops Steven by throwing a bowl of water over him! The Sheriff's death is put down to him falling down some steps, yeah right the injuries suffered from that type of accident aren't going to be the same as if your beaten to death with a baseball bat like he was in reality, any competent Doctor or Pathologist would have spotted that within 5 seconds. There isn't a single drop of blood spilt in the entire film and all of the lame killings are dull and unimaginative. There is some out-of-place looking nudity as Debbie charges 25c to let boys peek through a hole while her sister Beverly strips. There is an early scene just after the 5 minute mark when Joyce walks from the kitchen to the living room and the boom mike is clearly visible at the top of the screen, not even a little bit of it the whole damn thing. The general incompetence continues throughout the film. The whole production is bland and instantly forgettable. The acting is poor throughout, those three kids are very annoying and got on my nerves right from the start and made sitting through this film even more of a chore, especially Curtis in his geeky over-sized glasses. I just hate this film really, simple as that. I can't think of a single good thing to say about it. Definitely one to avoid.\",\n",
       " \"This movie cannot be serious because it has a nerdy looking kid named Curtis killing people. The other two psycho kids are kind of cute but that Curtis kid is just so ugly because he wears these huge, brown, ugly glasses. The actor probably wandered on the wrong set and he was really supposed to go to Revenge of the Nerds.<br /><br />Another thing that I hate so much about this movie is that Curtis takes his sweet time shooting people. I kept my finger on the fast forward button because he took too long and what was up with his voice? He sounded like he was fourteen and not ten. Another thing I hated was that he kept smiling like an idiot and there was no point to that.<br /><br />Then they put that annoying kid in the freezer and somehow he found a flashlight in there. That didn't make any sense and neither did the music. The music didn't fit any of the scenes.<br /><br />This movie is slow, boring and a waste of time. Watch a different movie on your birthday.\",\n",
       " \"This is a pale imitation of 'Officer and a Gentleman.' There is NO chemistry between Kutcher and the unknown woman who plays his love interest. The dialog is wooden, the situations hackneyed. It's too long and the climax is anti-climactic(!). I love the USCG, its men and women are fearless and tough. The action scenes are awesome, but this movie doesn't do much for recruiting, I fear. The script is formulaic, but confusing. Kutcher's character is trying to redeem himself for an accident that wasn't his fault? Costner's is raging against the dying of the light, but why? His 'conflict' with his wife is about as deep as a mud puddle. I saw this sneak preview for free and certainly felt I got my money's worth.\",\n",
       " \"A mean spirited, repulsive horror film about 3 murderous children. Susan Strasberg is totally wasted in a 5-minute cameo, even though she receives star billing. If your a Julie Brown fan, you'll want to check it out, since she's naked in a couple of shots. All others,avoid.\",\n",
       " \"Bloody Birthday is a totally rubbish slasher movie from beginning to end. <br /><br />I found the acting to be pretty good considering the genre of movie and its obvious low budget. I don't know what was going on with the cinematography but it looked ghastly. Way too over-saturated. Maybe this is a bad transfer to DVD or maybe it always looked like that, I don't know. <br /><br />There really are no redeeming qualities to speak of. There are a few deaths but not really gory. I wouldn't bother with it if I was you. The best thing about the DVD was the 15 minute interview with producer Max Rosenberg who was very amusing and honest. He didn't have anything good to say about director Ed Hunt and admits the movie was a failure, but he would like to re-make it as he believes it has a decent plot. However, he died in 2004 so I guess it will be up to someone else to take on that challenge. With the way things have been going in the last few years it wouldn't surprise me, there's at least one re-make per week at the cinema these day. It couldn't be any worse than the original I suppose but I couldn't care less whether it got re-made or not.\",\n",
       " 'When you make a film with a killer-kids premise, there are two effective ways to approach it; you can either make it as realistic as possible, creating believable characters and situations, or you can make it as fun as possible by playing it for laughs (something which the makers of \"Silent Night, Deadly Night\" did, for example, on an equally controversial subject: a killer Santa). The people who made \"Bloody Birthday\", however, do neither of those things; they simply rely on the shock value of the image of a kid with a gun (or a knife, or a noose, or an arrow) in his/her hand. The result is both offensive and stupid. The whole film looks like a bad idea that was rushed through production (and then kept from release for several years). It\\'s redeemed a tiny bit by good performances from the kids, but it\\'s VERY sloppily made. (*1/2)',\n",
       " \"When people say children are annoying u think ya my little cousins can be annoying and i said LITTLE. These children are turning 10 and they are without a doubt the most annoying bratty children you will ever encounter (in a film). Lets start with the blonde - Debbie - She's a slut of a girl, i mean come on she wears mini skirts, she has stupid frizzy blonde hair and a freckley red bunny like face. She acts so innocent. Next we have the second child - the Geek - who thinks he's so cool, with his long range shooting and his use of a silencer (a coat over the gun) and most of all his evil bratty smile. The next kid is the quiet one you don't care about so thats all on him. This film angered me at the children's intelligence and the only enjoyment i got was from my cousin who kept bitching about them.\",\n",
       " \"'Bloody Birthday' is an odd and, at times, humorous low-budget horror flick along the lines of 'Mikey' or a less intelligent version of 'The Good Son'.<br /><br />Set in a small Californian town, three babies are born at the height of an eclipse, where planetary alignment means they are somehow born without emotions. Ten years later, our three little psychopaths take themselves on a killing spree, doing away with parents, siblings, teachers and anyone else who irritates them. Only one teenage girl knows the truth to be able to stop them. There is no explanation for why babies across the world born at the same time aren't equally as twisted but there you go!<br /><br />For a slasher film, it's very tame in terms of violence and gore, which I suppose highlights the problem of casting child characters as the killers as there is only so much you can expose the young actors to. Instead, it's amusing and a little disturbing seeing three ten-year-olds plotting murders and carrying out their plans using guns, knives and crossbows. The main reason why it doesn't descend into being totally ridiculous is because the child actors are very convincing in their roles with the way they slyly play the little innocents in front of undiscerning adults while showing their dark side to the girl who knows the truth.<br /><br />'Bloody Birthday' is rather mediocre as a horror flick, with few scares and little blood, but because it has the shock factor of having kids as the killers, it is a bit unique in that way. One to watch if there's nothing else on.\",\n",
       " \"Is it a poorly acted, cliche-ridden pile of trash? Of course. Anyone who doesn't realize that when they pick up the box in the video store probably doesn't have any right judging movies in the first place. Thus, I will now rate the aspects of the film that we actually care about on a scale of 1 to 10:<br /><br />Violence and gore: 4 -- For this genre, there are very few deaths, and the gore is almost non-existent. Anyone looking for a little blood should probably look elsewhere. The only redeeming quality is the fact that kids are doing these awful things, which raises the bar a little.<br /><br />Suspense: 1 -- Okay, I feel bad for anyone who gets scared by this trio of dorky looking kids.<br /><br />Nudity/sex: 7 -- Lots of boobage from three different women, one of whom is the MTV vj Julie Brown. There are two sex scenes, but little is shown in them.<br /><br />Unintentional humor -- 4 -- There are a few good laughs with the kids trying to act scary, but all in all, it's just bad, not funny bad.<br /><br />Overall -- 4 -- It's not unwatchable. There are a few fun moments, and enough nudity to keep your attention for the entire movie. However, only watch this movie if you're a big fan of the 80's slasher flicks. This definitely falls on the lower end of the scale, but it's not all the way at the bottom. The real downside is the disappointing ending. It almost ruined the movie for me.\",\n",
       " 'Formulaic slasher film, only this one stars three ten year olds (all born during a lunar eclipse) as the killers. Nice, huh? A little bit of gore and a nice nude scene may make this worthwhile for diehard fans of the genre, others beware.<br /><br />*1/2 out of ****',\n",
       " '\"Cover Girl\" is a lacklustre WWII musical with absolutely nothing memorable about it, save for its signature song, \"Long Ago and Far Away.\" This film came out before Gene Kelly really hit his artistic stride, and while there are evidences of his burgeoning talent here, mostly he plays sidekick to Rita Hayworth. And there\\'s the problem. Rita Hayworth is gorgeous, no doubt about that. But she\\'s simply not a compelling screen presence. I\\'ve always found myself wanting to like her more than I actually do, and this movie is no exception. She\\'s simply not a very good actress, and she\\'s not even a very good dancer. Good looking as she is, there\\'s something vapid about her, and this movie suffers because of it.<br /><br />Grade: C-',\n",
       " \"Rita Hayworth plays a Brooklyn nightclub dancer named Rusty who specializes in cheesecake chorus revues; she manages to get herself on the cover of a national fashion magazine, but her impending success as a solo (with romantic offers all around) has smitten boss Gene Kelly chomping at the bit. Terribly tired piece of Technicolor cotton candy, with unmemorable musical sketches (the two worst of which are irrelevant flashbacks to the 1890s, with Hayworth portraying her own grandmother). Kelly, as always, dances well but acts with false sincerity; when he's serious, he's insufferable, and the rest of the time he's flying on adrenaline. The script is a lead weight, not even giving supporting players Phil Silvers and Eve Arden any good lines. *1/2 from ****\",\n",
       " 'Like \\'Singin\\' in the Rain\\', \\'Cover Girl\\' has a trio of two guys and a girl. In \\'Cover Girl\\', Phil Silvers (Genius) is the comic relief. He corresponds to Donald O\\'Connor\\'s funny man part in \\'Singin in the Rain\\'. In Cover Girl, Gene Kelly\\'s love interest is Rita Hayworth and in \\'Rain\\', it\\'s Debbie Reynolds. That\\'s where the comparison ends.<br /><br />Whereas \"Singin\\' in the Rain\\' is a classic American movie musical, \\'Cover Girl\\' is mediocrity incarnate. The story isn\\'t very complicated. Rusty Parker (Rita Hayworth) is a dancer in Danny MacGuire\\'s low-rent nightclub in Brooklyn. Rusty decides to enter a Cover Girl contest sponsored by a wealthy publisher, John Coudair, who made an unsuccessful play for Rusty\\'s grandmother years ago. Coudair introduces Rusty to Broadway producer Noel Wheaton who makes her into a star. Danny feels slighted when Rusty starts showing up late for rehearsals at the nightclub and decides to close the club down and go on the road entertaining the troops along with his sidekick, Genius. At the last minute, with Rusty at the altar with Noel, she realizes the error of her ways and runs back to Danny. They live happily ever after.<br /><br />Gene Kelly has the least developed part in the movie. All we find out about him is that he owns a nightclub and is madly in love with Rusty. Coudair and Wheaton act like besotted teenagers toward Rusty and Phil Silvers delivers some thoroughly goofy but unfunny shtick. The most interesting aspect of Rita Hayworth\\'s performance is the scene in which she gets drunk. This foreshadows what happened to her in real life. Anyone who has read her biography will learn that she disliked Hollywood, pined away for a normal home life which she could never attain but eventually began drinking and ended up with full-blown Alzheimer\\'s during the last years of her life.<br /><br />Almost all of the songs in Cover Girl are old-fashioned and not very tuneful. Gene Kelly has only one really excellent dance number and that\\'s the scene where he dances with his \\'alter ego\\'. Earlier, the trio has another number which is a pale precursor of \\'Make em Laugh\\' from \\'Singin\\' in the Rain\\'.<br /><br />The most annoying thing about \\'Cover Girl\\' is the way in which Rita Hayworth is put up on a pedestal. A couple of decades later, Raquel Welch had the same problem. Both actresses later in their careers would always try and find scripts that showcased their acting abilities. They wanted to be known as \\'actresses\\' and not \\'pinup girls\\'. Unfortunately, \\'Cover Girl\\' is an example of how Hollywood used to exploit women for financial gain.',\n",
       " 'It seems ever since 1982, about every two or three years we get a movie that claims to be \"The Next Officer and a Gentleman.\" There has yet to be one movie that has lived up to this claim and this movie is no different.<br /><br />We get the usual ripped off scenes from OAAG (\"I want you DOR,\" the instructor gives the Richard Gere character his overdose of drills in hopes he\\'ll quit, the Gere character comes back for the girl, the Gere character realizes the instructor is great, etc.) and this movie is as predictable as the sun rising in the East and is horribly miscast on top. Costner plays his usual \"wise teacher\" character, the only character he can play, and you really get a sense of his limited acting abilities here. Kutcher is terrible in the Richard Gere character, just miscast with acting skills barely a notch above Keanu Reeves.<br /><br />The main problem with this OAAG wannabe is the two main characters are so amazingly one-dimensional, you never care for either in the least and when Kutcher\\'s character finally turns around (just like Gere did in OAAG) you just go \"so what? The movie leaves no plot point unturned and seems to never end as if to say \"oh wait, we forgot to close out the girlfriend story, or the what happens after he graduates story, or the other six plot points in the movie...\" What\\'s more baffling is the great \"reviews\" I see here. The general public\\'s opinions never cease to amaze me.',\n",
       " 'Rita Hayworth is just stunning at times and, for me, the only reason to watch this silly film. Despite the overdone 1940s lipstick, Rita was one of the all-time glamor women of Hollywood. In fact, for a couple of years I can\\'t imagine anyone that looked better, except maybe Elizabeth Taylor in her prime.<br /><br />Anyway, the co-star of the show, Gene Kelly, does not play his normal likable, at least the kind of guy we all know him from in \"Singin\\' In The Rain.\" Here, Kelly\\'s \"Danny McGuire\" pouts much of the time. Phil Silvers, who I loved on TV at \"Sgt. Bilko,\" is so stupid in here as \"Genius\" you will just cringe listening to his dumb jokes....and they are stupid.<br /><br />The visuals are good with great Technicolor, which almost looks terrific. You get to see a lot of pretty women in here, too, not just Hayworth. Unfortunately, the story isn\\'t all that much. It centers around Hayworth deciding about a career choice. Along the way, we get the normal shabby treatment of marriage and we get an insultingly-dumb ending. All in all, an unmemorable film, except as a showcase for Hayworth\\'s beauty.',\n",
       " 'It hurt to watch this movie, it really did... I wanted to like it, even going in. Shot obviously for very little cash, I looked past and told myself to appreciate the inspiration. Unfortunately, although I did appreciate the film on that level, the acting and editing was terrible, and the last 25-30 minutes were severe thumb-twiddling territory. A 95 minute film should not drag. The ratings for this one are good so far, but I fear that the friends and family might have had a say in that one. What was with those transitions? Dear Mr. Editor, did you just purchase your first copy of Adobe Premiere and make it your main goal to use all the goofy transitions that come with that silly program? Anyway... some better actors, a little more passion, and some more appealing editing and this makes a decent movie.',\n",
       " 'This film seems well made, and more efforts should be made to promote films by women. That aside, this film is also profoundly disturbing in that it justifies the manipulative and psychotic machinations of a character that is profoundly disturbed. If you\\'ve seen any of the promotional material, you might think this is a poignant film about a relationship that\\'s reached its end, but none of that suggests how really disturbing the central premise is:<br /><br />A woman threatens suicide unless her soon to be ex agrees to relive here most treasured memories of their relationship. When told how unfair (to say the least) that such a threat is, Tessa (the purported protagonist) suggests that \"life\\'s not fair.\"<br /><br />Huh??? This character also uses tears to manipulate her former lover into staying, and coaxes him into sexually oriented behavior (which she initially denies as a motive) all the while assuring him \"this isn\\'t sex.\"<br /><br />Reverse the genders, have the leads played by Tracey Gold and Brian Austin-Green and this could air in feature length on Lifetime with a title like \"Hostage to Obsession.\" There is no medically accepted definition of sound mental and emotional stability that would encompass Tessa\\'s behavior in this film.<br /><br />Props to Kristen Thomson for playing a border-line psychotic, manipulative ex to a T, perhaps too well because there is no well-adjusted person, male or female, who could watch this and not have shivers run up their spine.',\n",
       " \"Sorry, but Jacqueline Hyde (get it??? - Jack L and Hyde - Jekyll & Hyde) has some of the worst acting this side of hardcore porn, not to mention a script apparently written by a first-grader with undiagnosed learning disabilities.<br /><br />Jackie Hyde inherits an old mansion by a grandfather she never knew she had. Guess who? Yes, an inventor of the special formula that slowly takes over one's body and mind - yes, that Mr. Hyde! <br /><br />Despite some nice skin scenes, this film fails to register any feeling or emotion other than uncontrollable laughter.<br /><br />As much as poor Jackie tries she just can't stay away from granddaddy's special formula and the result is an hour and half of wasted time.\",\n",
       " \"Jacqueline Hyde starts like any other normal day for telemarketing individual Jackie Hyde (co-producer Gabriella Hall) until her boss (Robert Donovan) fires her for taking personal calls at work, however it's not all bad news as the call she took was from a lawyer informing her that her Grandfather (Malcolm Bennett) has recently died & that he left her his mansion & fortune (why doesn't stuff like that ever happen to me? Sigh). Very excited Jackie heads on over there & makes herself right at home, while looking for the thermostat late one night Jackie stumbles upon a secret room where her Grandfather stashes the bright red formula that he invented that allows whoever drinks it to change their appearance. Being a bit on the porky side Jackie finally settles on the glamorous Jacqueline (Blythe Metz), however Jackie's better looking alter-ego starts to take control...<br /><br />Written, co-produced & directed by Rolfe Kanefsky I thought Jacqueline Hyde was complete total & utter crap from start to finish & it's as simple & straight forward as that. According to the opening credits Jacqueline Hyde was 'inspired' by the classic Robert Louis Stevenson novel 'The Strange Case of Dr. Jekyll and Mr. Hyde', frankly if Mr. Stevenson could see what was being done to his story here he'd turn in his grave. For a start I think Jacqueline Hyde was/is intended to be a horror film, the IMDb certainly lists it as such but there isn't any horror in it at all apart from just how bad it is. I would say that Jacqueline Hyde is more a soft-core porno than anything else & extremely tame with it, why sit down & watch this softer than soft porno crap when you can watch you proper hard-core stuff that actually delivers the goods? Why, that's the question I ask here. It's not even good porn either, besides being far too soft it's dull, boring & the not-worth-mentioning sex scenes are few & far between. The most intelligent aspect of this film is the title which would have been quite clever if not for the fact that another film used the Jacqueline Hyde (1998) title during the last century & judging by the IMDb's plot summary it sounds a hell of a lot better than this piece of rubbish. This is one of those films you have to watch yourself to see just how bad it is but just hope that you never get the opportunity.<br /><br />Director Kanefsky was obviously working on a low budget but that's not an excuse these days, shot on a digital camcorder the film looks cheap & the few instances of CGI look like they came from a Nintendo Gameboy, the final 'shocking' twist has probably the worst morph effect I've ever seen & is pretty good for a laugh as is the scene when Jackie's breasts grow via more terrible CGI. That's another thing, the film takes itself far too seriously. The subject matter sucks, is far too predictable & makes for a poor film but maybe if the dialogue had been intentionally funny with some dirty porn talk the film might have been more fun to watch, alas it isn't so it isn't. Forget about any decent horror, violence or gore as there isn't any apart from a surprisingly bloodless decapitation at the end.<br /><br />Technically Jacqueline Hyde is home made film type stuff, the photography is of the flat hand held point-&-shoot variety, the music, production design & special effects are of a suitably low standard to match the script. The acting was awful, seriously this is bad.<br /><br />Jacqueline Hyde in my opinion a load of crap, there is not one positive thing about this turgid film that I can think of. Any proper film lover will have an almost impossible time trying to find any redeeming value in this crap, definitely one to avoid.\",\n",
       " 'Maniratnam, who in India, is often compared with prominent world film makers and is regarded a genius in film-making, has yet again proved that he can only make the frames look visually good, without offering much food for thought.Forget about pure cinematic pleasure that can be derived from cinema as a very old form of art.<br /><br />While I would not like to claim and portray myself as someone who has seen all the beautiful movies made around the world, still any thoughtful and a bit educated film goer can identify that his films do not contain innovative ingenuous plots, does not contain lingering effects afterward and MOSTLY contain ridiculous ending and a LOT of melodrama, seen profusely in Indian movies.<br /><br />Overall, Maniratnam has successfully confirmed my distaste for his films once again.<br /><br />Sorry for those who on this board were claiming otherwise. My suggestion to you: WATCH SOME BEAUTIFUL CINEMAS MADE AROUND THE GLOBE.',\n",
       " 'This film, which I rented under the title \"Black Voodoo\" should be avoided. I was expecting a blaxploitation/horror flick; but what I got was a very dull, standard \"ghost extracts vegence\". In this case the ghost was that of a religious cult leader who tried to refuse treatment, but who\\'s plea was ignored and he died in an operation. The result: his spirit posesses Nurse Sherry and forces her to commit acts of murder. The only voodoo connection was to one of the three black characters, in this case a blinded ex-football player, who\\'s mom practiced voodoo. The film is very slow and very dull. There is a very standard ending that provides on excitement, followed by a horrificly stupid ending (warning: SPOILER)<br /><br />In which a woman actually manages to defend herself against murder charges by saying she was possessed. This movie is slow, and bad in a non-funny, just stupefying way. Avoid it at all costs.',\n",
       " \"The first 20 minutes were a little fun because I don't think I've seen a film this bad before {acting, script, effects (!), etc....} The rest of the running time seemed to drag forever with every cliche in dialog used to no effect. These people seemed to not really like horror movies or how to make them or any other movie. There's no adult language, a bit of brief nudity, and no gore except fake blood smeared over no open wounds, etc.. It would have been rated PG in the early eighties and PG-13 nowadays. I'm not sure how it got an R rating or if it really did. I saw the American International release titled Hospital Of Terror. I've seen 100 horror films in the past 12 months and this is probably the worst film I've ever seen. Here's an example of how bad it is: There's one scene where something green comes through the door. I'm not sure what it's supposed to be but what it is on screen is some kid's green crayon scribblings {I'm not exaggerating} super-imposed over the film, semi-moving inside the door, then its supposed to do something to Nurse Sherri to possess her I suppose. I could not believe they had the lack of pride to show this embarrassment.\",\n",
       " 'I only came here to check Terror Hospital for an alternate title so I\\'d know what not to pick up. Not only do I get the original title, but I come to find Terror Hospital is one of seven more aliases.This one is a real clunker. Movies like this can usually be forgiven for any number of reasons, mostly unintended consequences of the feature on every level of production that result in at least a mild form of entertainment, mostly amusement. This has none of that. Instead, the viewer is witness to redundantly unnecessary and way-too-convenient-for-the-situation exposition and drawn out scenes of characters warily moving from room to room, and all this is half of the film. Forget trying to figure out where anybody is (or who they are) during darkened or nighttime scenes, too; you probably won\\'t care, anyway. There is also a random car chase sequence that seems quite dull when compared to some of the old driver\\'s ed movies I slep... er, I mean sat through and watched way back in high school. Really, we\\'re talking about mysticism, possession, and a killer on the loose here - not a bad recipe for trash cinema. Unfortunately, there\\'s nothing here to make it even \"good\" trash; when joined to the aforementioned, the bad acting and not-so-special effects are just that - bad acting and not-so-special effects. This one\\'s just trash, pure and simple. Leave it on the rack at the pawn shop or in that box at the yard sale. There\\'s a reason its there...',\n",
       " 'This is a hard film to rate. While it truly deserves its 3 (or perhaps even a two), for an Al Adamson film, it\\'s exceptional--and practically Adamson\\'s very best. That\\'s because unlike many Adamson films, there are times when NURSE SHERRI almost looks competent. But, being an Adamson film, you know that sooner or later that crappiness MUST rear its ugly head! <br /><br />The film begins with some bizarre cult leader of a huge congregation (six) trying to resurrect a dead guy who looks like he\\'s made of blue cheese. However, in the process, the cult dude has a heart attack and it taken to the hospital. He apparently dies, but it also seems like many of these hospital scenes are missing and a few of them appear much later in the film. In other words, when you see the film, he appears to have possibly recovered--only to hear later that he\\'d died. Because the guy is the b.f.f. of Satan, however, his evil soul can\\'t die and he comes back to both haunt one of his henchmen and to possess Nurse Sherri.<br /><br />Now, Sherri is obviously a very disturbed lady--demonic possession or not. At times she acts like a zombie and at others she\\'s violently homicidal. So I ask...\"why didn\\'t her boyfriend (a doctor) think this was, perhaps, problematic?!\". In other words, after trying to kill a patient, he neither gets an exorcist nor commits her to the booby hatch!!! Oh, and speaking of boobies...this movie is NOT the breast-filled sex romp its title and posters would indicate. While there are a few bare breasts here and there, they are irrelevant to the plot and only seen very briefly (1/2 second or so) in all but one scene. So, if you are a perv, this movie is not for you--though a few places in the film (such as the nurse undressing for a patient) make it look like the film MIGHT have, at one time, been designed as a porn flick.<br /><br />If you are a bad movie fan, however, there is enough to whet your appetite. Some examples of incompetence are the inability of many of the actors to deliver lines that aren\\'t zombie-like--and I am not even talking about Sherri. Especially noticeable is one of the very final scenes--I have never seen and heard some stilted acting and dialog in my life--and this includes Ed Wood\\'s films! There are also a few more cheap touches, such as the bad animation of the \"green stuff\", the doctor finding a murdered nurse yet continuing to investigate in a house where walls are covered in blood (I\\'d get a cop...better yet, an army of cops).<br /><br />So despite these problems, why do I think it\\'s good for an Adamson film? Well, the story isn\\'t all bad and he was able to build tension very well. Many false alarms early on made my heart race a bit. Also, the car crash, while irrelevant, came off pretty well and was practically big-budget for Adamson.<br /><br />Overall, not a good film and one most people would be bored watching. However, fans of Adamson or inept films will like it--it does deliver some entertainment in a cheesy manner that will provide a few laughs.',\n",
       " \"Wow, another Kevin Costner hero movie. Postman, Tin Cup, Waterworld, Bodyguard, Wyatt Earp, Robin Hood, even that baseball movie. Seems like he makes movies specifically to be the center of attention. The characters are almost always the same ... the heroics, the flaws, the greatness, the fall, the redemption. Yup, within the 1st 5 minutes of the movie, we're all supposed to be in awe of his character, and it builds up more and more from there.<br /><br />And this time the story ... story? ... is just a collage of different movies. You don't need a spoiler; you've seen this movie several times, though it had different titles. You'll know what will happen way before it happens. This is like mixing An Officer and a Gentleman with Backdraft, but both are easily better movies. Watch Backdraft to see how this kind of movie should be made ... and also to see how an good but slightly underrated actor, Russell, plays the hero.\",\n",
       " 'I bought this on VHS as \"Terror Hospital\", and when I got home I checked IMDb and was like OMG it\\'s the legendary \"Nurse Sherri\"!!! So here\\'s another one from Al Adamson, who had clearly learned some minuscule amount about film-making since the \"Blood of Dracula\\'s Castle\" days. Where that earlier effort is a more or less totally sclerotic lump, this one mixes it up a little, adding a definite element of variety and surprise amid the incompetence. Sure half of the movie is a blind post-op football player shooting the breeze with his stacked nurse, but at any moment we might be cutting away to the cackling disembodied head of the satanist mastermind, or Nurse Sherri running a farmer through with a pitchfork, or a wee bit of abstract student-film quick cutting to go with the pulsing-blob effects in the possession scene, or the most gratuitously half-hearted topless bit ever, or god knows what else (I forget, to be honest). As dumb-ass pieces of sh*t go, this one runs toward the high end. Congrats, Al.',\n",
       " 'The film opens with a cult leader attempting to resurrect a dead member with his followers chanting for his rebirth as the sun strikes upon them in the desert. Reanhauer(Bill Roy)believes wholeheartedly in his power, and gets so worked up that he collapses with what appeared to be a heart attack. Unable to keep him alive, all those involved, doctors and nurses, are sentenced for attack with Reanhauer\\'s demonic spirit invading the curvaceous body of nurse Sherri(..big-chested Jill Jacobson)targeting each one using her as a tool of vengeance. Forced against her will, with no memory of inflicting such harm, Sherri\\'s host body murders selected victims. Fortunately, Sherri\\'s fellow co-worker, nurse Tara(Marilyn Joi)begins a rather blossoming romance with a blinded patient, Marcus Washington(Prentiss Moulden), once a star football player, whose mother was a practitioner of voodoo. Through Marcus\\' knowledge, passed down from mom, Tara finds out about possession and how to possibly save Sherri before she murders everyone unknowingly. Meanwhile, Sherri\\'s lover, Dr. Peter Desmond(Geoffrey Land)worries about her present condition and welfare.<br /><br />Well, this was my first Al Adamson film and I must agree with his detractors that, just from this film alone, it seems he holds them together with paper clips and Elmer\\'s glue. The animation with which we see the spirit take control of Sherri is beyond awful and rather laughable. A little soft-core nonsense as filler, some demonic possession thrown in the mix(Sherri actually speaks in another voice when she\\'s possessed), with naughty nurse behavior(..the three nurses focused on in the film all are quite sexually active and free-spirited)and a little bit violence/gore. The film is essentially shot in tiny rooms with dull dialogue from a rather mundane cast. The sexual situations aren\\'t that hard-core and Al often shoots them without revealing all that much. The film looks embarrassingly cheap and there\\'s an absence of thrills, although the chilling score(..which sounds like something from Dark Shadows)does help a little bit. Jacobson and Mary Kay Pass(..as nurse Beth who seems to be a nymphomaniac if she\\'ll even screw a nutty patient, always complaining of illnesses he really doesn\\'t have, with enough chest hair to declare him a Neanderthal)aren\\'t bad looking, and Adamson\\'s story-line, although frail, is somewhat coherent(..it seems he rarely directs films which are). Overall, the movie looks like it cost 5 bucks and Adamson just can not overcome the budgetary restrictions(..or, in my opinion, create an unpleasant enough atmosphere due to a sometimes plodding narrative and tedious scenes which do little for the story). John F Goff has the role of the hospital\\'s psychiatrist who wants to commit Sherri, not believing the idea that she was possessed;he constantly bickers with Peter over her. I watched the unrated \"lost\" version which I guess is the real version to watch of Nurse Sherri.',\n",
       " 'Art-house horror tries to use unconventional aesthetics to cover the fact that this is just another serial killer chiller which ultimately relies on pornographic combinations of teen sexuality and violent gore. The suburbs come across about as well as they do in every piece of Australian writing (book or film) since 1960 - surprise surprise, the suburbs have a dark underbelly - and the plot is as contrived as any you\\'ve seen. \"The neighbours would never know about this guy,\" one of the filmmakers says about Joel Edgerton\\'s character. \"But he was completely plausible as to what he was. Serial killers don\\'t all have patches over their eyes and scars down their cheeks. They look like the guy next door.\" Another trader in pornographic violence who sees a serial killer in every street. But the real insignificance of this film is in the fact that it\\'s a genre film that nobody saw. Backed by substantial funds (including some from Film Finance - that\\'s government), this got a run at the Underground Film Festival in Melbourne and had to rely on ACMI kindness for a *very* short release season. Q1: What is the FFC doing funding genre flicks, even if they are \\'arty\\' and aesthetically unconventional? Q2: Why are these nasty movies (ACOLYTES; BEAUTIFUL; PUNISHMENT; NO THROUGH ROAD) being made in the first place? Richard Wolstencroft & co encourage their creators to believe they\\'re giving the masses what they really want, as opposed to what the culture elite in government funding think they want. The truth is that these brutal and forgettable nasties earn far more critical acclaim - and win far more obscure awards - than they\\'re due.',\n",
       " 'I was completely bored with this film, melodramatic for no apparent reason. Every thing just becomes so serious and people are swearing with really dumb expressions. Then there is a serial Killer who apparently can Kill one person to get the title of serial Killer. Well the serial Killer likes butterflies and is illustrated by sound effects you might hear in the dream sequence of most modern films;<br /><br />why oh why? I nave no idea. It really really wants to be scary, but I think in this universe scary equals talk a whole bunch and add dark ambient noises.Just for the record, this is in no way is a horror film, its most definitely a thriller (barely). Really movie makers nowadays need to do their homework before making \"horror\" films or at least calling a movie a \"horror\" film. it makes me say (in too may words ironically) \"acolytes, you take forever to say nothing.\"',\n",
       " \"A rather lame teen slasher from Brisbane. While the plot hinges on a fairly decent idea, the writing is profoundly lame and two of the three main teens are absurdly wooden. The problem is that for the kids to go through with their plan they have to be far more reckless than shown, but if they were that devil-may-care, it would perhaps be hard for them to be likable, so they end up being neither really. In fact, I only started enjoying the film when I started wishing for their death. One of those movies where in about a thousand places the most sensible option would be to call the police. I realise we wouldn't have a movie if they did, but it would be nice if we could believe that they actually wouldn't. Avoid.\",\n",
       " 'This was a decent movie for the first half. Too many cheap BOO! moments but the tension builds, the bad guys are creepy and everything seems to be setting itself up nicely. The kids are not particularly deep but hey, that works for teens. <br /><br />Then it just gets ridiculous and tries way too hard- the \"why in the world would he/they do that?\" moments overwhelm anyone\\'s capacity for suspension of disbelief, the twist involves too many ridiculous coincidences, and the title comes from a late attempt to philosophize some meaning into the film that goes nowhere and is quickly dropped. There was laughter in the theater at moments that were in no way supposed to be funny. <br /><br />Great premise but just badly written and doesn\\'t hold together. Some very nice shots but they\\'re hard to enjoy while you\\'re rolling your eyes.',\n",
       " 'Acolytes presents an interesting mix of original concepts in \"screaming teen\" cliché horror with a more thriller-like pacing. In some ways Acolytes is very successful, but in many other ways the film fails miserably.<br /><br />Overall Acolytes avoided the typical archetypes of the naivety and innocence of youth of endless horror films in the like of Cabin Fever, Texas Chainsaw Massacre, and countless other films where unsuspecting and relatively naive and innocent teenagers, have sex, run around screaming and one-by-one are plucked off by some sort of monster. Instead this innocence is replaced with pride, retaliation, and arrogance. The characters had several opportunities to save themselves from immanent death and despair, but failed to do so due to their own personal demons. In the end you were left with the feeling that there were no (and perhaps are no) innocent victims.<br /><br />As the name implies, the film also touches greatly on following a leader or authority. This was used in a direct sense of if the main character would become like the serial killer and was also used less directly throughout the film. Following a central figure is a reoccurring theme throughout the film.<br /><br />Through all this, the film makers also incorporated a lot of cliché, which I suspect was intentional and gave the film a unique mixture of depth as well as shallowness which I found intriguing. This, perhaps inadvertently, plays well with the characters who are, at first appearance very shallow but as the story unfolds it becomes obvious that they are, at least the two main male characters, quite complex.<br /><br />Technically the film has a lot of problems however. The cinematography, which is typically regarded highly, I find rather sophomoric and over-stylized, utilizing formulaic 2/3 approaches far too rigidly. Many transitions I felt were also over-stylized. The use of symbolism was not only vague, but also greatly over used.<br /><br />The plot was poorly planned and relied exclusively on misinformation in order to achieve a rather hokey twist ending, which was poorly resolved and leaves viewers confused. Methods used to resolve the climax are cheap and ill-prepared, motivations are routinely unclear, and major plot points remain untied in the end.<br /><br />Overall, the film\\'s relative originality, themes and thesis are lost in a maze of poor technical execution, over-stylized imagery, unclear motives, obtuse and unnecessary symbolism and cheap twists maintained only by a lack of or entirely incorrect information.<br /><br />If the film were better executed, it would have been excellent. However, Acolytes receives only two stars in my opinion.',\n",
       " 'I caught this on IFC last week and I thought it was typical of the indie short subject film: heavy on style, little on substance and originality. Does it comes as any surprise that a coming out film stars an unusually attractive (and blond to boot) boy with 70s shag hair and too-cool-for-school clothes? Plus, this film wallows in late 1970s chic, which works for some (Sofia Coppola\\'s \"The Virgin Suicides\" comes to mind) but not for this director.<br /><br />Another reviewer compared this to Harmony Korine\\'s work and I agree. Yet I don\\'t view this as a positive thing (what has HE done lately, anyway?). \"Bobbycrush\" is really just a waste of time and energy for all involved. If you happen to see it late night on cable, turn the channel and watch something else instead.',\n",
       " 'It\\'s Saturday, it\\'s raining, and I think every movie should have at least one comment... so I just watched \"The Crime Doctor\\'s Courage\" all the way through. It\\'s a murder mystery with a typical cast of characters, and a couple of the usual suspects -- each with their own possible motive for the crime. The story starts abruptly and the viewer is thrown into the plot with no character development or storytelling whatsoever. I guess that\\'s not too surprising for a B movie of this period. There are also some moments which look and feel like this is pre-WWII, but perhaps that is due to the writer\\'s background in radio shows.<br /><br />The \"Crime Doctor\" is the sleuth who happens to be visiting California for some R&R from his psychiatry practice on the East coast. He hooks up with a mystery novelist friend with whom it is implied has been along for one or more previous mystery solving capers. The novelist occasionally fills the role of sidekick to our sleuth (AKA Dr. Watson), and also occasionally lightens things up with a bit of comic relief (sort of).<br /><br />There is also a somewhat simple, but not quite bumbling police captain who at times is annoyed by the meddling sleuth. And then there are the mysterious Braggas, a brother and sister who are dance artists at a night-club. The dance is sort of an interpretive dance that happens to be one of those moments which feels more like the 30\\'s than the 40\\'s. Though the story location is California, the Braggas appear to live in a castle!<br /><br />There was one plot element which managed to keep me somewhat amused, but I won\\'t divulge any more than that because I always enjoy movies more when the story is discovered, rather than known in advance. (even though I can think of many, many, B films which would rate higher and it is difficult to say that watching this one is time well spent) I have not seen any other movies from the \"Crime Doctor\" series, so I can\\'t make any comparisons.',\n",
       " 'Frightmare begins with a horror movie icon killing a director and then his servant before he is laid to rest. This icon, who has some Christopher Lee qualities to him, then continues to haunt those around him when a group of horror film society students steal his corpse from the mausoleum he is in.<br /><br />The first ten minutes is well-filmed, good writing and lots of potential for murderous mayhem. But the film drags in the middle (although thankfully not as much as \"House of Death\") and never really gets that initial spurt of energy back.<br /><br />Lots of the deaths are confusing, as they seem to have people just falling over scared when they see a floating coffin or other odd things. Twice we see poisonous gas being used. But the box promises that this horror star will be the embodiment of all the monsters he has played. Boy, is that false advertising, unless he spent his career playing boring old men who take naps and watch \"Matlock\".<br /><br />The general principle of the film is decent: horror society kids stealing a corpse of a dead icon. A modern equivalent (digging up Vincent Price or Peter Cushing) would make a great film. Maybe a remake is in order if that wouldn\\'t be too disrespectful. Sometimes theory doesn\\'t come across as well in application, and this film offers that example.<br /><br />The only redeeming quality of this film (besides the beginning) is the brief appearance of a very young Jeffrey Combs. I saw him and thought \"that\\'s Jeffrey Combs\" but felt I was mistaken as the box never mentioned him. But sure enough, Combs was present. (A note to this movie\\'s film-makers: mention Combs on the cover of the DVD, you\\'ll sell more copies if if you would be deceiving customers.) If you\\'re a Jeffrey Combs die-hard, check out this early role. Otherwise, I cannot offer this as a great selection for a horror movie marathon. Let me suggest \"Intruder\" or \"Popcorn\", as those are both pretty decent and will stand the test of time.',\n",
       " \"Alas, another Costner movie that was an hour too long. Credible performances, but the script had no where to go and was in no hurry to get there. First we are offered an unrelated string of events few of which further the story. Will the script center on Randall and his wife? Randall and Fischer? How about Fischer and Thomas? In the end, no real front story ever develops and the characters themselves are artificially propped up by monologues from third parties. The singer explains Randall, Randall explains Fischer, on and on. Finally, long after you don't care anymore, you will learn something about the script meetings. Three endings were no doubt proffered and no one could make a decision. The end result? All three were used, one, after another, after another. If you can hang in past the 100th yawn, you'll be able to pick them out. Despite the transparent attempt to gain points with a dedication to the Coast Guard, this one should have washed out the very first day.\",\n",
       " 'My parents used to rent a lot of horror movies when I was a child. We loved watching them even when they were bad they made for some enjoyment. This was one such movie, kind of hard to review as I have only seen it the one time as a child, but it is not anything I want to track down again so I can do a more in-depth review. The story has some old horror actor legend dying. I seem to remember he acted a bit like an over the top Vincent Price, without being likable and classy. He commits murders and dies, but what is this? Is the movie over already? No, as some kids for some reason snag the body and are prepared for a fun night of being killed by the ham from beyond the grave. I remember the murders were nothing all that special after the first couple and I remember this movie was rather disappointing. Seemed to have a good premise, but it just failed to deliver the goods as more cool kills were needed and that super horror actor needed to add a bit to his repertoire.',\n",
       " 'One of the last surviving horror screen greats - Conrad Radzoff - dies and has his body placed in a mausoleum with televised-before-death snippets of the great Conrad greeting you as you visit. Unfortunately for him and his captors, Conrad\\'s body is \"borrowed\" by a gang of four boys and three girls and taken to a huge manor where they drink with him, toast him, dance with him, laugh with and at him, and then put him to bed in a casket which just happens to by lying in a room upstairs. News of the missing body reaches Radzoff\\'s widow and her friend(who happens to be proficient in the black arts) and she holds some kind of ceremony that brings Conrad back to life so he can, in his own words, get \"an eye for an eye, a tooth for a tooth.\" Well, Frightmare is an interesting \"bad\" film. Sure, it is cheap. The sets look like they were borrowed(which I am sure they were). The special effects and blood and guts are done liberally and with little credibility. The acting is average to below average with a few exceptions. Jeffrey Combs of Re-Animator fame is in tow, but really he does little in this rather thankless role as a horror obsessed teen that needs to steal a dead man\\'s body for kicks. None of the \"kids\" except the pretty girl playing Meg is any good. Nita Talbot plays the \"friend\" of the Radzoffs with withering interest. Also, look for the big - I mean big - guy that plays the policeman. That is Porky himself of Porkys fame. But thankfully for all of us, one performance does rise above the material. Ferdy Mayne, an oft overlooked actor from Germany who had Christopher Lee features and did star as a vampire in The Fearless Vampire Killers, does a more than commendable job as the aging horror icon in public life and a real demon of a man in private life. Conrad Radzoff in a bad human being in life, living solely for his own pleasures and we see him kill twice before he is even dead(obviously none of the swinging teens at that point). Mayne is able to look very regal, speak very elegantly, and convey menace with ease. If for no other reason, one should see Frightmare for his performance. I do; however, believe that when they showed black and white clips of Radzoff that they used Christopher Lee footage(anyone have any thoughts?). Anyway, one can guess what happens and it does indeed: Radzoff goes out and goes after the kids that disturbed his peace. Again, the formula is trite and overused. The acting for the most part is anemic, and the direction oh so ridiculous. But Mayne gives a good performance in a sea of ineptitude. Definitely worth a little peek. Watching Mayne keep popping up on screens in his mausoleum brought a wry smile to my lips each time.',\n",
       " 'Conrad Radzoff(Ferdy Mayne), a hammy cult icon, dies from a heart ailment(not before disposing of an ungrateful assistant and TV commercial director, both of whom disrespected him with showers of insults). His body is removed from his mausoleum by some film students(they wish to \"invite him to dinner\"..they are quite big fans). What these kids(..including a young Jeffrey Combs)don\\'t expect is that Radzoff will be resurrected by a medium to wreak havoc on those who removed him from his place of rest.<br /><br />The list of violent acts include Radzoff pulling one guy\\'s tongue out, setting a woman on fire, elevating a casket which crushes a woman\\'s face, decapitates one fellow, and cremates another guy alive in a coffin. A really weird soundtrack and pesky fog wraps around Radzoff\\'s ghoulish activities.<br /><br />Silly hokum from Troma is limited by a very, very low budget and slowwwwww pace. The film feels a lot longer than it is. The film isn\\'t really that gory and we can hardly see much violence because the film is often too damn dark. At times, Radzoff is an ominous presence, yet at other times he just looks real silly.',\n",
       " 'I don\\'t get it! The teenage leads in \"Horror Star\" supposedly all are devoted horror fans, yet when their favorite idol (Conrad Radzoff) passes away, they dig up his corpse and do all sorts of disrespectful stuff with it, like disco-dancing it around the house and throw food leftovers at it. That doesn\\'t sound like something real horror fans would do, now does it? I\\'m a big horror fan and I immensely idolize departed icons like Vincent Price, Peter Cushing and Boris Karloff, but it would never come to my mind to ridicule their memory. No wonder Conrad comes back from the dead \\x96 admittedly, after a séance \\x96 to wipe them all off the face of the earth! Mr. Radzoff already wasn\\'t known for his friendliness in life, since he occasionally killed the directors that disagreed with his visions, and even after his death he suffers from a tremendous ego. Even inside his tomb there are video messages to petrify possible visitors and the group of teenagers will vividly experience that he also enjoys the murdering business outside his film sets. \"Horror Star\" (a.k.a. \"Frightmare\" and \"Body Snatchers\") is a pretty lame 80\\'s horror flick, but there are a handful of cheesy & gory highlights to enjoy. The film mainly suffers from its own stupid plot, since no one \\x96 not even a film school student \\x96 is stupid enough to steal a recently buried corpse and actually think he\\'ll get away with it, and there are too many tedious moments to struggle through. Conrad\\'s video-speeches from beyond the grave are overly talkative and definitely undermine the tension, but on the other hand his killing methods are pleasingly inventive. One teenager enjoys the experience of getting cremated alive and another one (Jeffrey Combs in one of his first roles!) loses his head in a delightful decapitation sequence. In the absolute messiest sequence, a poor girl\\' head is crushed by a coffin. Writer/director Norman Thaddeus Vane wanted to bring homage to vintage horror cinema and he obviously how to make film look sinister. The locations and scenery are great, but Vane lacked the necessary funds to provide his film with a proper continuity and editing-job. The acting performances are overall decent, with Ferdy Mayne (imitating Christopher Lee) and Jeffrey Combs delivering the most memorable roles. \"Horror Star\" can hardly be called a must-see or even a good film, but it\\'s worth tracking down in case you\\'re an admirer of enthusiastically made B-horror.',\n",
       " '1983\\'s \"Frightmare\" is an odd little film. The director seems to be trying to combine the atmosphere of classic \\'30s/\\'40s style horror movies with the shock factor of the then-exploding \\'80s slasher genre. It isn\\'t totally successful (mostly due to very obvious budgetary restraints, and the less-than-professional caliber of its cast of young actors) but it still has its moments, mostly due to the classy performance (classier than the movie deserves) by the late German actor Ferdinand Mayne, who plays an aging old time horror movie star (ala Vincent Price) named \"Conrad Ratzoff.\" At the beginning of the movie we meet the has-been horror star as he\\'s shooting a commercial for dentures and we quickly learn that ol\\' Conrad is a bit of a hoity-toity, prima donna jerk-off. Just when you think he couldn\\'t be any more un-likable, the commercial director berates Conrad for blowing a take for the umpteenth time and the old goat pushes him off a balcony to his death. Nice, huh? Conrad then visits some fans at a college campus horror movie club, unfortunately he suffers a heart attack in the middle of his speech to them and eventually ends up back at his mansion waiting to die. Still feisty even at Death\\'s door, he manages to do away with a despised business associate by smothering him with a pillow before he finally kicks the bucket himself. Conrad is then laid to rest in true Hollywood style in a high tech neon tomb with video screens above the casket, which will play personal video messages from Conrad himself for visitors who enter to pay their respects.<br /><br />It is at this point that the kids from the college Horror Movie Society decide to pay Conrad\\'s grave an after hours visit, breaking into the tomb and taking his body back home with them for an all night party. (Not exactly my idea of fun, but hey, these are characters in an \\'80s horror film. Logic has no place here.) The college kids spend the evening having dinner with Conrad\\'s body seated in a place of honor, posing for photos with it and even dancing around the room with it, before parking Conrad and his coffin in the attic, planning to return him to his crypt in the morning. In the meantime, Mrs. Ratzoff, distraught over the theft of her husband\\'s body, has called in a psychic friend to try and \"reach\" Conrad through a seance. You can pretty much figure out the rest from here. Since Conrad wasn\\'t a very nice guy in life, it\\'s not much of a stretch to assume that he won\\'t be any friendlier in death. Psychic Lady makes contact with Conrad and he re-awakens in predictably ticked off fashion, then spends the rest of the movie strolling around the corridors of the students\\' ridiculously huge house, picking off the young grave robbers one by one. This is where the movie falls apart. Endless scenes of teens wandering around empty hallways saying \"Hello? Is anyone there?\" are intercut with occasional bursts of violence (we do get a pretty gnarly decapitation scene, which is the highlight of the movie) before the last two survivors finally figure out (WAY later than any semi-intelligent people would have figured out the same thing...but again, we\\'re in an \\'80s horror film!) that the only way to stop the mayhem is to get Conrad\\'s body back to its crypt where it belongs. The sluggish pacing is padded out with a lot of weird lighting and dry ice fog effects backed by a soundtrack made up almost entirely of sound effects rather than music(thunder, moans and groans, howls, etc.) that becomes severely annoying after a while.<br /><br />I can\\'t really recommend \"Frightmare\" to anyone who didn\\'t grow up watching cheap movies like this on late night cable back in the \\'80s. \"Modern Horror\" fans will doubtlessly find \"Frightmare\" incredibly slow moving and goofy. If you came of age in that magical decade, however, you may get a blast of nostalgia from \"Frightmare.\" Fans of Jeffrey (\"Re-Animator\") Combs may also want to check it out, as the future Dr. West appears in an early role here as one of the unlucky film students.<br /><br />I will advise the reader to avoid the version of this film on the EastWestDVD label (paired with Roy Ward\\'s \"Vault of Horror\" and sold at dollar stores) because the print quality is terrible. I\\'m told the film has gotten a deluxe release via the fine folks at Troma, which seems appropriate. If you\\'re a Troma kind of person then \"Frightmare\" will be right up your alley.',\n",
       " \"I thought maybe... maybe this could be good. An early appearance by the Re-Animator (Jeffery Combs); many homage's to old horror movies; the Troma label on the front\\x85 this movie could be a gem! I thought wrong.<br /><br />Frightmare is a boring, overplayed, half assed homage to the fright films of yore. The story is an old one, young people breaking into a house, getting drunk, making love, and tampering with things that shouldn't be tampered with. The oft \\x96 recycled slasher film formula is used here, this time with a thought to be dead actor named Conrad Radzoff doing the killing. In fact, the performance by the Radzoff's actor Ferdy Mayne is the only redeeming quality of this film. He does the snooty Dracula style character very well. But as for the kids, its not so good, with Combs only having a minimal part.<br /><br />The film lacks entertainment value, and only features one cool character, and one or two scenes that can hold your attention. I do not recommend this film unless you are desperate for something to watch, and this is the only movie left at blockbuster.\",\n",
       " 'This show should be titled, \"When Bad Writing Happens To Good Actors\" considering most of the players have demonstrated immense talent in other venues, e.g. Andre Braugher in Homicide: Life on the Street and David Morse in St. Elsewhere. I\\'m hoping that the frenetic pacing of the show is adjusted as the series develops along with the obvious cliches and dialogue so absurd I wondered just how stupid the writers imagined the core audience to be. We\\'re beat over the head with the main points of this show instead of being left to gradually figure it out, almost as if the writers feel that they must spell out that the main character is some sort of avenging angel, sentenced to redeem himself from sins, both venial and mortal, via butting into his cab fares many affairs. Watching the premiere required much suspension of disbelief, that Mike Olshanskey\\'s fares would so rapidly spill their guts and he would feel driven to intervene in the lives of utter strangers. That he possesses those \"Super-Cop\" abilities, to be all things to all people, weapons expert, martial arts master, psychologist, father-confessor, locksmith, and so on, ad infinitum. Pure drivelesque fantasy. What is it about recent televisions shows based in Philidelphia that they all seem to be imbued with a nasty ex-wife and a very disrepectfully bratty child? Overdone. I wanted to like this show, really I did, because it had the virtue of having a premise slightly different than many of the clones appearing in this season\\'s fare and it stars some of my preferred actors. But I\\'m afraid this is just another possibly good idea ruined by careless execution.',\n",
       " 'generally speaking I don\\'t make negative comments on here. But since this is a festival piece, I don\\'t want you to waste your time when you could see something else that might not be playing again.<br /><br />I thought the actors were pretty bad. For instance, they totally didn\\'t play off each other, rather, they waited to RECITE their lines which were pretty poor to begin with. The dialogue sounded really forced. Norman or whatever his name tried, or so it would appear, to be witty and biting in the lines he chose but just fell really short.<br /><br />After words he asked if anyone saw the ending coming and some people were all \"yea\", and he all but called them liars. Look there were so many clues, the biggest being a briefcase full of cash for a $500 an hour whore. I mean the john gave her at least 20g\\'s... tell tale sign. Now no you couldn\\'t see exactly what was going to happen but by the time the twist actually occurred, I for one, didn\\'t even care. I was just glad to get out of there. I asked him which draft he shot and he said 8.1, maybe next time he will wait to shoot \\'til 15.3 cause this needed a lot of work.<br /><br />But he seemed like a fairly nice guy, he is making his own films, he\\'ll probably get better and I hope he does, not in a snotty way either, I mean it, I wish him luck. Just remember, this is just my opinion.',\n",
       " \"That snarl...<br /><br />That scowl...<br /><br />The acts of random violence...<br /><br />The gutteral voice...<br /><br />The fetish wear...<br /><br />That shaven head...<br /><br />It can mean only one thing...<br /><br />GRACE JONES IS BACK!<br /><br />Actually my sources tell me that the title role in Blade wasn't played by the 1980s diva, but by Wesley Snipes.<br /><br />All in all this is not an improvement.<br /><br />Blade is an adaptation of a comic character; somehow in the transfer from the simplistic, two-dimensional world of the printed page it has become even more simplistic and lost a couple of dimensions.<br /><br />The plot is hackneyed almost beyond belief and adds nothing to the vampire genre, in fact, much like Nosferatu, it seems to suck the life out of the audience. In brief, upwardly mobile vampire wants to become more powerful but is opposed by Blade, half-human, half-vampire, all annoying. It all climaxes with Blade being put in a vampire juice press, some bad martial arts and the most pitiful CGI since 1968.<br /><br />Blade has to be the least empathic character since Dolph Lundgren's Punisher (also a comic adaptation, perhaps there is a trend here?). Surely the audience is meant to be on the same side as the 'hero'? And whilst a vampire can be a tragic character, this is not true of Blade, he is relentlessly cruel, scornful and not a whole lot better than the bad guys.<br /><br />I assume that Wesley Snipes has an 'acting' career purely so that everyone else can be compared favourably. As he snarls his way through his movie you find yourself looking for a stake - even a ballpoint pen - anything to put Blade in the grave. <br /><br />As a piece of narcissism, Blade is pretty much unbeatable - we are treated to endless lingering shots of a gym-fresh Snipes for no reason whatsoever. Likewise no other actor is allowed any chance to give a reasonable performance; the likes of Steven Dorff *CAN* act, but they have to play second fiddle to Snipes' tedious performance.<br /><br />Kris Kristofferson used to appear in good movies, here he is reduced to a sidekick that you just know isn't going to make it through to the final reel. And what happens when Blade finds out? Yes, you guessed it, he rushes to the scene to wreak his revenge in the villain's giant underground lair.<br /><br />Why can't world-domination take place in a quiet country house? They always go ahead in underground cathedrals that would have had Albert Speer wondering if they were a little grandiose. A lot of these plans could be stopped right now if local councils paid more attention to plans for extending sub-basements. <br /><br />The rest of the movie is just as dull and unimaginative with nothing new to add to the genre. Vampires have been done to undeath and perhaps they should be laid to rest for a while - at least until someone can think of some way to make them interesting again.<br /><br />To finish, there *IS* a Grace Jones vampire movie, it's called Vamp and it's about ten times better than this.\",\n",
       " \"Not like I went in expecting a lot out of it, but I was at least hoping for a fun dumb big budget movie. This isn't even that. This item ranks in the bottom half of all the vampire movies I've ever seen (and believe me, I've seen a lot of them). Bad acting, zero characterization, little to no thought, almost non-existent plot (and that that's there you can drive semi-trucks through the holes in). Sure, it has action and is loud, and has more action, and more noise, and blood, and action... These things alone do not make a good (or even halfway decent) movie. Beats me how some people can say this is the best vampire movie ever made--all I can assume is they haven't seen many. I suggest seeing Near Dark instead.\",\n",
       " 'I wish I knew what to make of a movie like this. It seems to be divided into two parts -- action sequences and personal dramas ashore. It follows Ashton Kutsher through survival swimmer school, guided by Master Chief Kevin Costner, then to Alaska where a couple of spectacular rescues take place, the last resulting in death.<br /><br />I must say that the scenes on the beach struck me as so stereotypical in so many ways that they should be barnacle encrusted. A typical bar room fight between Navy guys and Coast Guardsmen (\"puddle pirates\"). The experienced old timer Costner who is, as an elderly bar tender tells him, \"married to the Coast Guard.\" The older chief who \"keeps trying to prove to himself that he\\'s still nineteen.\" The neglected ex wife ashore to whom Kostner pays a farewell visit. The seemingly sadistic demands placed on the swimmers by the instructors, all in pursuit of a loftier goal. The gifted young man hobbled by a troubled past.<br /><br />The problem is that we\\'ve seen it all before. If it\\'s Kevin Costner here, it\\'s Clint Eastwood or John Wayne or Lou Gosset Jr. or Vigo Mortenson or Robert DeNiro elsewhere. And the climactic scene has elements drawn shamelessly from \"The Perfect Storm\" and \"Dead Calm.\" None of it is fresh and none of the old stereotyped characters and situations are handled with any originality.<br /><br />It works best as a kind of documentary of what goes on in the swimmer\\'s school and what could happen afterward and even that\\'s a little weak because we don\\'t get much in the way of instruction. It\\'s mostly personal conflict, romance, and tension about washing out.<br /><br />It\\'s a shame because the U. S. Coast Guard is rather a noble outfit, its official mission being \"the safety of lives and property at sea.\" In war time it is transferred to the Navy Department and serves in combat roles. In World War II, the Coast Guard even managed to have a Medal of Honor winner in its ranks.<br /><br />But, again, we don\\'t learn much about that. We don\\'t really learn much about anything. The film devolves into a succession of visual displays and not too much else. A disappointment.',\n",
       " 'I\\'m gettin\\' sick of movies that sound entertaining in a one-line synopsis then end up being equal to what you\\'d find in the bottom center of a compost heap.<br /><br />Who knows: \"Witchery\" may have sounded interesting in a pitch to the studios, even with a \"big name cast\" (like Blair and Hasselhoff - wink-wink, nudge-nudge) and the effervescent likes of Hildegard Knef (I dunno, some woman...).<br /><br />But on film, it just falls apart faster than a papier-mache sculpture in a rainstorm. Seems these unfortunate folks are trapped in an island mansion off the Eastern seaboard, and one of them (a woman, I\\'d guess) is being targeted by a satanic cult to bear the child of hell while the others are offed in grotesque, tortuous ways. <br /><br />Okay, right there you have a cross-section of plots from \"The Exorcist\", \"The Omen\", \"Ten Little Indians\" and a few other lesser movies in the satanic-worshippers-run-amok line. None of it is very entertaining and for the most part, you\\'ll cringe your way from scene to scene until it\\'s over.<br /><br />No, not even Linda Blair and David Hasselhoff help matters much. They\\'re just in it to pick up a paycheck and don\\'t seem very intent on giving it their \"all\". <br /><br />From the looks of it, Hasselhoff probably wishes he were back on the beack with Pam Anderson (and who can blame him?) and Linda... well, who knows; a celebrity PETA benefit or pro-am golf tour or whatever it is she\\'s in to nowadays.<br /><br />And the torture scenes! Ecchhhh. You\\'ll see people get their mouths sewn shut, dangled up inside roaring fireplaces, strung up in trees during a violent storm, vessels bursting out of their necks, etc, etc. Sheesh, and I thought \"Mark of the Devil\" was the most sadistic movie I\\'d seen....<br /><br />Don\\'t bother. It\\'s not worth your time. I can\\'t believe I told you as much as I did. If you do watch it, just see if you can count the cliches. And yes, Blair gets possessed, as if you didn\\'t see THAT coming down Main Street followed by a marching band.<br /><br />No stars. \"Witchery\" - these witches will give you itches.',\n",
       " \"I and a friend rented this movie. We both found the movie soundtrack and production techniques to be lagging. The movie's plot appeared to drag on throughout with little surprise in the ending. We both agreed that the movie could have been compressed into roughly an hour giving it more suspense and moving plot.\",\n",
       " 'Humm, an Italian movie starred by David hasselhoff and Linda Blair, I wasn´t expecting very much, to be honest and in fact, I took even less than I was expecting. It doesn´t mean this movie is the worst I have seen because I have watched worse things than this but the plot was most of the times confusing and uninteresting and some good gore scenes are the only thing saving this. Apart from that you are going to love some special effects, they are really cheesy and bad. Now I only want to watch \"Troll 3\" by this same director, sure it is not going to be worse than that.',\n",
       " 'We brought this film as a joke for a friend, and could of been our worst joke to play. The film is barely watchable, and the acting is dire. The worst child actor ever used and Hasslehoff giving a substandard performance. The plot is disgraceful and at points we was so bored we was wondering what the hell was going on. It tries to be gruesome in places but is just laughable.<br /><br />Just terrible',\n",
       " \"This only gets bashed because it stars David Hasselhoff. Well, then let me bash it to. Compared to the garbage they call horror coming out nowadays, this film isn't too bad. It has the beautiful Leslie Cumming. She is super hot, but can't talk very well. There is a great scene with her when she is supernaturally raped. She shows off her nice body. Linda Blair does nothing here as well as Hasselhoff. 3/10\",\n",
       " \"I watched this movie purely for the setting. It was filmed in an old hotel that a friend owns shares of. The plot was predictable, the acting was mediorcre at best, the scares were all gross-outs, not true scares.<br /><br />I don't remember much of the plot, and I think that's because there wasn't much of one to remember. They didn't even use the hotel to it's fullest potential...The beaches are fantastic and the hotel is situated on a peninsula. At low tide, you can walk almost 1/4 mile into the bay, which is actually an eerie sight first thing in the morning or late at night when the wind is howling through the cracks.<br /><br />The best way to see this movie is with the remote in your hand so you can fast forward through the action (and I'm using that term loosly)scenes and pause at the beauty of the surroundings!\",\n",
       " 'This film features two of my favorite guilty pleasures. Sure, the effects are laughable, the story confused, but just watching Hasselhoff in his Knight Rider days is always fun. I especially like the old hotel they used to shoot this in, it added to what little suspense was mustered. Give it a 3.',\n",
       " \"A really very bad movie, with a very few good moments or qualities.<br /><br />It starts off with pregnant Linda Blair, who runs down a hallways to flee what might be monsters or people with pitchforks, I'm not sure. She jumps through a window and wakes up, and we see she is very pregnant. The degree to which she is pregnant varies widely throughout the movie.<br /><br />She and an annoying and possibly retarded little boy who I thought was her son travel to an abandoned hotel on an island. Italian horror directors find the most irritating little boys to put in their movies! On the island already are David Hasselhoff and his German-speaking virgin girlfriend (you know how Germans are said to love Hasselhoff...). He's taking photographs, and she's translating an esoteric German book about witches, I think.<br /><br />Also traveling to the island are an older couple who have purchased it, and a real estate agent, and a woman I thought was their daughter. Evidently she was an architect, and Linda Blair and the boy are the older couple's children. I guess they all traveled to the island together, but it really seemed like Linda and the boy were apart from the rest of them (maybe they were filmed separately).<br /><br />The hotel seems neat, certainly from the exteriors, but it isn't used to any great effect. An old woman in bad makeup and a black cloak keeps appearing to the boy and chants something in German sometimes, which he eventually records on his Sesame Street tape recorder.<br /><br />People start getting killed, either in their dreams, or sucked into hell or something. Some of these gore scenes are OK, but not enough to recommend the movie. Though the copy I watched stated it is uncut on the box cover, the death of one character whose veins explode really seems to have been cut. Much of the scene is showing another character's reaction shots, since we're not seeing anything ourselves. The creepiest scene is one in which a man or demon with a really messy-looking wound of a mouth rapes someone. He looked particularly nasty. There's a laughably and painfully bad scene in which Linda Blair is possessed. I wish if a horror movie is going to cast her, they would do something original with her role, and let her leave Exorcist behind her (except for the yearly horror conventions).<br /><br />In the weird, largely Italian, tradition of claiming to be a sequel to something it is unrelated to, this is also AKA La Casa 4 and Ghosthouse 2. That is, it is supposedly a sequel to Casa 3 - Ghosthouse, La (1988) - it's not (that's also a better movie than this one). La Casa 1 and two were The Evil Dead (1981) and Evil Dead II (1987) - again unrelated to Witchery and La Casa 3 (and much better than those). There's also a Casa 5, La (1990) AKA House 5, which seems to want to be a sequel to the fake La Casa series and the series House: House (1986) House II: The Second Story (1987), The Horror Show (1989) AKA House III, and House IV (1992). How's The Horror Show fit in there? It doesn't really, it claimed to be a sequel, thus requiring the real series entry to renumber itself to cause less (or more?) confusion. Oddly, The Horror Show is also AKA Horror House, and La Casa 5 is also AKA Horror House 2. Does your head hurt yet?\",\n",
       " 'Witchy Hildegard Knef traps a group of people in an isolated hotel and picks them off one by one in twisted, disgusting ways. I thought I\\'d seen it all until one unfortunate man here is crucified and then has his head set on fire. Hildy is quite the prankster too: she takes a nagging harpy and sews her mouth shut...then hangs her upside down in the chimney just in time for a roaring fire! \"Witchery\" made me sick. It made my eyes hurt. I was ready to write it off as the worst movie ever-ever-ever made by otherwise competent people...until the finale. I have to admit I loved the ending. It involves a boy and his toy tape-recorder cornered by Linda Blair looking fantastically possessed. The scene only lasts for about a minute and the movie\\'s over, but you know that old saying: \"If you\\'ve got a great ending, people will forgive you for just about anything!\"',\n",
       " '\"Witchery\" might just be the most incoherent and lamentably scripted horror movie of the 80\\'s but, luckily enough, it has a few compensating qualities like fantastic gore effects, an exhilarating musical score and some terrific casting choices. Honestly the screenplay doesn\\'t make one iota of sense, but who cares when Linda Blair (with an exploded hairstyle) portrays yet another girl possessed by evil powers and David Hasselhof depicts a hunky photographer (who can\\'t seem to get laid) in a movie that constantly features bloody voodoo, sewn-shut lips, upside down crucifixions, vicious burnings and an overused but genuinely creepy tune. Eight random people are gathered together on an abandoned vacation resort island off the coast of Massachusetts. The young couple is there to investigate the place\\'s dark history; the dysfunctional family (with a pregnant Linda Blair even though nobody seems to bother about who the father is and what his whereabouts are) considers re-opening the hotel and the yummy female architect simply tagged along for casual sex. They\\'re forced to stay the night in the ramshackle hotel and then suddenly the previous landlady \\x96 an aging actress or something who always dresses in black \\x96 starts taking them out in various engrossing ways. Everything is somehow related to the intro sequence showing a woman accused of witchery jump out of a window. Anyway, the plot is definitely of minor importance in an Italian horror franchise that started as an unofficial spin-off of \"The Evil Dead\". The atmosphere is occasionally unsettling and the make-up effects are undoubtedly the most superior element of the entire film. There\\'s something supremely morbid and unsettling about staring at a defenseless woman hanging upside down a chimney and waiting to get fried.',\n",
       " 'A tough sell: British playwright Ronald Harwood adapts his autobiographical stage drama into loud, bellowing film about WWII Shakespearean theatrical troupe saddled with an aged, blustery, brilliant-but-unreliable star at the end of his tether. The actor\\'s effete assistant works diligently to get his master coiffed and costumed for a production of \"King Lear\" (during an Air Raid!), yet both men are losing their grip on their unraveling situation. Based on the waning years of actor Donald Wolfit, whose dresser was Ronald Harwood, this acclaimed production would seem to be a welcome haven for scenery-chewing thespians. Unfortunately, Albert Finney (at this point in his career, not at all elderly) seems too robust and quick-thinking to play the actor; Finney (and Oscar-nominated director Peter Yates) cannot modulate Sir\\'s moods and bouts of coherency in a way that makes sense to us, so that in one scene he\\'s stopping a train with the commanding echo of his voice, and in the next he\\'s curiously falling apart. With such a wreck of a human being in the midst of failing health and aptitude, one would assume a dedicated assistant would go to great lengths to protect his boss (and his future), yet servant Tom Courtenay prods and badgers and goads Finney to carry on rather than rest. Courtenay, who played this part on stage (and was nominated for an Oscar alongside Finney for Best Actor), is far more attuned to his role, and eventually his bleating commands and confusion achieve the only real feeling in the film. These two, thankfully, do not peck at each other\\'s heads, and scenarist Harwood is careful not to fall into a love-hate pattern (which could possibly be perceived in the film\\'s first act); but, without a juxtaposition of servant vs. celebrity, there\\'s nothing much to behold in this portrait except for the deterioration of narcissism, the hint at what once was. *1/2 from ****',\n",
       " 'Witchcraft/Witchery/La Casa 4/ and whatever else you wish to call it. How about..Crud.<br /><br />A gathering of people at a Massachusetts island resort are besieged by the black magic powers of an evil witch killing each individual using cruel, torturous methods. Photographer Gary(David Hasselhoff)is taking pictures for Linda(Catherine Hickland whose voice and demeanor resemble EE-YOR of the Winnie the Poo cartoon), a virgin studying witchcraft, on the island resort without permission. Rose Brooks(Annie Ross, portraying an incredibly rude bitch)is interested in perhaps purchasing the resort and, along with husband Freddie(Robert Champagne, who is always ogling other women much younger than him), pregnant daughter Jane(Linda Blair)and grandson Tommy(Michael Manchester, who just looks bored throughout, probably wanting to watch Sesame Street instead of starring in this rubbish), go by boat to the resort being treated to a look at the property by Realtor Tony Giordano\\'s son Jerry(Rick Farnsworth), obviously a pup in the business getting his feet wet. Along with these folks is architect Leslie(Leslie Cumming, whose character is a nympho)who might help Rose re-design the resort. The boat\\'s captain is killed by The Lady in Black(Hildegard Knef, wearing her make-up and lip-stick extra thick)and a storm is brewing. The boat drives off by itself(..guided by the invisible power of The Lady in Black, I guess)with everyone stuck in the decrepit resort, which is in dire need of repairs. Most of the victims, before meeting their grisly fates are carried through a type of red wormhole whose vortex leads to another dimension(..perhaps a type of hell or something)where they are tortured by these fiends dressed in raggedy clothes with a crummy visage. One victim has her mouth sown before being hung upside down in a chimney, roasted as the others light the fireplace. One poor soul is tortured by harsh twistings of rope wrapped tightly around her flesh before being found hanging from the snout of a swordfish penetrating through her neck. One fellow is slowly suffocating as his veins bulge(..and bleed) and neck\\'s blood vessels burst squirting in Hasselhoff\\'s face! One fellow is crucified with nails hammered into his hands before being hung upside down over an open flame. Blair\\'s pregnant victim becomes possessed with her hair standing on end speaking in another woman\\'s voice. One is raped by this demonic man with a \"diseased\" mouth as the hellish hobos stand nearby gleefully cheering. The film, despite it\\'s excesses, is mostly dull fodder for those who really wish to see the lowest point in the careers of Hasselhoff and Blair, who deserve better than this. Almost unbearable at times, building little-to-no suspense. Clumsy execution of the death sequences which look cheap and laughable. Sure some gore is okay, but most of the film shows victims after they\\'ve been run through the ringer. We do get a chance to see pregnant women(..who look exactly like stuntmen in costume with bad wigs) jumping out three story windows. Oh, and The Lady in Black\\'s reflected face often pops up on inanimate objects for characters to see. Tommy has a little Sesame Street recorder which tapes The Lady in Black\\'s mumbo jumbo chants, obviously used for later. For some reason, The Lady in Black likes to visit little Tommy. He\\'s not at all scared of her, for Tommy\\'s just too bored to show any expression on his face, much less fear. Need I say more? This one\\'s a real stinker. Ugh.',\n",
       " 'There are many different versions of this one floating around, so make sure you can locate one of the unrated copies, otherwise some gore and one scene of nudity might be missing. Some versions also omit most of the opening sequence and other bits here and there. The cut I saw has the on-screen title WITCHCRAFT: EVIL ENCOUNTERS and was released by Shriek Show, who maintain the original US release title WITCHERY for the DVD release. It\\'s a nice-looking print and seems to have all of the footage, but has some cropping/aspect ratio issues. In Italy, it was released as LA CASA 4 (WITCHCRAFT). The first two LA CASA releases were actually the first two EVIL DEAD films (retitled) and the third LA CASA was another film by the same production company (Filmirage), which is best known here in America as GHOSTHOUSE. To make matters even more confusing, WITCHERY was also released elsewhere as GHOSTHOUSE 2. Except in Germany, where GHOSTHOUSE 2 is actually THE OGRE: DEMONS 3. OK, I better just shut up now. I\\'m starting to confuse myself!<br /><br />Regardless of the title, this is a very hit-or-miss horror effort. Some of it is good, some of it isn\\'t. I actually was into this film for the first half or so, but toward the end it became a senseless mess. A large, vacant hotel located on an island about 50 miles from Boston is the setting, as various people get picked off one-by-one by a German- speaking witch (Hildegard Knef). Photographer Gary (David Hasselhoff), who wants to capture \"Witch Light,\" and his virginal writer girlfriend (Leslie Cumming), who is studying witchcraft, are shacking up at the hotel without permission. Along comes real estate agent Jerry (Rick Farnsworth), who\\'s showing off the property to potential buyers Rose (Annie Ross) and Freddie (Robert Champagne) Brooks. Also tagging along are their children; pregnant grown daughter Jane (Linda Blair) and very young son Tommy (Michael Manchester), as well as oversexed architect Linda Sullivan (Catherine Hickland - Hasselhoff\\'s wife at the time). Once everyone is inside, their boat driver is killed (hung) and the boat disappears, so they find themselves trapped and basically at the mercy of the \"Lady in Black.\"<br /><br />So what can you expect to find here? Plenty of unpleasantries! One of the characters has their lips sewn shut and is then hung upside down in the fireplace and accidentally slow-roasted by the rest of the cast. There\\'s also a crucifixion, witches eating a dead baby, a swordfish through the head, someone set on fire, a possession, a Sesame Street tape recorder, the virgin getting raped by some demon, a guys veins bulging and exploding thanks to voodoo doll pokes and some other stuff. From a technical standpoint, it\\'s a nice-looking film with pretty good cinematography, a decent score and good gore effects. The hotel/island setting is also pretty nice. Blair (particularly at the end) and Ross both seem like they\\'re having fun and Knef is great as the evil witch. Even though people like to ridicule Hasselhoff these days, he\\'s not bad in his role, either.<br /><br />On the down side, despite all the gore, the film seems somewhat dull and it gets monotonous after about an hour. The supernatural themes are muddled and confusing, too. When characters are being swept into the witches lair to be tortured and killed, the filmmakers unwisely decided to superimpose the screaming actors over some silly looking red spiral vortex effect that looks supremely cheesy. And the witch lair itself is vacant and cheaply designed with unfinished lumber. And while most of the cast is at least decent, a few of the performances (particularly the \"actress\" who plays Hasselhoff\\'s girlfriend and the kid) are so bad they\\'re constantly distracting.',\n",
       " 'Oh my... bad clothing, worse synth music and the worst: David Hasselhoff. The 80\\'s are back with vengeance in Witchery, an American-Italian co-production, helmed by infamous Joe \\'D\\'Amato on the production side and short-careered director (thank heavens for small miracles) Fabrizio Laurenti directing . Marketed as a kind of sequel to Sam Raimi\\'s Evil Dead series in Italy (that was dubbed \"La Casa\" in there), Witchery delivers some modest gore groceries and bad acting.<br /><br />A mix of ghost story, possessions and witchcraft, the film bounces clueless from scene to another without letting some seriously wooden actors and hilarious day and night mix-ups slow it\\'s progress to expectable ending, topped with some serious WTF surprise climax. (I just love the look on her face...) Surprisingly Laurenti manages to gather some suspense and air of malice in few - very few - scenes; unluckily for him, these few glimpses of mild movie magic go down quickly and effectively.<br /><br />The plus sides are experienced, when the gore hits the fan. This department is quite effective and entertaining in that classic latex and red paint style of the 80\\'s Italo-gore, when things were made 100% hand-made and as shockingly and vivid as modest budgets could allow. I could only watch with sadistic glee and few laughters all the over-the-top ways that obnoxious characters (and actors) got mangled and misused, one by one. I only felt sorry for Linda Blair, who apparently haven\\'t been let to try any other than that good old possessed girl / woman role ever in his career, or so it looks like when checking out his filmography.<br /><br />Well, folks - not much more to tell, and even less to tell home about. Don\\'t expect too much when spending some rainy afternoon with this, and probably you\\'ll experience at least some mild fun. It also helps if your rotten little heart pounds in the beat of 80\\'s euro gore horror. And speaking of hearts - every movie that has David Hasselhoff getting skewered by a sizeable metal object and bleeding heavily around the room and corridors, MUST have it\\'s one on the right place.<br /><br />This is my truth - what is yours?',\n",
       " \"An Italian/American co-production co-starring Linda Blair and David 'The Hoff' Hasselhoff: how could any fan of trashy horror resist such a treat?<br /><br />Well, based on the uneventful, extremely tedious, and utterly nonsensical first forty minutes or so, I would have said 'very easily'; thankfully, however, things do eventually get a tad more entertaining with the introduction of several inventive death scenes, and for those lucky enough to find an uncut copy, a smattering of nudity too (unfortunately, my copy was optically edited to remove such offensive material).<br /><br />The Hoff stars as Gary, a photographer who accompanies his beautiful girlfriend Leslie (Leslie Cumming) to a run-down hotel on a seemingly deserted island in order to take pictures for her latest project, a book about witches; whilst there, frustrated Gary also hopes to try and cure a bad case of blue balls by relieving Leslie of her virginity.<br /><br />His plans for nookie are scuppered, however, by the unexpected arrival of property developers Freddie and Rose Brooks (Robert Champagne and Annie Ross), their pregnant daughter Jane (Blair), son Tommy (Michael Manchester), pretty nymphomaniac architect Linda Sullivan (Catherine Hickland), and estate agent Jerry (Rick Farnsworth), who have come to inspect the island's hotel.<br /><br />After explaining their unexpected presence on the island, Gary and Leslie are welcomed by the property's new owners, and when a violent storm suddenly picks up, making it perilous to return to the mainland, everyone agrees to spend the night in the old building. Unfortunately, unbeknownst to the hotel's new guests, the place is also home to the spirit of an evil witch (Hildegard Knef), who requires human sacrifices in order to bring herself back to life. One by one, victims are pulled into a swirling red vortex (which is guaranteed to provide unintentional laughs), before meeting a terrible fate.<br /><br />None of this makes much sense, and the acting is atrocious (Manchester as Tommy is particularly bad, whilst Hasselhoff proves to be one of the better performers, which speaks volumes about the others), but those viewers who make it past the dreary first half are rewarded with some pretty decent moments of gore: Rose has her lips sewn together, before being roasted alive in a fireplace; Jerry is crucified and burnt alive; Linda is tortured by hags and impaled on a swordfish(!!); Freddie's veins pulsate and erupt in geysers of blood; and Gary gets stabbed in the back.<br /><br />Oh, and Leslie is raped by a guy with no lips and Blair gets possessed (again).\",\n",
       " 'Talented screenwriter Alvin Sargent sadly cannot get any engaging ideas cooking in this artificial trifle about a wayward mother and her mature teenage daughter trying to make their lives work in Los Angeles despite mom\\'s flighty behavior. Apart from several good sequences, I didn\\'t quite buy Susan Sarandon as a flake (she\\'s too intrinsically smart and focused to be passed off as this devil-may-care lady), and her naturally grounded personality is a bad fit for the role of an irresponsible parent. Natalie Portman fares much better as her kid, and yet there\\'s a creepy aloofness to her work (and some of her scenes, such as the one where she asks a boy to strip, are misguided and uncomfortable to watch). Certainly not an incompetent piece, \"Anywhere But Here\" does have moments that work, but it isn\\'t an embraceable film, nor has it proved to be an important one. ** from ****',\n",
       " \"This film is about a couple that decides to take a vacation to The Everglades along with another couple and the family dog. When they first get there, they are not welcomed by the neighboring gas attendant that warms them to stay away from the cabin in which they are to spend the night at for the week. After pestering with the old man, three hillbillys also do not take kindly to their arrival as they approach their car and threaten them to leave. After asking some of the local dummies that can't speak or just don't want to answer, they finaly find the cabin. After they settle in, strange things happen to the visitors including discovering crap on their car, the man thats the head of this trip thats an idiot shoots the family dog thinking it was a killer clawing at the door and a series of deaths later on in the end. Adding a church group did not make the story any better. Then at the end, the idiot that survives the whole ordeal goes around the town carrying a shot gun. Lame. thats what this movie is.\",\n",
       " 'An obscure horror show filmed in the Everglades. Two couples stay overnight in a cabin after being made a little uneasy by the unfriendliness of the locals. Who, or what, are the Blood Stalkers? After awhile they find out. Watch for the character of the village idiot who clucks like a chicken, he certainly is weird.',\n",
       " 'OK, so my summary line is a cheap trick. But the movie is full of them and it gets absurdly praised, so...<br /><br />I caught this one on TV (uncut, as TV here shows all movies, that\\'s for you Americans who might say I didn\\'t like it because I saw a cut TV version - fortunately that\\'s only an US thing), and had no idea about what it was. I switched on, caught the last minutes of a show, and the movie began. Within a minute, I was begging it was a comedy, given the particularly ridiculous clichéd beginning (yes, it\\'s a bad movie-within-the-movie, I know, but what a way to try to keep the viewer interested! I don\\'t even know why I didn\\'t switch channels). And, yes, in fact the movie turned out to be a comedy, albeit an unintentional one.<br /><br />Marina Zudina is pretty enough, but gosh, what a dreadful performance! While casting a foreigner in the role is smart enough (she doesn\\'t talk so bye bye language barrier), yet, sorry, Marina baby, playing mute doesn\\'t mean impersonating Harpo Marx. Her acting is unintentionally funny in many moments, just look at her when she draws an X in the air while stalked by the killer. He wants to kill you, it\\'s no time to play Zorro. We get plenty of \"running upstairs\" stuff passing for tension, as in the worst slashers, and things like pulling a carpet and a bad guy shots the other. Ugh! Will Hollywood ever learn? Yet the best/worst pearl is having a guy electrocuted in a bathtub and... Well, I have never seen anyone being electrocuted to death in a bathtub, but I\\'m sure you can\\'t see the blue cartoon rays in real life, do you? And how about immediately trusting a mean-looking guy because he SAYS he\\'s a cop, and not asking him to show you his credentials? OK, so he turns out to be a real cop. But still, not asking for the badge makes no sense (plot-wise, we could always think the credentials might be phony or he might be a crooked cop. Screen writing 101). And how about the big twist? Don\\'t tell me you didn\\'t see that coming from 200 miles away...<br /><br />I feel sorry for poor old Alec Guinness and his useless stock footage cameo. Now I think about this, what\\'s the point in giving him a \"Mystery Guest Star\" credit... in the END titles? The movie\\'s over, there\\'s no mystery anymore, and everybody and their brother have identified Guinness (even non-movie buffs will recognize \"the old guy from \\'Star Wars\\'\"). Yet better off this way, so we can pretend it\\'s not the late great actor.<br /><br />People keep comparing this to, of all people, Hitchcock. I suppose it has to be John Hitchcock the milkman, as the late Sir Alfred would feel embarrassed out of watching this, let alone making it. And this gets a 6.8/10???? It\\'s Bottom 100 material! But then, we\\'re talking a rating system that allows \\'The Lord of the Rings: The Return of the King\\' to appear as the third best movie ever made (check Top 100), so...<br /><br />2/10.',\n",
       " \"I found this movie really hard to sit through, my attention kept wandering off the tv. As far as romantic movies go..this one is the worst I've seen. Don't bother with it.\",\n",
       " \"No, no, no, no, no, no, NO! This is not a film, this is an excuse to show people dancing. This is just not good. Even the dancing is slow and not half as entertaining as the mediocre 'Dirty Dancing', let alone any other good dance movie.<br /><br />Is it a love story? Is it a musical? Is it a drama? Is it a comedy? It's not that this movie is a bit of all, it's that this movie fails at everything it attempts to be. The film turns out to be even more meaningless as the film progresses.<br /><br />Acting is terrible from all sides, the screenplay is definitely trying to tell us something about relationship but fails miserably.<br /><br />WATCH FOR THE MOMENT - When Patrick Stewart enters the scene and you think the film might get better as he brightens up the dull atmosphere. For a second.\",\n",
       " 'Blake Edwards\\' legendary fiasco, begins to seem pointless after just 10 minutes. A combination of The Eagle Has Landed, Star!, Oh! What a Lovely War!, and Edwards\\' Pink Panther films, Darling Lili never engages the viewer; the aerial sequences, the musical numbers, the romance, the comedy, and the espionage are all ho hum. At what point is the viewer supposed to give a damn? This disaster wavers in tone, never decides what it wants to be, and apparently thinks it\\'s a spoof, but it\\'s pathetically and grindingly square. Old fashioned in the worst sense, audiences understandably stayed away in droves. It\\'s awful. James Garner would have been a vast improvement over Hudson who is just cardboard, and he doesn\\'t connect with Andrews and vice versa. And both Andrews and Hudson don\\'t seem to have been let in on the joke and perform with a miscalculated earnestness. Blake Edwards\\' SOB isn\\'t much more than OK, but it\\'s the only good that ever came out of Darling Lili. The expensive and professional look of much of Darling Lili, only make what it\\'s all lavished on even more difficult to bear. To quote Paramount chief Robert Evans, \"24 million dollars worth of film and no picture\".',\n",
       " 'A sprawling, overambitious, plotless comedy that has no dramatic center. It was probably intended to have an epic vision and a surrealistic flair (at least in some episodes), but the separate stories are never elevated into a meaningful whole, and the laughs are few and far between. Amusing ending, though. (*1/2)',\n",
       " 'Okay, so it was never going to change the world, and it bombed at the box office, but Honky Tonk Freeway is one of those films I fell in love with as a child (the BBC showed it a few times during the 1980s and I happened to have a high quality VHS tape in the machine - lucky, that!) and watched endlessly. I watched the DVD last night and sadly, time has not been kind to this would-be blockbuster. Either that or I\\'ve just grown out of this kind of broad, dopey humour. Come on, when Schlesinger is so desperate for laughs he gives us close-ups of novelty underpants with \\'amusing\\' slogans, what can you say about the cast or screenplay?<br /><br />Certainly, it\\'s ambitious, interesting, unusual and sprawling, but it\\'s never once laugh-out-loud funny. I\\'d describe it as a children\\'s film with some \\'adult\\' overtones - you can safely let your youngsters watch this, despite the 15 certificate. They won\\'t get the drug references, so don\\'t worry about it. I had a pleasant surprise when I realized I\\'d forgotten just how catchy both the title song and the song-writing truck driver\\'s \\'Everybody\\'s Going Faster, Faster\\' song were, not to mention the town of Ticlaw\\'s patriotic anthem. The whole cast give commendable performances, the photography is crisp and captures the mood of the various locations perfectly, and there\\'s a real time capsule feeling about the fashions, the cars, the gadgets (especially the dashboard-mounted drum machine), the interiors and the pop-culture references - I was more than a little surprised to hear the nutty bum in the bank loudly telling everyone \"I\\'m OJ Simpson!\", particularly now Simpson\\'s legal tangles have overshadowed his sporting achievements. The snag is, there\\'s almost no plot to speak of, it\\'s way too obvious to be witty and not funny enough to elicit many genuine laughs. I wish I\\'d left this one as a pleasant memory.',\n",
       " \"STMD! is not a terrible movie, but it IS quite forgettable. The lighting is intentionally poor in many scenes and unintentionally poor in all the rest, so you are likely to come out of a viewing with a headache or eye-strain. Special effects are imaginative, but obvious. The gratuitous nudity essential for teen slasher flicks is there, of course, along with the archetypical teenagers, but the whole movie just doesn't gel. What was needed was some snappier dialogue and more tongue-in-cheek humor.<br /><br />I can't really recommend that you use your time watching this movie. I often give a nod to a movie based on just a scene or two that demonstrates imagination or humor, but these are sadly lacking in this film.\",\n",
       " \"Now I understand that this took two months to shoot. Really? I'm pretty certain my crew could do it in less than a week. This movie sucked so bad I couldn't even pay close attention. Just more proof that boob bearing women can't always save you from horrible writing, acting and direction. Now I understand it was a no budget endeavor, but there is also no continuity and no real reason to not to turn it off and watch infomercials or foreign news in a language you don't understand. Oh, there are a few decent looking females showing the goods. Still, there aren't enough sexy women alive to warrant watching this travesty perpetrated on the film industry. One of the longest 80 minutes of my life. I trooped it out though with the help of my old friend Jim Beam. Do yourself a favor and get your gun ready cuz you may want to use it after this hack job. Lastly, the individual (moron) who left a comment before mine thought this was a great movie and LOVED it. Just more proof that siblings shouldn't pro-create. Ow, BURN!!! - Captain J\",\n",
       " 'Seeing the title of this movie \"Stupid Teenagers Must Die\" made me believe this was a spoof of some kind. I discovered later on the original title was \"Blood and Guts\". Both titles are misleading, though. This is not a spoof, neither a serious splatter movie. This is something in between, failing in both areas. A group of teenagers is attending a séance at a spooky house and then the killing starts. Sounds over familiar, doesn\\'t it. Well, this movies adds nothing whatsoever to the endless stream of similar movies. And it is badly made. Because of the lack of light the entire film is grainy. Now this effect can be highly effective, but it isn\\'t in this case. The young cast isn\\'t acting too badly, but the director has no clue as what to do with actors. In numerous scenes the actors are clearly waiting for directions, but these are given too late. It could also be an editor\\'s mistake, of course. The characters are unrealistic and the story line just stinks. The sound is terrible at times: conversations are undecipherable, but when talking loudly or screaming the actors are very loud indeed.<br /><br />This is not the worst horror movie I have ever seen, but it still is a bad one. For me a 3 out of 10.',\n",
       " \"I have no idea how anyone can give this movie high marks. I didn't rent it thinking it was the next great horror flick, the next great horror spoof, or the next great low-budget horror spoof. Obviously, this isn't meant to scare, but one fatal flaw with the production entirely sapped the joy out of the viewing experience. The sound editing was horrible. I had to work the volume control the entire movie. You can imagine how difficult it is to get into something - even a low-budget spoof - when you're either turning the volume up or down, or trying to anticipate the next time you have to do so. The regular dialogue is very low, and all screams, noises, etc., are VERY loud. We're not talking about toggling between 5 and 7 on the volume control, finding a happy medium at 6. We're talking toggling between 2 and 9 on the volume where it is virtually impossible to leave the volume alone. Again, this movie might be a decent example of what it is meant to be, but you're going to be spending so much time adjusting your volume control that you'll never have the chance to enjoy it.\",\n",
       " \"Widow hires a psychopath as a handyman. Sloppy film noir thriller which doesn't make much of its tension promising set-up. (3/10)\",\n",
       " \"I can't believe the high marks people have given this film on this site. The writing is incredibly bad with people coming in at just the right time and revealing exactly what the heroine is doing to try to escape. (Don't you just hate it when that happens?). And the acting is so very, very bad that you may get a splinter in your eye from all the scenery being chewed.<br /><br />A nut is holding her hostage, children are outside the open screen, so she whimpers for help instead of screaming when only a moment ago she was brave enough to be smashing windows to yell to these same children.<br /><br />She's finally free and alone in the house. Her chance to go for help, so what does she do? Wanders around the house and lies down. She's in the basement, locked away. So what does she do? Takes a little nap. Come on! Most of the movie is the nut wandering away and finding her sitting there snoozing when he wakes her up. Four times! What? If the writer is too bored to actually write a real plot why should we be paying attention? I think the key here is that it was originally a play for the radio, so they filled in with the heroine just sitting around rather than pretending to be screen writers and actually writing any action.<br /><br />And the ending is horrendous.<br /><br />The whole movie is completely implausible, horribly written and almost comically acted. Beware this movie at all costs!\",\n",
       " 'Wow, what an overrated movie this turned out to be! It was supposed to be \"an extremely suspenseful tale of a crazed killer holding a woman hostage and in terror in her home.\" Well, I doubt it terrorized audiences in the early \\'50s and I know it would put today\\'s audiences asleep.<br /><br />\"Sends shivers down the spine,\" proclaims the New York Times. No, the only shivers I get is that anyone is left on the planet who believes anything the N.Y. Times prints about anything.<br /><br />Well, it was about a deranged man who held a woman hostage for a short time in her house but the man. \"Howard Wilton\" (Robert Ryan) was actually harmless and friendly. In fact, this was one of the nicest roles Ryan ever played! Yes, \"Wilton\" was nuts but he never harmed the woman and only wanted a friend to trust.<br /><br />The film even turned boring after awhile with very little going on except a lot of yakking. <br /><br />Beware, my reader.....this sucks.',\n",
       " 'Artificial melodrama with a screenplay adapted by Mel Dinelli from his play \"The Man\" concerns a boarding-house proprietress taking in a troubled handyman who may be homicidal. Despite solid work from Ida Lupino and Robert Ryan (both trying their best), this tedious yarn isn\\'t very inventive within its one primary set (which quickly becomes visually dull) and underpopulated cast of characters (there is however a smart pooch who senses the worst!). Hokey and humorless, with a stilted direction from Harry Horner (perhaps Lupino should have directed?). Where\\'s all the suspense promised by the ads? Dinelli also served as a co-producer. *1/2 from ****',\n",
       " \"I'm not a big fan of musicals, although this technically might not qualify as a musical. But I thought I would give it a chance as I love war movies. It was mediocre at best.<br /><br />Hudson seems totally out of kilter in this role. It just didn't work for me. Julie Andrews probably played her part as best as she could, but I just find it hard to buy her as a conniving, deceptive spy. Sorry, I know that is classic stereotyping on my part. But I have to say I think this is Julie at her most beautiful and feminine looking. I always thought of her as more matronly, but then surely that's a result of her roles in Sound of Music and Mary Poppins. No doubt they were desperately trying to get her out of that typecasting in this role. She was quite beguiling in appearance here, but I still didn't buy her as a spy.<br /><br />I couldn't keep my focus through the whole movie and found myself tuning in and out - and having conversations with those in my room (which I usually never do - I'm always shushing everybody). So that tells you how little it held my attention. Don't waste your time!\",\n",
       " \"The only reason this movie is not given a 1 (awful) vote is that the acting of both Ida Lupino and Robert Ryan is superb. Ida Lupino who is lovely, as usual, becomes increasingly distraught as she tries various means to rid herself of a madman. Robert Ryan is terrifying as the menacing stranger whose character, guided only by his disturbed mind, changes from one minute to the next. Seemingly simple and docile, suddenly he becomes clever and threatening. Ms. Lupino's character was in more danger from that house she lived in and her own stupidity than by anyone who came along. She could not manage to get out of her of her own house: windows didn't open, both front and back doors locked and unlocked from the inside with a key. You could not have designed a worse fire-trap if you tried. She did not take the precaution of having even one extra key. Nor could she figure out how to summon help from nearby neighbors or get out of her own basement while she was locked in and out of sight of her captor. I don't know what war her husband was killed in, but if it was World War II, the furnishings in her house, the styles of the clothes, especially the children and the telephone company repairman's car are clearly anachronistic. I recommend watching this movie just to see what oddities you can find.\",\n",
       " \"Beware, My Lovely (1952) Dir: Harry Horner <br /><br />Production: The Filmmakers/RKO Radio Pictures<br /><br />Credulity-straining thriller from the pioneering producer team of Collier Young and Ida Lupino, aka The Filmmakers (with Lupino pitching in with some uncredited direction). <br /><br />Robert Ryan is the 'peril' and Ida Lupino is the 'woman' in this entry in the 'woman in peril' style film. Ryan plays Howard Wilton, a tightly-wound psychotic handyman drifter (noooo, Ryan? I know, hard to believe). Lupino is the lonely war widow, Helen Gordon, who hires Howard to do some work around her house. Things go downhill from there as Howard makes Helen a prisoner in her own home. <br /><br />Howard has a nasty secret, not that he could reveal it. You see, consciousness is a real challenge for him. Maintaining it, that is. He has an unfortunate habit of coming to and finding his employers dead. This is part of the film's problem. The nature of Howard's psychosis is so extreme that it is nearly impossible to believe that he's been free to roam from town to town unobstructed, even in the year 1918 (when the film is set). He can't remember anything that happened ten minutes ago. His violent, threatening, anti-social tendencies are set off by the smallest and most common of things (a young girl flirting, inadequacies involving the war, due to his being rejected for service). I don't know how he even made it past the interview with Helen. There are other implausibilities. If you were locked in your house with a madman, but nonetheless left on your own for periods of time, couldn't you figure out a way to escape? <br /><br />Ryan, I think, is defeated by the material. It feels like he's overplaying his hand. His series of tics and spasms and the tightly coiled bursts of dementia all have a been-there, done-that robotic feel to them. At this point in his career he'd probably played this character, to some degree, ten times and it shows. We are encouraged to empathize with Howard (I didn't) through shown bits of humanity, like him being stopped in his tracks by a music box and his relating to a group of children who won't judge him. Lupino just has to act frazzled and in distress, which she is more than capable of and does. <br /><br />The picture had one thing going for it; what would be the eventual resolution of the conflict? So naturally there was a disappointing ending that was abrupt and ineffective. <br /><br />Of slight interest was a recurring motif where the camera would catch Howard's reflection (in mirrors, water, Christmas tree decorations). This indicated something going on, or about to go on, in his head. Horner (1953's Vicki), who made his reputation in production design, does a fine job of making the house feel like a prison. Credit too, the always reliable RKO art department for the work on the house. In the end, sub-standard work from the principals, who all have much better films to their credit. <br /><br />*½ out of 4\",\n",
       " \"this film has no plot, no good acting, to be honest it has nothing, the same songs play over and over awful acting and if you can actually sit there and watch the whole thing and enjoy it there is something wrong with you. I wish i could give this 0 out of 10 but i cant so it has to be a 1 which is generous! ice-t isn't even a good rapper and even worse at acting, every bit of the film is rubbish, i got this film on DVD without knowing what it was for the price of £1.99 and thought that i had picked up a bargain, i then looked at the IMDb rating and didn't take it into consideration but after watching it found out that the DVD i had bought was a complete waste of time, money and electricity. if you have this film there are two things you can do sell it to someone who doesn't know about it or burn it!\",\n",
       " 'I quite enjoyed The Wrecking Crew (1999), which was the last of the three films in this series (the first being Urban Menace (1999) which I\\'ve yet to see). I know it was baaaaad, but the three leads did a pretty decent job, all things considered.<br /><br />This, however, was truly atrocious. Ice-T was dreadful, and he\\'s the producer! Can\\'t say I\\'ve ever heard of Silkk The Shocker (who apparently never learnt how to spell), but his performance was one of the worst I\\'ve ever seen in a movie.<br /><br />Miss Jones did pretty well in her small role, though she later went on to make some atrocious, racist \"jokes\" on her radio show after the SE Asian tsunami (plus other occasions sadly). Way to go, girl...<br /><br />No-one else comes out with any credit. Strangely, TJ Storm and Ernie Hudson (who are both pretty bad here) are far better in The Wrecking Crew, which was made, along with Urban Menace, at the same time as Corrupt. How that works, I don\\'t know.<br /><br />I\\'m going to try the Ice-T commentary now, to see whether he apologises for the film, or tries to make us think it\\'s a great piece of film-making.',\n",
       " \"The most positive points in this film were the credits (text style) and some moments in Ice-T's acting. The story-line; two rival gangs having to fight it out, with the sub-plots of betrayal, power and change are well worn plots but in this case painful(very) to wade through. The decrepit scenery, which added slight believability in places, and questionable lighting, constantly distracted from any interest/identification with the characters (the shine off of the actress's forehead/nose was blinding, not to mention other scenes with the same problem.) Not even half way into the film I wanted to know more about how and why it came about as opposed to what was going on on screen. A disappointment if you have seen Ice-T in other roles. Kudos to other actors/actresses who seemed to get into their roles despite the weak direction; Corrupt's side kick and the other restaurant worker.\",\n",
       " \"I'm the type of guy who loves hood movies from New Jack City to Baby Boy to Killa Season, from the b grade to the Hollywood. but this movie was something different. i am no hater and this movie was kinda enjoyable. but some bits were just weird. well the acting wasn't to good, compared to Silkk The Shockers performance in Hot Boyz (quite good) and Ice-T in new Jack and SVU (great). the scene where Corrupt (Ice-T) kills the wanna be Jamaican dude he says something and lights himself on fire burning both Ice-T and the other dude, this kills the Jamaican, however Ice-T is unharmed, very similar to Ice's other movie Urban Menace (which stars both of these actors) were Snoops character is supernatural, however after this there is nothing suggested that Corrupt is like a demon. When MJ (Silkk) gets stabbed at first he struggling but after that he fights normally and was stabbed in the thigh-WITH OUT BLOOD. and when MJ confesses killing a cop cos the cop was beating up his friend Benny was weird, Benny isn't introduced in this movie and the scene isn't in the film. it does hold weight to the fact why Corrupt wants to kill MJ but is still makes u scratch your head. wen Jody writes a letter to Miss Jones character explaining what happened to them afterwords doesn't mention what happen 2 other main characters MJ and Lisa. the film did show the horror and poverty of the ghetto-which plagues the lives of Latinos and Blacks word wide-was a good part of the film, even though the clip of the projects was re-used thousands of times. and the scene where Miles kills the Latino brother by crashing his bike at full speed (not wearing a helmet) and running into my Latino brothers car would of killed him. the movie was similar to the film Urban Menace and half the actors were in both of these movies as well as the production team. it was OK tho. but me being from poverty i love hood films, however if u don't love em like i do Don't WATCH IT. only thing saving me from walking out is it reminded me of the first movie i made which was made with 100 dollars, and my love of the genre.<br /><br />Nathaniel Purez\",\n",
       " 'Seriously, I can\\'t imagine how anyone could find a single flattering thing to say about this movie, much less find it in themselves to write the glowing compliments contained in this comment section. How many methamphetamines was Bogdonovitch on during the filming of this movie? Was he giving a bonus to the actor that spat his lines out with the most speed and least inflection or thought? The dialogue is bad, the plot atrocious, even for a \"screwball\" comedy, and claims that the movie is an homage to classic film comedy is about the most inane thing I\\'ve ever heard. The cinematography is below the quality and innovation of that exhibited by the worst made-for-TV movies, the acting is awful (although I get the feeling that the fault for that lies squarely in the lap of the director), and speaking of which, did I mention the direction is so haphazard and inscrutable that it defies the definition of the word? The whole thing is a terribly unfunny (even in the much-beleaguered world of so-bad-it\\'s-funny clunkers), soul-sucking, waste of two hours of your life that you\\'ll never get back. Be afraid, be very afraid...',\n",
       " \"Lowe returns to the nest after, yet another, failed relationship, to find he's been assigned to jury duty. It's in the plans to, somehow, get out of it, when he realizes the defendant is the girl he's had a serious crush on since the first grade.<br /><br />Through living in the past by telling other people about his feelings towards this girl (played by Camp), Lowe remembers those feelings and does everything in his power to clear Camp of attempted murder, while staying away from the real bad guys at the same time, and succeeding in creating a successful film at the same time.<br /><br />I've heard that St Augustine is the oldest city in the US, and I also know it has some ties to Ponce de Leon, so the backdrop is a good place to start. Unfortunately, it's the only thing good about this movie. The local police are inept, the judge is an idiot, and the defense counsel does everything in her power to make herself look like Joanie Cunningham! I don't know whether to blame the director for poor direction, or for just letting the cast put in such a hapless effort.<br /><br />In short, this movie was so boring, I could not even sleep through it! 1 out of 10 stars!\",\n",
       " '<br /><br />Never ever take a film just for its good looking title.<br /><br />Although it all starts well, the film suffers the same imperfections you see in B-films. Its like at a certain moment the writer does not any more how to end the film, so he ends it in a way nobody suspects it thinking this way he is ingenious.<br /><br />A film to be listed on top of the garbage list.<br /><br />',\n",
       " 'Four things intrigued me as to this film - firstly, it stars Carly Pope (of \"Popular\" fame), who is always a pleasure to watch. Secdonly, it features brilliant New Zealand actress Rena Owen. Thirdly, it is filmed in association with the New Zealand Film Commission. Fourthly, a friend recommended it to me. However, I was utterly disappointed. The whole storyline is absurd and complicated, with very little resolution. Pope\\'s acting is fine, but Owen is unfortunately under-used. The other actors and actresses are all okay, but I am unfamiliar with them all. Aside from the nice riddles which are littered throughout the movie (and Pope and Owen), this film isn\\'t very good. So the moral of the story is...don\\'t watch it unless you really want to.',\n",
       " 'David Bryce\\'s comments nearby are exceptionally well written and informative as almost say everything I feel about DARLING LILI. This massive musical is so peculiar and over blown, over produced and must have caused ruptures at Paramount in 1970. It cost 22 million dollars! That is simply irresponsible. DARLING LILI must have been greenlit from a board meeting that said \"hey we got that Pink Panther guy and that Sound Of Music gal... lets get this too\" and handed over a blank cheque. The result is a hybrid of GIGI, ZEPPELIN, HALF A SIXPENCE, some MGM 40s song and dance numbers of a style (daisies and boaters!) so hopelessly old fashioned as to be like musical porridge, and MATA HARI dramatics. The production is colossal, lush, breathtaking to view, but the rest: the ridiculous romance, Julie looking befuddled, Hudson already dead, the mistimed comedy, and the astoundingly boring songs deaden this spectacular film into being irritating. LILI is like a twee 1940s mega musical with some vulgar bits to spice it up. STAR! released the year before sadly crashed and now is being finally appreciated for the excellent film is genuinely is... and Andrews looks sublime, mature, especially in the last half hour......but LILI is POPPINS and DOLLY frilly and I believe really killed off the mega musical binge of the 60s..... and made Andrews look like Poppins again... which I believe was not Edwards intention. Paramount must have collectively fainted when they saw this: and with another $20 million festering in CATCH 22, and $12 million in ON A CLEAR DAY and $25 million in PAINT YOUR WAGON....they had a financial abyss of CLEOPATRA proportions with $77 million tied into 4 films with very uncertain futures. Maybe they should have asked seer Daisy Gamble from ON A CLEAR DAY ......LILI was very popular on immediate first release in Australia and ran in 70mm cinemas for months but it failed once out in the subs and the sticks and only ever surfaced after that on one night stands with ON A CLEAR DAY as a Sunday night double. Thank god Paramount had their simple $1million (yes, ONE MILLION DOLLAR) film LOVE STORY and that $4 million dollar gangster pic THE GODFATHER also ready to recover all the $77 million in just the next two years....for just $5m.... incredible!']"
      ]
     },
     "execution_count": 5,
     "metadata": {},
     "output_type": "execute_result"
    }
   ],
   "source": [
    "# import files (101 text files with positive reviews and 101 text files with negative reviews on Amazon movie platform)\n",
    "file_positives = sc.textFile(r\"C:\\Users\\peter\\OneDrive\\Документы\\Личные достижения и развитие\\Магистратура\\Research Seminar HW2\\textual dataset\\data for RS\\Positive\")\n",
    "file_negatives = sc.textFile(r\"C:\\Users\\peter\\OneDrive\\Документы\\Личные достижения и развитие\\Магистратура\\Research Seminar HW2\\textual dataset\\data for RS\\Negative\")\n",
    "\n",
    "rdd_positives = file_positives.collect()\n",
    "rdd_negatives = file_negatives.collect()\n",
    "\n",
    "rdd_positives\n",
    "rdd_negatives"
   ]
  },
  {
   "cell_type": "code",
   "execution_count": 6,
   "metadata": {},
   "outputs": [],
   "source": [
    "# perform function to remove punctuation and transform all words to lowercase to achive more credible analysis\n",
    "def lower_clean_str(x):\n",
    "    punc='!\"#$%&\\'()*+,./:;<=>?@[\\\\]^_`{|}~-'\n",
    "    lowercased_str = x.lower()\n",
    "    lowercased_str = lowercased_str.replace('<br />', '')\n",
    "    for ch in punc:\n",
    "        lowercased_str = lowercased_str.replace(ch, '')\n",
    "    return lowercased_str"
   ]
  },
  {
   "cell_type": "code",
   "execution_count": 7,
   "metadata": {},
   "outputs": [],
   "source": [
    "# we transform our instances\n",
    "file_positives = file_positives.map(lower_clean_str)\n",
    "file_negatives = file_negatives.map(lower_clean_str)"
   ]
  },
  {
   "cell_type": "code",
   "execution_count": 8,
   "metadata": {},
   "outputs": [],
   "source": [
    "# we use split function to separate the words\n",
    "file_positives = file_positives.flatMap(lambda y: y.split(\" \"))\n",
    "file_negatives = file_negatives.flatMap(lambda y: y.split(\" \"))"
   ]
  },
  {
   "cell_type": "code",
   "execution_count": 9,
   "metadata": {},
   "outputs": [],
   "source": [
    "# exclude whitespaces from the instances\n",
    "file_positives = file_positives.filter(lambda x: x!='')\n",
    "file_negatives = file_negatives.filter(lambda x: x!='')"
   ]
  },
  {
   "cell_type": "code",
   "execution_count": 10,
   "metadata": {},
   "outputs": [],
   "source": [
    "# to count the frequency of words we first need to apply transfrormation to (key, val) pair with the word as a key\n",
    "positives_count = file_positives.map(lambda word:(word,1))\n",
    "negatives_count = file_negatives.map(lambda word:(word,1))"
   ]
  },
  {
   "cell_type": "code",
   "execution_count": 11,
   "metadata": {},
   "outputs": [],
   "source": [
    "# apply reduceByKey to count frequency\n",
    "positives_count = positives_count.reduceByKey(lambda x,y:(x+y)).sortByKey()\n",
    "negatives_count = negatives_count.reduceByKey(lambda x,y:(x+y)).sortByKey()"
   ]
  },
  {
   "cell_type": "code",
   "execution_count": 12,
   "metadata": {},
   "outputs": [
    {
     "data": {
      "text/plain": [
       "PythonRDD[36] at RDD at PythonRDD.scala:53"
      ]
     },
     "execution_count": 12,
     "metadata": {},
     "output_type": "execute_result"
    }
   ],
   "source": [
    "# we need to switch the key and value to sort by the number of words\n",
    "positives_count = positives_count.map(lambda x:(x[1],x[0]))\n",
    "negatives_count = negatives_count.map(lambda x:(x[1],x[0]))\n",
    "\n",
    "negatives_count.sortByKey(False)\n",
    "positives_count.sortByKey(False)"
   ]
  },
  {
   "cell_type": "code",
   "execution_count": 13,
   "metadata": {},
   "outputs": [
    {
     "name": "stderr",
     "output_type": "stream",
     "text": [
      "[nltk_data] Downloading package stopwords to\n",
      "[nltk_data]     C:\\Users\\peter\\AppData\\Roaming\\nltk_data...\n",
      "[nltk_data]   Package stopwords is already up-to-date!\n"
     ]
    }
   ],
   "source": [
    "# we also need to exclude stopwords to make our analysis brighter\n",
    "# to exclude stopwords words, we download the nltk library and get the list of English stopwords\n",
    "import nltk\n",
    "nltk.download('stopwords')\n",
    "from nltk.corpus import stopwords\n",
    "stopwords = stopwords.words('english')"
   ]
  },
  {
   "cell_type": "code",
   "execution_count": 14,
   "metadata": {},
   "outputs": [],
   "source": [
    "# we exclude stopwords values\n",
    "positives_count = positives_count.filter(lambda x: x[1] not in stopwords).sortByKey(False)\n",
    "negatives_count = negatives_count.filter(lambda x: x[1] not in stopwords).sortByKey(False)"
   ]
  },
  {
   "cell_type": "code",
   "execution_count": 15,
   "metadata": {},
   "outputs": [
    {
     "data": {
      "text/plain": [
       "[(139, 'movie'),\n",
       " (130, 'film'),\n",
       " (113, 'one'),\n",
       " (63, 'see'),\n",
       " (58, 'good'),\n",
       " (54, 'even'),\n",
       " (49, 'great'),\n",
       " (46, 'time'),\n",
       " (44, 'like'),\n",
       " (44, 'show')]"
      ]
     },
     "execution_count": 15,
     "metadata": {},
     "output_type": "execute_result"
    }
   ],
   "source": [
    "#display the result for positive datasets\n",
    "positives_count.sortByKey(False).take(10)"
   ]
  },
  {
   "cell_type": "code",
   "execution_count": 16,
   "metadata": {},
   "outputs": [
    {
     "data": {
      "text/plain": [
       "[(177, 'film'),\n",
       " (136, 'movie'),\n",
       " (117, 'one'),\n",
       " (77, 'like'),\n",
       " (65, 'even'),\n",
       " (64, 'horror'),\n",
       " (55, 'good'),\n",
       " (51, 'bad'),\n",
       " (51, 'really'),\n",
       " (50, 'get')]"
      ]
     },
     "execution_count": 16,
     "metadata": {},
     "output_type": "execute_result"
    }
   ],
   "source": [
    "#display the result for negative datasets\n",
    "negatives_count.sortByKey(False).take(10)"
   ]
  },
  {
   "cell_type": "code",
   "execution_count": 17,
   "metadata": {},
   "outputs": [],
   "source": [
    "from pyspark.sql.types import *\n",
    "schema = StructType([StructField(\"frequency\", IntegerType(), True),\n",
    "                     StructField(\"word\", StringType(), True)])"
   ]
  },
  {
   "cell_type": "code",
   "execution_count": 18,
   "metadata": {},
   "outputs": [],
   "source": [
    "counts_df_positives = spark.createDataFrame(positives_count, schema)\n",
    "counts_df_negatives = spark.createDataFrame(negatives_count, schema)"
   ]
  },
  {
   "cell_type": "code",
   "execution_count": 19,
   "metadata": {},
   "outputs": [
    {
     "name": "stdout",
     "output_type": "stream",
     "text": [
      "root\n",
      " |-- frequency: integer (nullable = true)\n",
      " |-- word: string (nullable = true)\n",
      "\n",
      "root\n",
      " |-- frequency: integer (nullable = true)\n",
      " |-- word: string (nullable = true)\n",
      "\n"
     ]
    }
   ],
   "source": [
    "counts_df_positives.printSchema()\n",
    "counts_df_negatives.printSchema()"
   ]
  },
  {
   "cell_type": "code",
   "execution_count": 20,
   "metadata": {},
   "outputs": [],
   "source": [
    "df_positives = counts_df_positives.toPandas()\n",
    "df_negatives = counts_df_negatives.toPandas()"
   ]
  },
  {
   "cell_type": "code",
   "execution_count": 21,
   "metadata": {},
   "outputs": [
    {
     "data": {
      "text/html": [
       "<div>\n",
       "<style scoped>\n",
       "    .dataframe tbody tr th:only-of-type {\n",
       "        vertical-align: middle;\n",
       "    }\n",
       "\n",
       "    .dataframe tbody tr th {\n",
       "        vertical-align: top;\n",
       "    }\n",
       "\n",
       "    .dataframe thead th {\n",
       "        text-align: right;\n",
       "    }\n",
       "</style>\n",
       "<table border=\"1\" class=\"dataframe\">\n",
       "  <thead>\n",
       "    <tr style=\"text-align: right;\">\n",
       "      <th></th>\n",
       "      <th>frequency</th>\n",
       "      <th>word</th>\n",
       "    </tr>\n",
       "  </thead>\n",
       "  <tbody>\n",
       "    <tr>\n",
       "      <th>0</th>\n",
       "      <td>139</td>\n",
       "      <td>movie</td>\n",
       "    </tr>\n",
       "    <tr>\n",
       "      <th>1</th>\n",
       "      <td>130</td>\n",
       "      <td>film</td>\n",
       "    </tr>\n",
       "    <tr>\n",
       "      <th>2</th>\n",
       "      <td>113</td>\n",
       "      <td>one</td>\n",
       "    </tr>\n",
       "    <tr>\n",
       "      <th>3</th>\n",
       "      <td>63</td>\n",
       "      <td>see</td>\n",
       "    </tr>\n",
       "    <tr>\n",
       "      <th>4</th>\n",
       "      <td>58</td>\n",
       "      <td>good</td>\n",
       "    </tr>\n",
       "    <tr>\n",
       "      <th>...</th>\n",
       "      <td>...</td>\n",
       "      <td>...</td>\n",
       "    </tr>\n",
       "    <tr>\n",
       "      <th>3873</th>\n",
       "      <td>1</td>\n",
       "      <td>yells</td>\n",
       "    </tr>\n",
       "    <tr>\n",
       "      <th>3874</th>\n",
       "      <td>1</td>\n",
       "      <td>yoyo</td>\n",
       "    </tr>\n",
       "    <tr>\n",
       "      <th>3875</th>\n",
       "      <td>1</td>\n",
       "      <td>yuppie</td>\n",
       "    </tr>\n",
       "    <tr>\n",
       "      <th>3876</th>\n",
       "      <td>1</td>\n",
       "      <td>zandt</td>\n",
       "    </tr>\n",
       "    <tr>\n",
       "      <th>3877</th>\n",
       "      <td>1</td>\n",
       "      <td>zero</td>\n",
       "    </tr>\n",
       "  </tbody>\n",
       "</table>\n",
       "<p>3878 rows × 2 columns</p>\n",
       "</div>"
      ],
      "text/plain": [
       "      frequency    word\n",
       "0           139   movie\n",
       "1           130    film\n",
       "2           113     one\n",
       "3            63     see\n",
       "4            58    good\n",
       "...         ...     ...\n",
       "3873          1   yells\n",
       "3874          1    yoyo\n",
       "3875          1  yuppie\n",
       "3876          1   zandt\n",
       "3877          1    zero\n",
       "\n",
       "[3878 rows x 2 columns]"
      ]
     },
     "execution_count": 21,
     "metadata": {},
     "output_type": "execute_result"
    }
   ],
   "source": [
    "df_positives"
   ]
  },
  {
   "cell_type": "code",
   "execution_count": 22,
   "metadata": {},
   "outputs": [
    {
     "data": {
      "text/html": [
       "<div>\n",
       "<style scoped>\n",
       "    .dataframe tbody tr th:only-of-type {\n",
       "        vertical-align: middle;\n",
       "    }\n",
       "\n",
       "    .dataframe tbody tr th {\n",
       "        vertical-align: top;\n",
       "    }\n",
       "\n",
       "    .dataframe thead th {\n",
       "        text-align: right;\n",
       "    }\n",
       "</style>\n",
       "<table border=\"1\" class=\"dataframe\">\n",
       "  <thead>\n",
       "    <tr style=\"text-align: right;\">\n",
       "      <th></th>\n",
       "      <th>frequency</th>\n",
       "      <th>word</th>\n",
       "    </tr>\n",
       "  </thead>\n",
       "  <tbody>\n",
       "    <tr>\n",
       "      <th>0</th>\n",
       "      <td>177</td>\n",
       "      <td>film</td>\n",
       "    </tr>\n",
       "    <tr>\n",
       "      <th>1</th>\n",
       "      <td>136</td>\n",
       "      <td>movie</td>\n",
       "    </tr>\n",
       "    <tr>\n",
       "      <th>2</th>\n",
       "      <td>117</td>\n",
       "      <td>one</td>\n",
       "    </tr>\n",
       "    <tr>\n",
       "      <th>3</th>\n",
       "      <td>77</td>\n",
       "      <td>like</td>\n",
       "    </tr>\n",
       "    <tr>\n",
       "      <th>4</th>\n",
       "      <td>65</td>\n",
       "      <td>even</td>\n",
       "    </tr>\n",
       "    <tr>\n",
       "      <th>...</th>\n",
       "      <td>...</td>\n",
       "      <td>...</td>\n",
       "    </tr>\n",
       "    <tr>\n",
       "      <th>4945</th>\n",
       "      <td>1</td>\n",
       "      <td>zombielikeand</td>\n",
       "    </tr>\n",
       "    <tr>\n",
       "      <th>4946</th>\n",
       "      <td>1</td>\n",
       "      <td>zorro</td>\n",
       "    </tr>\n",
       "    <tr>\n",
       "      <th>4947</th>\n",
       "      <td>1</td>\n",
       "      <td>zudina</td>\n",
       "    </tr>\n",
       "    <tr>\n",
       "      <th>4948</th>\n",
       "      <td>1</td>\n",
       "      <td>£199</td>\n",
       "    </tr>\n",
       "    <tr>\n",
       "      <th>4949</th>\n",
       "      <td>1</td>\n",
       "      <td>½</td>\n",
       "    </tr>\n",
       "  </tbody>\n",
       "</table>\n",
       "<p>4950 rows × 2 columns</p>\n",
       "</div>"
      ],
      "text/plain": [
       "      frequency           word\n",
       "0           177           film\n",
       "1           136          movie\n",
       "2           117            one\n",
       "3            77           like\n",
       "4            65           even\n",
       "...         ...            ...\n",
       "4945          1  zombielikeand\n",
       "4946          1          zorro\n",
       "4947          1         zudina\n",
       "4948          1           £199\n",
       "4949          1              ½\n",
       "\n",
       "[4950 rows x 2 columns]"
      ]
     },
     "execution_count": 22,
     "metadata": {},
     "output_type": "execute_result"
    }
   ],
   "source": [
    "df_negatives"
   ]
  },
  {
   "cell_type": "code",
   "execution_count": 23,
   "metadata": {},
   "outputs": [],
   "source": [
    "from os import path\n",
    "from PIL import Image\n",
    "import numpy as np\n",
    "import matplotlib.pyplot as plt"
   ]
  },
  {
   "cell_type": "code",
   "execution_count": 167,
   "metadata": {},
   "outputs": [
    {
     "data": {
      "text/plain": [
       "<wordcloud.wordcloud.WordCloud at 0x174979c7c70>"
      ]
     },
     "execution_count": 167,
     "metadata": {},
     "output_type": "execute_result"
    }
   ],
   "source": [
    "from wordcloud import WordCloud\n",
    "\n",
    "frequencies_positives = df_positives.set_index('word').T.to_dict('records')\n",
    "frequencies_negatives = df_negatives.set_index('word').T.to_dict('records')\n",
    "\n",
    "wc_negatives = WordCloud(background_color=\"white\", max_words=5000)\n",
    "wc_negatives.generate_from_frequencies(dict(*frequencies_negatives))\n",
    "\n",
    "wc_positives = WordCloud(background_color=\"white\", max_words=5000)\n",
    "wc_positives.generate_from_frequencies(dict(*frequencies_positives))"
   ]
  },
  {
   "cell_type": "code",
   "execution_count": 168,
   "metadata": {},
   "outputs": [
    {
     "data": {
      "image/png": "[encoded data removed]",
      "text/plain": [
       "<Figure size 432x288 with 1 Axes>"
      ]
     },
     "metadata": {
      "needs_background": "light"
     },
     "output_type": "display_data"
    }
   ],
   "source": [
    "plt.imshow(wc_negatives, interpolation='bilinear')\n",
    "plt.axis(\"off\")\n",
    "plt.show()"
   ]
  },
  {
   "cell_type": "code",
   "execution_count": 169,
   "metadata": {},
   "outputs": [
    {
     "data": {
      "image/png": "[encoded data removed]",
      "text/plain": [
       "<Figure size 432x288 with 1 Axes>"
      ]
     },
     "metadata": {
      "needs_background": "light"
     },
     "output_type": "display_data"
    }
   ],
   "source": [
    "plt.imshow(wc_positives, interpolation='bilinear')\n",
    "plt.axis(\"off\")\n",
    "plt.show()"
   ]
  },
  {
   "cell_type": "code",
   "execution_count": 112,
   "metadata": {},
   "outputs": [],
   "source": [
    "import os, glob\n",
    "import pandas as pd\n",
    "import csv\n",
    "\n",
    "# Define relative path to folder containing the text files\n",
    "\n",
    "files_folder = r\"C:\\Users\\peter\\OneDrive\\Документы\\Личные достижения и развитие\\Магистратура\\Research Seminar HW2\\textual dataset\\data for RS\\All\"\n",
    "files = []\n",
    "\n",
    "# Create a dataframe list by using a list comprehension\n",
    "\n",
    "files = [pd.read_csv(file, quoting=csv.QUOTE_NONE, header=None, sep = r'\\t') for file in glob.glob(os.path.join(files_folder ,\"*.txt\"))]\n",
    "\n",
    "# Concatenate the list of DataFrames into one\n",
    "files_df = pd.concat(files)"
   ]
  },
  {
   "cell_type": "code",
   "execution_count": 114,
   "metadata": {},
   "outputs": [
    {
     "data": {
      "text/html": [
       "<div>\n",
       "<style scoped>\n",
       "    .dataframe tbody tr th:only-of-type {\n",
       "        vertical-align: middle;\n",
       "    }\n",
       "\n",
       "    .dataframe tbody tr th {\n",
       "        vertical-align: top;\n",
       "    }\n",
       "\n",
       "    .dataframe thead th {\n",
       "        text-align: right;\n",
       "    }\n",
       "</style>\n",
       "<table border=\"1\" class=\"dataframe\">\n",
       "  <thead>\n",
       "    <tr style=\"text-align: right;\">\n",
       "      <th></th>\n",
       "      <th>0</th>\n",
       "    </tr>\n",
       "  </thead>\n",
       "  <tbody>\n",
       "    <tr>\n",
       "      <th>0</th>\n",
       "      <td>Once again Mr. Costner has dragged out a movie...</td>\n",
       "    </tr>\n",
       "    <tr>\n",
       "      <th>0</th>\n",
       "      <td>Bromwell High is a cartoon comedy. It ran at t...</td>\n",
       "    </tr>\n",
       "    <tr>\n",
       "      <th>0</th>\n",
       "      <td>I was looking forward to this movie. Trustwort...</td>\n",
       "    </tr>\n",
       "    <tr>\n",
       "      <th>0</th>\n",
       "      <td>Scott Bartlett's 'OffOn' is nine minutes of pu...</td>\n",
       "    </tr>\n",
       "    <tr>\n",
       "      <th>0</th>\n",
       "      <td>I gave this a 3 out of a possible 10 stars.&lt;br...</td>\n",
       "    </tr>\n",
       "    <tr>\n",
       "      <th>...</th>\n",
       "      <td>...</td>\n",
       "    </tr>\n",
       "    <tr>\n",
       "      <th>0</th>\n",
       "      <td>For me too, this Christmas special is one that...</td>\n",
       "    </tr>\n",
       "    <tr>\n",
       "      <th>0</th>\n",
       "      <td>Four things intrigued me as to this film - fir...</td>\n",
       "    </tr>\n",
       "    <tr>\n",
       "      <th>0</th>\n",
       "      <td>A Christmas Together actually came before my t...</td>\n",
       "    </tr>\n",
       "    <tr>\n",
       "      <th>0</th>\n",
       "      <td>David Bryce's comments nearby are exceptionall...</td>\n",
       "    </tr>\n",
       "    <tr>\n",
       "      <th>0</th>\n",
       "      <td>Working-class romantic drama from director Mar...</td>\n",
       "    </tr>\n",
       "  </tbody>\n",
       "</table>\n",
       "<p>203 rows × 1 columns</p>\n",
       "</div>"
      ],
      "text/plain": [
       "                                                    0\n",
       "0   Once again Mr. Costner has dragged out a movie...\n",
       "0   Bromwell High is a cartoon comedy. It ran at t...\n",
       "0   I was looking forward to this movie. Trustwort...\n",
       "0   Scott Bartlett's 'OffOn' is nine minutes of pu...\n",
       "0   I gave this a 3 out of a possible 10 stars.<br...\n",
       "..                                                ...\n",
       "0   For me too, this Christmas special is one that...\n",
       "0   Four things intrigued me as to this film - fir...\n",
       "0   A Christmas Together actually came before my t...\n",
       "0   David Bryce's comments nearby are exceptionall...\n",
       "0   Working-class romantic drama from director Mar...\n",
       "\n",
       "[203 rows x 1 columns]"
      ]
     },
     "execution_count": 114,
     "metadata": {},
     "output_type": "execute_result"
    }
   ],
   "source": [
    "files_df"
   ]
  },
  {
   "cell_type": "code",
   "execution_count": 117,
   "metadata": {},
   "outputs": [],
   "source": [
    "files_df.rename(columns = {0 : 'Review'}, inplace = True)"
   ]
  },
  {
   "cell_type": "code",
   "execution_count": 118,
   "metadata": {},
   "outputs": [
    {
     "data": {
      "text/html": [
       "<div>\n",
       "<style scoped>\n",
       "    .dataframe tbody tr th:only-of-type {\n",
       "        vertical-align: middle;\n",
       "    }\n",
       "\n",
       "    .dataframe tbody tr th {\n",
       "        vertical-align: top;\n",
       "    }\n",
       "\n",
       "    .dataframe thead th {\n",
       "        text-align: right;\n",
       "    }\n",
       "</style>\n",
       "<table border=\"1\" class=\"dataframe\">\n",
       "  <thead>\n",
       "    <tr style=\"text-align: right;\">\n",
       "      <th></th>\n",
       "      <th>Review</th>\n",
       "    </tr>\n",
       "  </thead>\n",
       "  <tbody>\n",
       "    <tr>\n",
       "      <th>0</th>\n",
       "      <td>Once again Mr. Costner has dragged out a movie...</td>\n",
       "    </tr>\n",
       "    <tr>\n",
       "      <th>0</th>\n",
       "      <td>Bromwell High is a cartoon comedy. It ran at t...</td>\n",
       "    </tr>\n",
       "    <tr>\n",
       "      <th>0</th>\n",
       "      <td>I was looking forward to this movie. Trustwort...</td>\n",
       "    </tr>\n",
       "    <tr>\n",
       "      <th>0</th>\n",
       "      <td>Scott Bartlett's 'OffOn' is nine minutes of pu...</td>\n",
       "    </tr>\n",
       "    <tr>\n",
       "      <th>0</th>\n",
       "      <td>I gave this a 3 out of a possible 10 stars.&lt;br...</td>\n",
       "    </tr>\n",
       "    <tr>\n",
       "      <th>...</th>\n",
       "      <td>...</td>\n",
       "    </tr>\n",
       "    <tr>\n",
       "      <th>0</th>\n",
       "      <td>For me too, this Christmas special is one that...</td>\n",
       "    </tr>\n",
       "    <tr>\n",
       "      <th>0</th>\n",
       "      <td>Four things intrigued me as to this film - fir...</td>\n",
       "    </tr>\n",
       "    <tr>\n",
       "      <th>0</th>\n",
       "      <td>A Christmas Together actually came before my t...</td>\n",
       "    </tr>\n",
       "    <tr>\n",
       "      <th>0</th>\n",
       "      <td>David Bryce's comments nearby are exceptionall...</td>\n",
       "    </tr>\n",
       "    <tr>\n",
       "      <th>0</th>\n",
       "      <td>Working-class romantic drama from director Mar...</td>\n",
       "    </tr>\n",
       "  </tbody>\n",
       "</table>\n",
       "<p>203 rows × 1 columns</p>\n",
       "</div>"
      ],
      "text/plain": [
       "                                               Review\n",
       "0   Once again Mr. Costner has dragged out a movie...\n",
       "0   Bromwell High is a cartoon comedy. It ran at t...\n",
       "0   I was looking forward to this movie. Trustwort...\n",
       "0   Scott Bartlett's 'OffOn' is nine minutes of pu...\n",
       "0   I gave this a 3 out of a possible 10 stars.<br...\n",
       "..                                                ...\n",
       "0   For me too, this Christmas special is one that...\n",
       "0   Four things intrigued me as to this film - fir...\n",
       "0   A Christmas Together actually came before my t...\n",
       "0   David Bryce's comments nearby are exceptionall...\n",
       "0   Working-class romantic drama from director Mar...\n",
       "\n",
       "[203 rows x 1 columns]"
      ]
     },
     "execution_count": 118,
     "metadata": {},
     "output_type": "execute_result"
    }
   ],
   "source": [
    "files_df"
   ]
  },
  {
   "cell_type": "code",
   "execution_count": 125,
   "metadata": {
    "scrolled": true
   },
   "outputs": [
    {
     "name": "stderr",
     "output_type": "stream",
     "text": [
      "C:\\Users\\peter\\AppData\\Local\\Temp/ipykernel_3532/2275854709.py:4: FutureWarning: The default value of regex will change from True to False in a future version.\n",
      "  ReviewText = ReviewText.str.replace(\"(<br/>)\", \"\")\n",
      "C:\\Users\\peter\\AppData\\Local\\Temp/ipykernel_3532/2275854709.py:5: FutureWarning: The default value of regex will change from True to False in a future version.\n",
      "  ReviewText = ReviewText.str.replace('(<a).*(>).*(</a>)', '')\n",
      "C:\\Users\\peter\\AppData\\Local\\Temp/ipykernel_3532/2275854709.py:6: FutureWarning: The default value of regex will change from True to False in a future version.\n",
      "  ReviewText = ReviewText.str.replace('(&amp)', '')\n",
      "C:\\Users\\peter\\AppData\\Local\\Temp/ipykernel_3532/2275854709.py:7: FutureWarning: The default value of regex will change from True to False in a future version.\n",
      "  ReviewText = ReviewText.str.replace('(&gt)', '')\n",
      "C:\\Users\\peter\\AppData\\Local\\Temp/ipykernel_3532/2275854709.py:8: FutureWarning: The default value of regex will change from True to False in a future version.\n",
      "  ReviewText = ReviewText.str.replace('(&lt)', '')\n",
      "C:\\Users\\peter\\AppData\\Local\\Temp/ipykernel_3532/2275854709.py:9: FutureWarning: The default value of regex will change from True to False in a future version.\n",
      "  ReviewText = ReviewText.str.replace('(\\xa0)', ' ')\n"
     ]
    }
   ],
   "source": [
    "from textblob import TextBlob\n",
    "\n",
    "def preprocess(ReviewText):\n",
    "    ReviewText = ReviewText.str.replace(\"(<br/>)\", \"\")\n",
    "    ReviewText = ReviewText.str.replace('(<a).*(>).*(</a>)', '')\n",
    "    ReviewText = ReviewText.str.replace('(&amp)', '')\n",
    "    ReviewText = ReviewText.str.replace('(&gt)', '')\n",
    "    ReviewText = ReviewText.str.replace('(&lt)', '')\n",
    "    ReviewText = ReviewText.str.replace('(\\xa0)', ' ')  \n",
    "    return ReviewText\n",
    "files_df['Review'] = preprocess(files_df['Review'])\n",
    "\n",
    "files_df['polarity'] = files_df['Review'].map(lambda text: TextBlob(text).sentiment.polarity)\n",
    "files_df['review_len'] = files_df['Review'].astype(str).apply(len)\n",
    "files_df['word_count'] = files_df['Review'].apply(lambda x: len(str(x).split()))"
   ]
  },
  {
   "cell_type": "code",
   "execution_count": 128,
   "metadata": {},
   "outputs": [
    {
     "data": {
      "text/html": [
       "<div>\n",
       "<style scoped>\n",
       "    .dataframe tbody tr th:only-of-type {\n",
       "        vertical-align: middle;\n",
       "    }\n",
       "\n",
       "    .dataframe tbody tr th {\n",
       "        vertical-align: top;\n",
       "    }\n",
       "\n",
       "    .dataframe thead th {\n",
       "        text-align: right;\n",
       "    }\n",
       "</style>\n",
       "<table border=\"1\" class=\"dataframe\">\n",
       "  <thead>\n",
       "    <tr style=\"text-align: right;\">\n",
       "      <th></th>\n",
       "      <th>Review</th>\n",
       "      <th>polarity</th>\n",
       "      <th>review_len</th>\n",
       "      <th>word_count</th>\n",
       "    </tr>\n",
       "  </thead>\n",
       "  <tbody>\n",
       "    <tr>\n",
       "      <th>0</th>\n",
       "      <td>Once again Mr. Costner has dragged out a movie...</td>\n",
       "      <td>0.063860</td>\n",
       "      <td>900</td>\n",
       "      <td>168</td>\n",
       "    </tr>\n",
       "    <tr>\n",
       "      <th>0</th>\n",
       "      <td>Bromwell High is a cartoon comedy. It ran at t...</td>\n",
       "      <td>0.086675</td>\n",
       "      <td>806</td>\n",
       "      <td>140</td>\n",
       "    </tr>\n",
       "    <tr>\n",
       "      <th>0</th>\n",
       "      <td>I was looking forward to this movie. Trustwort...</td>\n",
       "      <td>0.158069</td>\n",
       "      <td>1179</td>\n",
       "      <td>215</td>\n",
       "    </tr>\n",
       "    <tr>\n",
       "      <th>0</th>\n",
       "      <td>Scott Bartlett's 'OffOn' is nine minutes of pu...</td>\n",
       "      <td>0.115540</td>\n",
       "      <td>2209</td>\n",
       "      <td>337</td>\n",
       "    </tr>\n",
       "    <tr>\n",
       "      <th>0</th>\n",
       "      <td>I gave this a 3 out of a possible 10 stars.&lt;br...</td>\n",
       "      <td>-0.090278</td>\n",
       "      <td>1316</td>\n",
       "      <td>232</td>\n",
       "    </tr>\n",
       "    <tr>\n",
       "      <th>...</th>\n",
       "      <td>...</td>\n",
       "      <td>...</td>\n",
       "      <td>...</td>\n",
       "      <td>...</td>\n",
       "    </tr>\n",
       "    <tr>\n",
       "      <th>0</th>\n",
       "      <td>For me too, this Christmas special is one that...</td>\n",
       "      <td>0.368407</td>\n",
       "      <td>638</td>\n",
       "      <td>118</td>\n",
       "    </tr>\n",
       "    <tr>\n",
       "      <th>0</th>\n",
       "      <td>Four things intrigued me as to this film - fir...</td>\n",
       "      <td>0.106221</td>\n",
       "      <td>749</td>\n",
       "      <td>126</td>\n",
       "    </tr>\n",
       "    <tr>\n",
       "      <th>0</th>\n",
       "      <td>A Christmas Together actually came before my t...</td>\n",
       "      <td>0.118069</td>\n",
       "      <td>975</td>\n",
       "      <td>176</td>\n",
       "    </tr>\n",
       "    <tr>\n",
       "      <th>0</th>\n",
       "      <td>David Bryce's comments nearby are exceptionall...</td>\n",
       "      <td>0.080296</td>\n",
       "      <td>2284</td>\n",
       "      <td>388</td>\n",
       "    </tr>\n",
       "    <tr>\n",
       "      <th>0</th>\n",
       "      <td>Working-class romantic drama from director Mar...</td>\n",
       "      <td>0.128530</td>\n",
       "      <td>951</td>\n",
       "      <td>157</td>\n",
       "    </tr>\n",
       "  </tbody>\n",
       "</table>\n",
       "<p>203 rows × 4 columns</p>\n",
       "</div>"
      ],
      "text/plain": [
       "                                               Review  polarity  review_len  \\\n",
       "0   Once again Mr. Costner has dragged out a movie...  0.063860         900   \n",
       "0   Bromwell High is a cartoon comedy. It ran at t...  0.086675         806   \n",
       "0   I was looking forward to this movie. Trustwort...  0.158069        1179   \n",
       "0   Scott Bartlett's 'OffOn' is nine minutes of pu...  0.115540        2209   \n",
       "0   I gave this a 3 out of a possible 10 stars.<br... -0.090278        1316   \n",
       "..                                                ...       ...         ...   \n",
       "0   For me too, this Christmas special is one that...  0.368407         638   \n",
       "0   Four things intrigued me as to this film - fir...  0.106221         749   \n",
       "0   A Christmas Together actually came before my t...  0.118069         975   \n",
       "0   David Bryce's comments nearby are exceptionall...  0.080296        2284   \n",
       "0   Working-class romantic drama from director Mar...  0.128530         951   \n",
       "\n",
       "    word_count  \n",
       "0          168  \n",
       "0          140  \n",
       "0          215  \n",
       "0          337  \n",
       "0          232  \n",
       "..         ...  \n",
       "0          118  \n",
       "0          126  \n",
       "0          176  \n",
       "0          388  \n",
       "0          157  \n",
       "\n",
       "[203 rows x 4 columns]"
      ]
     },
     "execution_count": 128,
     "metadata": {},
     "output_type": "execute_result"
    }
   ],
   "source": [
    "files_df"
   ]
  },
  {
   "cell_type": "code",
   "execution_count": 143,
   "metadata": {},
   "outputs": [
    {
     "name": "stdout",
     "output_type": "stream",
     "text": [
      "5 random reviews with the highest positive sentiment polarity: \n",
      "\n",
      "The great Vincent Price has done many fantastic Horror films, some of which range among the greatest genre gems of all-time. Price's greatest achievements were doubtlessly his films in the 60s, with films such as Roger Corman's brilliant Poe-cycle (still the greatest Horror cycle of all-time), Michael Reeves' \"Witchfinder General\" (1968) or Ubaldo Ragona's \"The Last Man on Earth\" (1964) marking the ultimate highlights of this brilliant man's career. The films that made the man famous and thereby made him the immortal Horror icon he is, however date back to the 50s, with \"House of Wax\" (1953) marking his rise to stardom. \"The Mad Magician\" of 1954 follows a plot that is very similar to that of its successful predecessor. This is not to say, however, that this film isn't an original, delightfully macabre and absolutely wonderful gem itself. As the lines above may suggest, Vincent Price is my favorite actor, and, while I personally would not allow myself to miss anything the man has been in, none of my fellow fans of the man may miss this little gem.<br /><br />Price stars as Don Galico (aka. Galico the Great), an underrated master magician and inventor of magic devices, whose boss, a sleazy businessman, stole his wife (Eva Gabor) from him. When the boss takes away one of Galico's ingenious inventions and gives it to his rival, The Great Rinaldi (John Emery), Galico snaps, and a murderous spree of revenge begins...<br /><br />Don't we love Vincent Price when he's out for revenge? Some of his most famous and greatest films such as \"The Abominable Dr. Phibes\" (1971) or \"Theater of Blood\" (1973) were about absurd and delightfully macabre revenge murders, and this earlier film in his Horror career is another proof that no one takes revenge as Vincent Price does. This film provides a wonderfully eccentric leading role for Price, who, as always, delivers a brilliant performance, and guarantees 70 minutes of outrageously entertaining and macabre fun for every Horror fan. Another must-see for my fellow Price fans. \n",
      "\n",
      "Liked Stanley & Iris very much. Acting was very good. Story had a unique and interesting arrangement. The absence of violence and porno sex was refreshing. Characters were very convincing and felt like you could understand their feelings. Very enjoyable movie. \n",
      "\n",
      "My children just happened to stop at this movie the other night and as things started to play out it really piqued my interest. I had to head out for bowling league so I had them record it for me on the dvr so I could watch the rest later. Well I just got done watching it and the front of my shirt must be soaked after crying buckets. It was an excellent movie even though I could almost feel the pain and anguish these girls were experiencing. And I never in a million years would have guessed the reason why Alissia had gone from this beautiful girl to an anti-social goth. This was probably WHY my shirt was soaked because I've experienced that same pain that Alissia was feeling. I too would not have sought out this movie, but I'm sure glad I saw it. Very moving, very touching. Great for those who love a good drama or tear-jerker. \n",
      "\n",
      "My first child was born the year this program came out, and I played the record album for the boys every Christmas thereafter. When the CD came out, I bought about ten copies and still give them to friends and relatives as they start families...it invariably becomes their favorite Christmas album. I recently found several DVD's (made on DVD-R from video tapes, probably) for sale on eBay. The one I bought was an excellent copy, and it was so great to see the show again after more than 25 years. There are some songs on the show that were not on the album, and some of the songs on the album were studio versions of the same songs on the show. But both the CD and DVD will stay in our library as the best Christmas entertainment ever. \n",
      "\n",
      "Liked Stanley & Iris very much. Acting was very good. Story had a unique and interesting arrangement. The absence of violence and sex was refreshing. Characters were very convincing and felt like you could understand their feelings. Very enjoyable movie. \n",
      "\n"
     ]
    }
   ],
   "source": [
    "print('5 random reviews with the highest positive sentiment polarity: \\n')\n",
    "cl = files_df.loc[files_df.polarity > 0.4, ['Review']].sample(5).values\n",
    "for c in cl:\n",
    "    print(c[0], '\\n')"
   ]
  },
  {
   "cell_type": "code",
   "execution_count": 142,
   "metadata": {},
   "outputs": [
    {
     "name": "stdout",
     "output_type": "stream",
     "text": [
      "5 random reviews with the highest negative sentiment polarity: \n",
      "\n",
      "Seriously, I can't imagine how anyone could find a single flattering thing to say about this movie, much less find it in themselves to write the glowing compliments contained in this comment section. How many methamphetamines was Bogdonovitch on during the filming of this movie? Was he giving a bonus to the actor that spat his lines out with the most speed and least inflection or thought? The dialogue is bad, the plot atrocious, even for a \"screwball\" comedy, and claims that the movie is an homage to classic film comedy is about the most inane thing I've ever heard. The cinematography is below the quality and innovation of that exhibited by the worst made-for-TV movies, the acting is awful (although I get the feeling that the fault for that lies squarely in the lap of the director), and speaking of which, did I mention the direction is so haphazard and inscrutable that it defies the definition of the word? The whole thing is a terribly unfunny (even in the much-beleaguered world of so-bad-it's-funny clunkers), soul-sucking, waste of two hours of your life that you'll never get back. Be afraid, be very afraid... \n",
      "\n",
      "An obscure horror show filmed in the Everglades. Two couples stay overnight in a cabin after being made a little uneasy by the unfriendliness of the locals. Who, or what, are the Blood Stalkers? After awhile they find out. Watch for the character of the village idiot who clucks like a chicken, he certainly is weird. \n",
      "\n",
      "This film, which I rented under the title \"Black Voodoo\" should be avoided. I was expecting a blaxploitation/horror flick; but what I got was a very dull, standard \"ghost extracts vegence\". In this case the ghost was that of a religious cult leader who tried to refuse treatment, but who's plea was ignored and he died in an operation. The result: his spirit posesses Nurse Sherry and forces her to commit acts of murder. The only voodoo connection was to one of the three black characters, in this case a blinded ex-football player, who's mom practiced voodoo. The film is very slow and very dull. There is a very standard ending that provides on excitement, followed by a horrificly stupid ending (warning: SPOILER)<br /><br />In which a woman actually manages to defend herself against murder charges by saying she was possessed. This movie is slow, and bad in a non-funny, just stupefying way. Avoid it at all costs. \n",
      "\n",
      "We brought this film as a joke for a friend, and could of been our worst joke to play. The film is barely watchable, and the acting is dire. The worst child actor ever used and Hasslehoff giving a substandard performance. The plot is disgraceful and at points we was so bored we was wondering what the hell was going on. It tries to be gruesome in places but is just laughable.<br /><br />Just terrible \n",
      "\n",
      "I found this movie really hard to sit through, my attention kept wandering off the tv. As far as romantic movies go..this one is the worst I've seen. Don't bother with it. \n",
      "\n"
     ]
    }
   ],
   "source": [
    "print('5 random reviews with the highest negative sentiment polarity: \\n')\n",
    "cl = files_df.loc[files_df.polarity < -0.2, ['Review']].sample(5).values\n",
    "for c in cl:\n",
    "    print(c[0], '\\n')"
   ]
  },
  {
   "cell_type": "code",
   "execution_count": 146,
   "metadata": {},
   "outputs": [
    {
     "data": {
      "text/html": [
       "        <script type=\"text/javascript\">\n",
       "        window.PlotlyConfig = {MathJaxConfig: 'local'};\n",
       "        if (window.MathJax) {MathJax.Hub.Config({SVG: {font: \"STIX-Web\"}});}\n",
       "        if (typeof require !== 'undefined') {\n",
       "        require.undef(\"plotly\");\n",
       "        requirejs.config({\n",
       "            paths: {\n",
       "                'plotly': ['https://cdn.plot.ly/plotly-2.9.0.min']\n",
       "            }\n",
       "        });\n",
       "        require(['plotly'], function(Plotly) {\n",
       "            window._Plotly = Plotly;\n",
       "        });\n",
       "        }\n",
       "        </script>\n",
       "        "
      ]
     },
     "metadata": {},
     "output_type": "display_data"
    }
   ],
   "source": [
    "import cufflinks as cf\n",
    "cf.go_offline()\n",
    "cf.set_config_file(offline=False, world_readable=True)"
   ]
  },
  {
   "cell_type": "code",
   "execution_count": 147,
   "metadata": {},
   "outputs": [
    {
     "data": {
      "application/vnd.plotly.v1+json": {
       "config": {
        "linkText": "Export to plot.ly",
        "plotlyServerURL": "https://plot.ly",
        "showLink": true
       },
       "data": [
        {
         "histfunc": "count",
         "histnorm": "",
         "marker": {
          "color": "rgba(255, 153, 51, 1.0)",
          "line": {
           "color": "#000000",
           "width": 1.3
          }
         },
         "name": "polarity",
         "nbinsx": 50,
         "opacity": 0.8,
         "orientation": "v",
         "type": "histogram",
         "x": [
          0.06385964912280702,
          0.0866750208855472,
          0.15806878306878305,
          0.11553958861651169,
          -0.09027777777777776,
          0.07344451931716083,
          0.2978174603174603,
          0.21222222222222223,
          0.46361111111111103,
          0.12447916666666665,
          0.46361111111111103,
          0.16805555555555554,
          0.11509986225895315,
          0.07187500000000001,
          0.2977731092436975,
          0.08967273954116058,
          0.10643447461629281,
          -0.056666666666666664,
          0.29222222222222227,
          0.10264249639249637,
          0.0665018315018315,
          -0.027035886818495523,
          0.175,
          -0.1894927536231884,
          0.0967948717948718,
          0.1280033416875522,
          0.18487179487179486,
          -0.0031250000000000028,
          0.2998245614035088,
          0.0703472222222222,
          0.14199346405228755,
          -0.01008771929824561,
          -0.020899470899470904,
          -0.15380434782608696,
          0.08571428571428572,
          -0.02520833333333334,
          0.3642857142857143,
          -0.08608465608465608,
          0.20465838509316772,
          0.21607142857142855,
          0.29290123456790124,
          0.2637286324786325,
          0.18166666666666667,
          0.15739599383667183,
          -0.05694444444444444,
          0.21248088023088027,
          0.08384084749938409,
          0.04951499118165786,
          0.15659420289855072,
          0.14605263157894735,
          0.09791666666666667,
          0.0691468253968254,
          0.03333333333333335,
          0.14191347270615565,
          -0.057575757575757586,
          -0.1268253968253968,
          -0.007596618357487918,
          -0.04536333300537845,
          0.2216485507246376,
          0.3073968253968254,
          0.12564935064935065,
          0.30944444444444447,
          -0.25243589743589745,
          -0.15677083333333333,
          0.1272222222222222,
          -0.017660542582417584,
          0.3602083333333334,
          -0.03922468932748537,
          0.09944444444444447,
          0.22958333333333333,
          0.21944444444444444,
          0.05402777777777778,
          0.17037037037037037,
          -0.10320767195767193,
          0.3416666666666667,
          0.2966666666666667,
          -0.008222222222222225,
          -0.025490196078431372,
          0.16136363636363635,
          0.12135416666666665,
          -0.03694444444444444,
          0.33741258741258745,
          0.026825396825396843,
          0.0532377049180328,
          0.018981937602627275,
          -0.04239718614718614,
          0.2705059523809524,
          0.11400112233445565,
          0.06544117647058825,
          0.14886904761904762,
          0.0945959595959596,
          -0.01964285714285715,
          0.21773618538324419,
          0.42500000000000004,
          0.15196608946608947,
          0.3333333333333333,
          0.11111492673992676,
          0.392156862745098,
          -0.17253968253968255,
          0.19428571428571426,
          0.02433226495726496,
          0.09262096774193551,
          0.06748578535891968,
          0.05946969696969694,
          0.20304608585858583,
          0.2329166666666667,
          -0.007095238095238092,
          0.4307692307692308,
          0.06666666666666667,
          -0.011856060606060592,
          0.1825,
          0.13273809523809527,
          0.1055672268907563,
          0.17124125874125878,
          0.1584558823529412,
          0.015557025279247495,
          0.08961640211640214,
          0.02812500000000001,
          0.15318027210884355,
          0.2509090909090909,
          -0.034556878306878314,
          -0.5687500000000001,
          0.05146978021978022,
          0.2777777777777778,
          0.106639325586694,
          0.30296296296296293,
          0.14201680672268907,
          -0.020833333333333336,
          0.09820987654320988,
          0.2440816326530612,
          -0.058330026455026454,
          -0.11739417989417988,
          0.11176784855356284,
          -0.01646825396825398,
          -0.10027777777777776,
          0.21212121212121213,
          0.10879629629629632,
          -0.052842712842712844,
          0.5735714285714286,
          0.15918560606060608,
          0.07648184387910416,
          -0.04511126672891377,
          0.1861111111111111,
          0.005285250463821914,
          0.1826666666666667,
          0.04940476190476192,
          0.15587606837606838,
          -0.08461538461538463,
          0.4290625,
          -0.521875,
          0.1202205882352941,
          -6.76406926406167e-06,
          0.20511695906432745,
          -0.29791666666666666,
          0.19105902777777778,
          0.3383116883116884,
          -0.09666666666666666,
          0.051494565217391305,
          0.29047619047619044,
          0.12407407407407407,
          0.3928125,
          0.17493164062500002,
          0.22774999999999998,
          0.03482142857142856,
          0.10941666666666669,
          0.06155861801242237,
          0.12501262626262624,
          0.06348039215686277,
          -0.1295833333333333,
          0.0772516835016835,
          0.10497942386831277,
          0.08046875,
          -0.005555555555555554,
          0.004313704648526091,
          0.21706521739130438,
          -0.06208513708513709,
          0.3197916666666667,
          -0.05338827838827838,
          -0.18449999999999994,
          0.12062499999999998,
          -0.014242424242424239,
          -0.036111111111111115,
          0.07765151515151517,
          -0.05248299319727889,
          0.3402777777777778,
          -0.04166666666666667,
          0.2022321428571429,
          -0.09567901234567897,
          0.40499999999999997,
          0.288474025974026,
          -0.09881628787878788,
          0.1421794871794872,
          0.1170664983164983,
          -0.27923809523809523,
          0.3546875,
          -0.1527777777777778,
          0.1917689732142857,
          0.21904761904761905,
          0.3684065934065934,
          0.10622113997113997,
          0.11806878306878306,
          0.08029629629629631,
          0.12852965747702588
         ]
        }
       ],
       "layout": {
        "barmode": "overlay",
        "legend": {
         "bgcolor": "#F5F6F9",
         "font": {
          "color": "#4D5663"
         }
        },
        "paper_bgcolor": "#F5F6F9",
        "plot_bgcolor": "#F5F6F9",
        "template": {
         "data": {
          "bar": [
           {
            "error_x": {
             "color": "#2a3f5f"
            },
            "error_y": {
             "color": "#2a3f5f"
            },
            "marker": {
             "line": {
              "color": "#E5ECF6",
              "width": 0.5
             },
             "pattern": {
              "fillmode": "overlay",
              "size": 10,
              "solidity": 0.2
             }
            },
            "type": "bar"
           }
          ],
          "barpolar": [
           {
            "marker": {
             "line": {
              "color": "#E5ECF6",
              "width": 0.5
             },
             "pattern": {
              "fillmode": "overlay",
              "size": 10,
              "solidity": 0.2
             }
            },
            "type": "barpolar"
           }
          ],
          "carpet": [
           {
            "aaxis": {
             "endlinecolor": "#2a3f5f",
             "gridcolor": "white",
             "linecolor": "white",
             "minorgridcolor": "white",
             "startlinecolor": "#2a3f5f"
            },
            "baxis": {
             "endlinecolor": "#2a3f5f",
             "gridcolor": "white",
             "linecolor": "white",
             "minorgridcolor": "white",
             "startlinecolor": "#2a3f5f"
            },
            "type": "carpet"
           }
          ],
          "choropleth": [
           {
            "colorbar": {
             "outlinewidth": 0,
             "ticks": ""
            },
            "type": "choropleth"
           }
          ],
          "contour": [
           {
            "colorbar": {
             "outlinewidth": 0,
             "ticks": ""
            },
            "colorscale": [
             [
              0,
              "#0d0887"
             ],
             [
              0.1111111111111111,
              "#46039f"
             ],
             [
              0.2222222222222222,
              "#7201a8"
             ],
             [
              0.3333333333333333,
              "#9c179e"
             ],
             [
              0.4444444444444444,
              "#bd3786"
             ],
             [
              0.5555555555555556,
              "#d8576b"
             ],
             [
              0.6666666666666666,
              "#ed7953"
             ],
             [
              0.7777777777777778,
              "#fb9f3a"
             ],
             [
              0.8888888888888888,
              "#fdca26"
             ],
             [
              1,
              "#f0f921"
             ]
            ],
            "type": "contour"
           }
          ],
          "contourcarpet": [
           {
            "colorbar": {
             "outlinewidth": 0,
             "ticks": ""
            },
            "type": "contourcarpet"
           }
          ],
          "heatmap": [
           {
            "colorbar": {
             "outlinewidth": 0,
             "ticks": ""
            },
            "colorscale": [
             [
              0,
              "#0d0887"
             ],
             [
              0.1111111111111111,
              "#46039f"
             ],
             [
              0.2222222222222222,
              "#7201a8"
             ],
             [
              0.3333333333333333,
              "#9c179e"
             ],
             [
              0.4444444444444444,
              "#bd3786"
             ],
             [
              0.5555555555555556,
              "#d8576b"
             ],
             [
              0.6666666666666666,
              "#ed7953"
             ],
             [
              0.7777777777777778,
              "#fb9f3a"
             ],
             [
              0.8888888888888888,
              "#fdca26"
             ],
             [
              1,
              "#f0f921"
             ]
            ],
            "type": "heatmap"
           }
          ],
          "heatmapgl": [
           {
            "colorbar": {
             "outlinewidth": 0,
             "ticks": ""
            },
            "colorscale": [
             [
              0,
              "#0d0887"
             ],
             [
              0.1111111111111111,
              "#46039f"
             ],
             [
              0.2222222222222222,
              "#7201a8"
             ],
             [
              0.3333333333333333,
              "#9c179e"
             ],
             [
              0.4444444444444444,
              "#bd3786"
             ],
             [
              0.5555555555555556,
              "#d8576b"
             ],
             [
              0.6666666666666666,
              "#ed7953"
             ],
             [
              0.7777777777777778,
              "#fb9f3a"
             ],
             [
              0.8888888888888888,
              "#fdca26"
             ],
             [
              1,
              "#f0f921"
             ]
            ],
            "type": "heatmapgl"
           }
          ],
          "histogram": [
           {
            "marker": {
             "pattern": {
              "fillmode": "overlay",
              "size": 10,
              "solidity": 0.2
             }
            },
            "type": "histogram"
           }
          ],
          "histogram2d": [
           {
            "colorbar": {
             "outlinewidth": 0,
             "ticks": ""
            },
            "colorscale": [
             [
              0,
              "#0d0887"
             ],
             [
              0.1111111111111111,
              "#46039f"
             ],
             [
              0.2222222222222222,
              "#7201a8"
             ],
             [
              0.3333333333333333,
              "#9c179e"
             ],
             [
              0.4444444444444444,
              "#bd3786"
             ],
             [
              0.5555555555555556,
              "#d8576b"
             ],
             [
              0.6666666666666666,
              "#ed7953"
             ],
             [
              0.7777777777777778,
              "#fb9f3a"
             ],
             [
              0.8888888888888888,
              "#fdca26"
             ],
             [
              1,
              "#f0f921"
             ]
            ],
            "type": "histogram2d"
           }
          ],
          "histogram2dcontour": [
           {
            "colorbar": {
             "outlinewidth": 0,
             "ticks": ""
            },
            "colorscale": [
             [
              0,
              "#0d0887"
             ],
             [
              0.1111111111111111,
              "#46039f"
             ],
             [
              0.2222222222222222,
              "#7201a8"
             ],
             [
              0.3333333333333333,
              "#9c179e"
             ],
             [
              0.4444444444444444,
              "#bd3786"
             ],
             [
              0.5555555555555556,
              "#d8576b"
             ],
             [
              0.6666666666666666,
              "#ed7953"
             ],
             [
              0.7777777777777778,
              "#fb9f3a"
             ],
             [
              0.8888888888888888,
              "#fdca26"
             ],
             [
              1,
              "#f0f921"
             ]
            ],
            "type": "histogram2dcontour"
           }
          ],
          "mesh3d": [
           {
            "colorbar": {
             "outlinewidth": 0,
             "ticks": ""
            },
            "type": "mesh3d"
           }
          ],
          "parcoords": [
           {
            "line": {
             "colorbar": {
              "outlinewidth": 0,
              "ticks": ""
             }
            },
            "type": "parcoords"
           }
          ],
          "pie": [
           {
            "automargin": true,
            "type": "pie"
           }
          ],
          "scatter": [
           {
            "marker": {
             "colorbar": {
              "outlinewidth": 0,
              "ticks": ""
             }
            },
            "type": "scatter"
           }
          ],
          "scatter3d": [
           {
            "line": {
             "colorbar": {
              "outlinewidth": 0,
              "ticks": ""
             }
            },
            "marker": {
             "colorbar": {
              "outlinewidth": 0,
              "ticks": ""
             }
            },
            "type": "scatter3d"
           }
          ],
          "scattercarpet": [
           {
            "marker": {
             "colorbar": {
              "outlinewidth": 0,
              "ticks": ""
             }
            },
            "type": "scattercarpet"
           }
          ],
          "scattergeo": [
           {
            "marker": {
             "colorbar": {
              "outlinewidth": 0,
              "ticks": ""
             }
            },
            "type": "scattergeo"
           }
          ],
          "scattergl": [
           {
            "marker": {
             "colorbar": {
              "outlinewidth": 0,
              "ticks": ""
             }
            },
            "type": "scattergl"
           }
          ],
          "scattermapbox": [
           {
            "marker": {
             "colorbar": {
              "outlinewidth": 0,
              "ticks": ""
             }
            },
            "type": "scattermapbox"
           }
          ],
          "scatterpolar": [
           {
            "marker": {
             "colorbar": {
              "outlinewidth": 0,
              "ticks": ""
             }
            },
            "type": "scatterpolar"
           }
          ],
          "scatterpolargl": [
           {
            "marker": {
             "colorbar": {
              "outlinewidth": 0,
              "ticks": ""
             }
            },
            "type": "scatterpolargl"
           }
          ],
          "scatterternary": [
           {
            "marker": {
             "colorbar": {
              "outlinewidth": 0,
              "ticks": ""
             }
            },
            "type": "scatterternary"
           }
          ],
          "surface": [
           {
            "colorbar": {
             "outlinewidth": 0,
             "ticks": ""
            },
            "colorscale": [
             [
              0,
              "#0d0887"
             ],
             [
              0.1111111111111111,
              "#46039f"
             ],
             [
              0.2222222222222222,
              "#7201a8"
             ],
             [
              0.3333333333333333,
              "#9c179e"
             ],
             [
              0.4444444444444444,
              "#bd3786"
             ],
             [
              0.5555555555555556,
              "#d8576b"
             ],
             [
              0.6666666666666666,
              "#ed7953"
             ],
             [
              0.7777777777777778,
              "#fb9f3a"
             ],
             [
              0.8888888888888888,
              "#fdca26"
             ],
             [
              1,
              "#f0f921"
             ]
            ],
            "type": "surface"
           }
          ],
          "table": [
           {
            "cells": {
             "fill": {
              "color": "#EBF0F8"
             },
             "line": {
              "color": "white"
             }
            },
            "header": {
             "fill": {
              "color": "#C8D4E3"
             },
             "line": {
              "color": "white"
             }
            },
            "type": "table"
           }
          ]
         },
         "layout": {
          "annotationdefaults": {
           "arrowcolor": "#2a3f5f",
           "arrowhead": 0,
           "arrowwidth": 1
          },
          "autotypenumbers": "strict",
          "coloraxis": {
           "colorbar": {
            "outlinewidth": 0,
            "ticks": ""
           }
          },
          "colorscale": {
           "diverging": [
            [
             0,
             "#8e0152"
            ],
            [
             0.1,
             "#c51b7d"
            ],
            [
             0.2,
             "#de77ae"
            ],
            [
             0.3,
             "#f1b6da"
            ],
            [
             0.4,
             "#fde0ef"
            ],
            [
             0.5,
             "#f7f7f7"
            ],
            [
             0.6,
             "#e6f5d0"
            ],
            [
             0.7,
             "#b8e186"
            ],
            [
             0.8,
             "#7fbc41"
            ],
            [
             0.9,
             "#4d9221"
            ],
            [
             1,
             "#276419"
            ]
           ],
           "sequential": [
            [
             0,
             "#0d0887"
            ],
            [
             0.1111111111111111,
             "#46039f"
            ],
            [
             0.2222222222222222,
             "#7201a8"
            ],
            [
             0.3333333333333333,
             "#9c179e"
            ],
            [
             0.4444444444444444,
             "#bd3786"
            ],
            [
             0.5555555555555556,
             "#d8576b"
            ],
            [
             0.6666666666666666,
             "#ed7953"
            ],
            [
             0.7777777777777778,
             "#fb9f3a"
            ],
            [
             0.8888888888888888,
             "#fdca26"
            ],
            [
             1,
             "#f0f921"
            ]
           ],
           "sequentialminus": [
            [
             0,
             "#0d0887"
            ],
            [
             0.1111111111111111,
             "#46039f"
            ],
            [
             0.2222222222222222,
             "#7201a8"
            ],
            [
             0.3333333333333333,
             "#9c179e"
            ],
            [
             0.4444444444444444,
             "#bd3786"
            ],
            [
             0.5555555555555556,
             "#d8576b"
            ],
            [
             0.6666666666666666,
             "#ed7953"
            ],
            [
             0.7777777777777778,
             "#fb9f3a"
            ],
            [
             0.8888888888888888,
             "#fdca26"
            ],
            [
             1,
             "#f0f921"
            ]
           ]
          },
          "colorway": [
           "#636efa",
           "#EF553B",
           "#00cc96",
           "#ab63fa",
           "#FFA15A",
           "#19d3f3",
           "#FF6692",
           "#B6E880",
           "#FF97FF",
           "#FECB52"
          ],
          "font": {
           "color": "#2a3f5f"
          },
          "geo": {
           "bgcolor": "white",
           "lakecolor": "white",
           "landcolor": "#E5ECF6",
           "showlakes": true,
           "showland": true,
           "subunitcolor": "white"
          },
          "hoverlabel": {
           "align": "left"
          },
          "hovermode": "closest",
          "mapbox": {
           "style": "light"
          },
          "paper_bgcolor": "white",
          "plot_bgcolor": "#E5ECF6",
          "polar": {
           "angularaxis": {
            "gridcolor": "white",
            "linecolor": "white",
            "ticks": ""
           },
           "bgcolor": "#E5ECF6",
           "radialaxis": {
            "gridcolor": "white",
            "linecolor": "white",
            "ticks": ""
           }
          },
          "scene": {
           "xaxis": {
            "backgroundcolor": "#E5ECF6",
            "gridcolor": "white",
            "gridwidth": 2,
            "linecolor": "white",
            "showbackground": true,
            "ticks": "",
            "zerolinecolor": "white"
           },
           "yaxis": {
            "backgroundcolor": "#E5ECF6",
            "gridcolor": "white",
            "gridwidth": 2,
            "linecolor": "white",
            "showbackground": true,
            "ticks": "",
            "zerolinecolor": "white"
           },
           "zaxis": {
            "backgroundcolor": "#E5ECF6",
            "gridcolor": "white",
            "gridwidth": 2,
            "linecolor": "white",
            "showbackground": true,
            "ticks": "",
            "zerolinecolor": "white"
           }
          },
          "shapedefaults": {
           "line": {
            "color": "#2a3f5f"
           }
          },
          "ternary": {
           "aaxis": {
            "gridcolor": "white",
            "linecolor": "white",
            "ticks": ""
           },
           "baxis": {
            "gridcolor": "white",
            "linecolor": "white",
            "ticks": ""
           },
           "bgcolor": "#E5ECF6",
           "caxis": {
            "gridcolor": "white",
            "linecolor": "white",
            "ticks": ""
           }
          },
          "title": {
           "x": 0.05
          },
          "xaxis": {
           "automargin": true,
           "gridcolor": "white",
           "linecolor": "white",
           "ticks": "",
           "title": {
            "standoff": 15
           },
           "zerolinecolor": "white",
           "zerolinewidth": 2
          },
          "yaxis": {
           "automargin": true,
           "gridcolor": "white",
           "linecolor": "white",
           "ticks": "",
           "title": {
            "standoff": 15
           },
           "zerolinecolor": "white",
           "zerolinewidth": 2
          }
         }
        },
        "title": {
         "font": {
          "color": "#4D5663"
         },
         "text": "Sentiment Polarity Distribution"
        },
        "xaxis": {
         "gridcolor": "#E1E5ED",
         "linecolor": "black",
         "showgrid": true,
         "tickfont": {
          "color": "#4D5663"
         },
         "title": {
          "font": {
           "color": "#4D5663"
          },
          "text": "polarity"
         },
         "zerolinecolor": "#E1E5ED"
        },
        "yaxis": {
         "gridcolor": "#E1E5ED",
         "linecolor": "black",
         "showgrid": true,
         "tickfont": {
          "color": "#4D5663"
         },
         "title": {
          "font": {
           "color": "#4D5663"
          },
          "text": "count"
         },
         "zerolinecolor": "#E1E5ED"
        }
       }
      },
      "text/html": [
       "<div>                            <div id=\"6d35f406-ee4e-439a-affb-294d6c07355a\" class=\"plotly-graph-div\" style=\"height:525px; width:100%;\"></div>            <script type=\"text/javascript\">                require([\"plotly\"], function(Plotly) {                    window.PLOTLYENV=window.PLOTLYENV || {};\n",
       "                    window.PLOTLYENV.BASE_URL='https://plot.ly';                                    if (document.getElementById(\"6d35f406-ee4e-439a-affb-294d6c07355a\")) {                    Plotly.newPlot(                        \"6d35f406-ee4e-439a-affb-294d6c07355a\",                        [{\"histfunc\":\"count\",\"histnorm\":\"\",\"marker\":{\"color\":\"rgba(255, 153, 51, 1.0)\",\"line\":{\"color\":\"#000000\",\"width\":1.3}},\"name\":\"polarity\",\"nbinsx\":50,\"opacity\":0.8,\"orientation\":\"v\",\"x\":[0.06385964912280702,0.0866750208855472,0.15806878306878305,0.11553958861651169,-0.09027777777777776,0.07344451931716083,0.2978174603174603,0.21222222222222223,0.46361111111111103,0.12447916666666665,0.46361111111111103,0.16805555555555554,0.11509986225895315,0.07187500000000001,0.2977731092436975,0.08967273954116058,0.10643447461629281,-0.056666666666666664,0.29222222222222227,0.10264249639249637,0.0665018315018315,-0.027035886818495523,0.175,-0.1894927536231884,0.0967948717948718,0.1280033416875522,0.18487179487179486,-0.0031250000000000028,0.2998245614035088,0.0703472222222222,0.14199346405228755,-0.01008771929824561,-0.020899470899470904,-0.15380434782608696,0.08571428571428572,-0.02520833333333334,0.3642857142857143,-0.08608465608465608,0.20465838509316772,0.21607142857142855,0.29290123456790124,0.2637286324786325,0.18166666666666667,0.15739599383667183,-0.05694444444444444,0.21248088023088027,0.08384084749938409,0.04951499118165786,0.15659420289855072,0.14605263157894735,0.09791666666666667,0.0691468253968254,0.03333333333333335,0.14191347270615565,-0.057575757575757586,-0.1268253968253968,-0.007596618357487918,-0.04536333300537845,0.2216485507246376,0.3073968253968254,0.12564935064935065,0.30944444444444447,-0.25243589743589745,-0.15677083333333333,0.1272222222222222,-0.017660542582417584,0.3602083333333334,-0.03922468932748537,0.09944444444444447,0.22958333333333333,0.21944444444444444,0.05402777777777778,0.17037037037037037,-0.10320767195767193,0.3416666666666667,0.2966666666666667,-0.008222222222222225,-0.025490196078431372,0.16136363636363635,0.12135416666666665,-0.03694444444444444,0.33741258741258745,0.026825396825396843,0.0532377049180328,0.018981937602627275,-0.04239718614718614,0.2705059523809524,0.11400112233445565,0.06544117647058825,0.14886904761904762,0.0945959595959596,-0.01964285714285715,0.21773618538324419,0.42500000000000004,0.15196608946608947,0.3333333333333333,0.11111492673992676,0.392156862745098,-0.17253968253968255,0.19428571428571426,0.02433226495726496,0.09262096774193551,0.06748578535891968,0.05946969696969694,0.20304608585858583,0.2329166666666667,-0.007095238095238092,0.4307692307692308,0.06666666666666667,-0.011856060606060592,0.1825,0.13273809523809527,0.1055672268907563,0.17124125874125878,0.1584558823529412,0.015557025279247495,0.08961640211640214,0.02812500000000001,0.15318027210884355,0.2509090909090909,-0.034556878306878314,-0.5687500000000001,0.05146978021978022,0.2777777777777778,0.106639325586694,0.30296296296296293,0.14201680672268907,-0.020833333333333336,0.09820987654320988,0.2440816326530612,-0.058330026455026454,-0.11739417989417988,0.11176784855356284,-0.01646825396825398,-0.10027777777777776,0.21212121212121213,0.10879629629629632,-0.052842712842712844,0.5735714285714286,0.15918560606060608,0.07648184387910416,-0.04511126672891377,0.1861111111111111,0.005285250463821914,0.1826666666666667,0.04940476190476192,0.15587606837606838,-0.08461538461538463,0.4290625,-0.521875,0.1202205882352941,-6.76406926406167e-06,0.20511695906432745,-0.29791666666666666,0.19105902777777778,0.3383116883116884,-0.09666666666666666,0.051494565217391305,0.29047619047619044,0.12407407407407407,0.3928125,0.17493164062500002,0.22774999999999998,0.03482142857142856,0.10941666666666669,0.06155861801242237,0.12501262626262624,0.06348039215686277,-0.1295833333333333,0.0772516835016835,0.10497942386831277,0.08046875,-0.005555555555555554,0.004313704648526091,0.21706521739130438,-0.06208513708513709,0.3197916666666667,-0.05338827838827838,-0.18449999999999994,0.12062499999999998,-0.014242424242424239,-0.036111111111111115,0.07765151515151517,-0.05248299319727889,0.3402777777777778,-0.04166666666666667,0.2022321428571429,-0.09567901234567897,0.40499999999999997,0.288474025974026,-0.09881628787878788,0.1421794871794872,0.1170664983164983,-0.27923809523809523,0.3546875,-0.1527777777777778,0.1917689732142857,0.21904761904761905,0.3684065934065934,0.10622113997113997,0.11806878306878306,0.08029629629629631,0.12852965747702588],\"type\":\"histogram\"}],                        {\"barmode\":\"overlay\",\"legend\":{\"bgcolor\":\"#F5F6F9\",\"font\":{\"color\":\"#4D5663\"}},\"paper_bgcolor\":\"#F5F6F9\",\"plot_bgcolor\":\"#F5F6F9\",\"template\":{\"data\":{\"barpolar\":[{\"marker\":{\"line\":{\"color\":\"#E5ECF6\",\"width\":0.5},\"pattern\":{\"fillmode\":\"overlay\",\"size\":10,\"solidity\":0.2}},\"type\":\"barpolar\"}],\"bar\":[{\"error_x\":{\"color\":\"#2a3f5f\"},\"error_y\":{\"color\":\"#2a3f5f\"},\"marker\":{\"line\":{\"color\":\"#E5ECF6\",\"width\":0.5},\"pattern\":{\"fillmode\":\"overlay\",\"size\":10,\"solidity\":0.2}},\"type\":\"bar\"}],\"carpet\":[{\"aaxis\":{\"endlinecolor\":\"#2a3f5f\",\"gridcolor\":\"white\",\"linecolor\":\"white\",\"minorgridcolor\":\"white\",\"startlinecolor\":\"#2a3f5f\"},\"baxis\":{\"endlinecolor\":\"#2a3f5f\",\"gridcolor\":\"white\",\"linecolor\":\"white\",\"minorgridcolor\":\"white\",\"startlinecolor\":\"#2a3f5f\"},\"type\":\"carpet\"}],\"choropleth\":[{\"colorbar\":{\"outlinewidth\":0,\"ticks\":\"\"},\"type\":\"choropleth\"}],\"contourcarpet\":[{\"colorbar\":{\"outlinewidth\":0,\"ticks\":\"\"},\"type\":\"contourcarpet\"}],\"contour\":[{\"colorbar\":{\"outlinewidth\":0,\"ticks\":\"\"},\"colorscale\":[[0.0,\"#0d0887\"],[0.1111111111111111,\"#46039f\"],[0.2222222222222222,\"#7201a8\"],[0.3333333333333333,\"#9c179e\"],[0.4444444444444444,\"#bd3786\"],[0.5555555555555556,\"#d8576b\"],[0.6666666666666666,\"#ed7953\"],[0.7777777777777778,\"#fb9f3a\"],[0.8888888888888888,\"#fdca26\"],[1.0,\"#f0f921\"]],\"type\":\"contour\"}],\"heatmapgl\":[{\"colorbar\":{\"outlinewidth\":0,\"ticks\":\"\"},\"colorscale\":[[0.0,\"#0d0887\"],[0.1111111111111111,\"#46039f\"],[0.2222222222222222,\"#7201a8\"],[0.3333333333333333,\"#9c179e\"],[0.4444444444444444,\"#bd3786\"],[0.5555555555555556,\"#d8576b\"],[0.6666666666666666,\"#ed7953\"],[0.7777777777777778,\"#fb9f3a\"],[0.8888888888888888,\"#fdca26\"],[1.0,\"#f0f921\"]],\"type\":\"heatmapgl\"}],\"heatmap\":[{\"colorbar\":{\"outlinewidth\":0,\"ticks\":\"\"},\"colorscale\":[[0.0,\"#0d0887\"],[0.1111111111111111,\"#46039f\"],[0.2222222222222222,\"#7201a8\"],[0.3333333333333333,\"#9c179e\"],[0.4444444444444444,\"#bd3786\"],[0.5555555555555556,\"#d8576b\"],[0.6666666666666666,\"#ed7953\"],[0.7777777777777778,\"#fb9f3a\"],[0.8888888888888888,\"#fdca26\"],[1.0,\"#f0f921\"]],\"type\":\"heatmap\"}],\"histogram2dcontour\":[{\"colorbar\":{\"outlinewidth\":0,\"ticks\":\"\"},\"colorscale\":[[0.0,\"#0d0887\"],[0.1111111111111111,\"#46039f\"],[0.2222222222222222,\"#7201a8\"],[0.3333333333333333,\"#9c179e\"],[0.4444444444444444,\"#bd3786\"],[0.5555555555555556,\"#d8576b\"],[0.6666666666666666,\"#ed7953\"],[0.7777777777777778,\"#fb9f3a\"],[0.8888888888888888,\"#fdca26\"],[1.0,\"#f0f921\"]],\"type\":\"histogram2dcontour\"}],\"histogram2d\":[{\"colorbar\":{\"outlinewidth\":0,\"ticks\":\"\"},\"colorscale\":[[0.0,\"#0d0887\"],[0.1111111111111111,\"#46039f\"],[0.2222222222222222,\"#7201a8\"],[0.3333333333333333,\"#9c179e\"],[0.4444444444444444,\"#bd3786\"],[0.5555555555555556,\"#d8576b\"],[0.6666666666666666,\"#ed7953\"],[0.7777777777777778,\"#fb9f3a\"],[0.8888888888888888,\"#fdca26\"],[1.0,\"#f0f921\"]],\"type\":\"histogram2d\"}],\"histogram\":[{\"marker\":{\"pattern\":{\"fillmode\":\"overlay\",\"size\":10,\"solidity\":0.2}},\"type\":\"histogram\"}],\"mesh3d\":[{\"colorbar\":{\"outlinewidth\":0,\"ticks\":\"\"},\"type\":\"mesh3d\"}],\"parcoords\":[{\"line\":{\"colorbar\":{\"outlinewidth\":0,\"ticks\":\"\"}},\"type\":\"parcoords\"}],\"pie\":[{\"automargin\":true,\"type\":\"pie\"}],\"scatter3d\":[{\"line\":{\"colorbar\":{\"outlinewidth\":0,\"ticks\":\"\"}},\"marker\":{\"colorbar\":{\"outlinewidth\":0,\"ticks\":\"\"}},\"type\":\"scatter3d\"}],\"scattercarpet\":[{\"marker\":{\"colorbar\":{\"outlinewidth\":0,\"ticks\":\"\"}},\"type\":\"scattercarpet\"}],\"scattergeo\":[{\"marker\":{\"colorbar\":{\"outlinewidth\":0,\"ticks\":\"\"}},\"type\":\"scattergeo\"}],\"scattergl\":[{\"marker\":{\"colorbar\":{\"outlinewidth\":0,\"ticks\":\"\"}},\"type\":\"scattergl\"}],\"scattermapbox\":[{\"marker\":{\"colorbar\":{\"outlinewidth\":0,\"ticks\":\"\"}},\"type\":\"scattermapbox\"}],\"scatterpolargl\":[{\"marker\":{\"colorbar\":{\"outlinewidth\":0,\"ticks\":\"\"}},\"type\":\"scatterpolargl\"}],\"scatterpolar\":[{\"marker\":{\"colorbar\":{\"outlinewidth\":0,\"ticks\":\"\"}},\"type\":\"scatterpolar\"}],\"scatter\":[{\"marker\":{\"colorbar\":{\"outlinewidth\":0,\"ticks\":\"\"}},\"type\":\"scatter\"}],\"scatterternary\":[{\"marker\":{\"colorbar\":{\"outlinewidth\":0,\"ticks\":\"\"}},\"type\":\"scatterternary\"}],\"surface\":[{\"colorbar\":{\"outlinewidth\":0,\"ticks\":\"\"},\"colorscale\":[[0.0,\"#0d0887\"],[0.1111111111111111,\"#46039f\"],[0.2222222222222222,\"#7201a8\"],[0.3333333333333333,\"#9c179e\"],[0.4444444444444444,\"#bd3786\"],[0.5555555555555556,\"#d8576b\"],[0.6666666666666666,\"#ed7953\"],[0.7777777777777778,\"#fb9f3a\"],[0.8888888888888888,\"#fdca26\"],[1.0,\"#f0f921\"]],\"type\":\"surface\"}],\"table\":[{\"cells\":{\"fill\":{\"color\":\"#EBF0F8\"},\"line\":{\"color\":\"white\"}},\"header\":{\"fill\":{\"color\":\"#C8D4E3\"},\"line\":{\"color\":\"white\"}},\"type\":\"table\"}]},\"layout\":{\"annotationdefaults\":{\"arrowcolor\":\"#2a3f5f\",\"arrowhead\":0,\"arrowwidth\":1},\"autotypenumbers\":\"strict\",\"coloraxis\":{\"colorbar\":{\"outlinewidth\":0,\"ticks\":\"\"}},\"colorscale\":{\"diverging\":[[0,\"#8e0152\"],[0.1,\"#c51b7d\"],[0.2,\"#de77ae\"],[0.3,\"#f1b6da\"],[0.4,\"#fde0ef\"],[0.5,\"#f7f7f7\"],[0.6,\"#e6f5d0\"],[0.7,\"#b8e186\"],[0.8,\"#7fbc41\"],[0.9,\"#4d9221\"],[1,\"#276419\"]],\"sequential\":[[0.0,\"#0d0887\"],[0.1111111111111111,\"#46039f\"],[0.2222222222222222,\"#7201a8\"],[0.3333333333333333,\"#9c179e\"],[0.4444444444444444,\"#bd3786\"],[0.5555555555555556,\"#d8576b\"],[0.6666666666666666,\"#ed7953\"],[0.7777777777777778,\"#fb9f3a\"],[0.8888888888888888,\"#fdca26\"],[1.0,\"#f0f921\"]],\"sequentialminus\":[[0.0,\"#0d0887\"],[0.1111111111111111,\"#46039f\"],[0.2222222222222222,\"#7201a8\"],[0.3333333333333333,\"#9c179e\"],[0.4444444444444444,\"#bd3786\"],[0.5555555555555556,\"#d8576b\"],[0.6666666666666666,\"#ed7953\"],[0.7777777777777778,\"#fb9f3a\"],[0.8888888888888888,\"#fdca26\"],[1.0,\"#f0f921\"]]},\"colorway\":[\"#636efa\",\"#EF553B\",\"#00cc96\",\"#ab63fa\",\"#FFA15A\",\"#19d3f3\",\"#FF6692\",\"#B6E880\",\"#FF97FF\",\"#FECB52\"],\"font\":{\"color\":\"#2a3f5f\"},\"geo\":{\"bgcolor\":\"white\",\"lakecolor\":\"white\",\"landcolor\":\"#E5ECF6\",\"showlakes\":true,\"showland\":true,\"subunitcolor\":\"white\"},\"hoverlabel\":{\"align\":\"left\"},\"hovermode\":\"closest\",\"mapbox\":{\"style\":\"light\"},\"paper_bgcolor\":\"white\",\"plot_bgcolor\":\"#E5ECF6\",\"polar\":{\"angularaxis\":{\"gridcolor\":\"white\",\"linecolor\":\"white\",\"ticks\":\"\"},\"bgcolor\":\"#E5ECF6\",\"radialaxis\":{\"gridcolor\":\"white\",\"linecolor\":\"white\",\"ticks\":\"\"}},\"scene\":{\"xaxis\":{\"backgroundcolor\":\"#E5ECF6\",\"gridcolor\":\"white\",\"gridwidth\":2,\"linecolor\":\"white\",\"showbackground\":true,\"ticks\":\"\",\"zerolinecolor\":\"white\"},\"yaxis\":{\"backgroundcolor\":\"#E5ECF6\",\"gridcolor\":\"white\",\"gridwidth\":2,\"linecolor\":\"white\",\"showbackground\":true,\"ticks\":\"\",\"zerolinecolor\":\"white\"},\"zaxis\":{\"backgroundcolor\":\"#E5ECF6\",\"gridcolor\":\"white\",\"gridwidth\":2,\"linecolor\":\"white\",\"showbackground\":true,\"ticks\":\"\",\"zerolinecolor\":\"white\"}},\"shapedefaults\":{\"line\":{\"color\":\"#2a3f5f\"}},\"ternary\":{\"aaxis\":{\"gridcolor\":\"white\",\"linecolor\":\"white\",\"ticks\":\"\"},\"baxis\":{\"gridcolor\":\"white\",\"linecolor\":\"white\",\"ticks\":\"\"},\"bgcolor\":\"#E5ECF6\",\"caxis\":{\"gridcolor\":\"white\",\"linecolor\":\"white\",\"ticks\":\"\"}},\"title\":{\"x\":0.05},\"xaxis\":{\"automargin\":true,\"gridcolor\":\"white\",\"linecolor\":\"white\",\"ticks\":\"\",\"title\":{\"standoff\":15},\"zerolinecolor\":\"white\",\"zerolinewidth\":2},\"yaxis\":{\"automargin\":true,\"gridcolor\":\"white\",\"linecolor\":\"white\",\"ticks\":\"\",\"title\":{\"standoff\":15},\"zerolinecolor\":\"white\",\"zerolinewidth\":2}}},\"title\":{\"font\":{\"color\":\"#4D5663\"},\"text\":\"Sentiment Polarity Distribution\"},\"xaxis\":{\"gridcolor\":\"#E1E5ED\",\"linecolor\":\"black\",\"showgrid\":true,\"tickfont\":{\"color\":\"#4D5663\"},\"title\":{\"font\":{\"color\":\"#4D5663\"},\"text\":\"polarity\"},\"zerolinecolor\":\"#E1E5ED\"},\"yaxis\":{\"gridcolor\":\"#E1E5ED\",\"linecolor\":\"black\",\"showgrid\":true,\"tickfont\":{\"color\":\"#4D5663\"},\"title\":{\"font\":{\"color\":\"#4D5663\"},\"text\":\"count\"},\"zerolinecolor\":\"#E1E5ED\"}},                        {\"showLink\": true, \"linkText\": \"Export to plot.ly\", \"plotlyServerURL\": \"https://plot.ly\", \"responsive\": true}                    ).then(function(){\n",
       "                            \n",
       "var gd = document.getElementById('6d35f406-ee4e-439a-affb-294d6c07355a');\n",
       "var x = new MutationObserver(function (mutations, observer) {{\n",
       "        var display = window.getComputedStyle(gd).display;\n",
       "        if (!display || display === 'none') {{\n",
       "            console.log([gd, 'removed!']);\n",
       "            Plotly.purge(gd);\n",
       "            observer.disconnect();\n",
       "        }}\n",
       "}});\n",
       "\n",
       "// Listen for the removal of the full notebook cells\n",
       "var notebookContainer = gd.closest('#notebook-container');\n",
       "if (notebookContainer) {{\n",
       "    x.observe(notebookContainer, {childList: true});\n",
       "}}\n",
       "\n",
       "// Listen for the clearing of the current output cell\n",
       "var outputEl = gd.closest('.output');\n",
       "if (outputEl) {{\n",
       "    x.observe(outputEl, {childList: true});\n",
       "}}\n",
       "\n",
       "                        })                };                });            </script>        </div>"
      ]
     },
     "metadata": {},
     "output_type": "display_data"
    }
   ],
   "source": [
    "files_df['polarity'].iplot(\n",
    "    kind='hist',\n",
    "    bins=50,\n",
    "    xTitle='polarity',\n",
    "    linecolor='black',\n",
    "    yTitle='count',\n",
    "    title='Sentiment Polarity Distribution')"
   ]
  },
  {
   "cell_type": "code",
   "execution_count": 149,
   "metadata": {},
   "outputs": [
    {
     "data": {
      "application/vnd.plotly.v1+json": {
       "config": {
        "linkText": "Export to plot.ly",
        "plotlyServerURL": "https://plot.ly",
        "showLink": true
       },
       "data": [
        {
         "histfunc": "count",
         "histnorm": "",
         "marker": {
          "color": "rgba(255, 153, 51, 1.0)",
          "line": {
           "color": "#000000",
           "width": 1.3
          }
         },
         "name": "review_len",
         "nbinsx": 100,
         "opacity": 0.8,
         "orientation": "v",
         "type": "histogram",
         "x": [
          900,
          806,
          1179,
          2209,
          1316,
          5700,
          375,
          1115,
          260,
          1572,
          254,
          678,
          1179,
          765,
          605,
          2120,
          1271,
          641,
          687,
          794,
          5209,
          3889,
          676,
          975,
          1111,
          715,
          680,
          274,
          820,
          1149,
          1437,
          842,
          694,
          809,
          932,
          1556,
          355,
          1408,
          927,
          266,
          1314,
          1935,
          733,
          2134,
          763,
          4116,
          2603,
          1435,
          731,
          1114,
          735,
          813,
          2370,
          2414,
          1491,
          714,
          1082,
          3681,
          1556,
          960,
          761,
          232,
          920,
          1169,
          717,
          1459,
          481,
          3027,
          723,
          581,
          932,
          1013,
          1468,
          2974,
          1557,
          337,
          1646,
          883,
          344,
          719,
          757,
          706,
          834,
          2692,
          1850,
          777,
          878,
          1962,
          790,
          1222,
          1975,
          981,
          1426,
          838,
          980,
          698,
          2696,
          691,
          1140,
          1012,
          2448,
          1552,
          4415,
          1086,
          1161,
          923,
          1637,
          684,
          1354,
          3050,
          813,
          719,
          917,
          1305,
          2144,
          2094,
          3315,
          312,
          3397,
          639,
          575,
          402,
          700,
          407,
          3803,
          732,
          830,
          297,
          2201,
          1939,
          3270,
          865,
          2853,
          1770,
          1795,
          510,
          1906,
          3495,
          249,
          1248,
          3752,
          2161,
          749,
          2612,
          1451,
          884,
          2887,
          1016,
          2038,
          317,
          1783,
          2905,
          1731,
          171,
          870,
          655,
          798,
          1188,
          639,
          314,
          531,
          1076,
          1872,
          721,
          1905,
          1038,
          1245,
          1025,
          1217,
          1079,
          1086,
          667,
          129,
          1409,
          973,
          954,
          925,
          654,
          1050,
          1097,
          487,
          1307,
          937,
          2985,
          724,
          811,
          581,
          1123,
          737,
          690,
          889,
          637,
          2121,
          1128,
          834,
          1177,
          516,
          394,
          638,
          749,
          975,
          2284,
          951
         ]
        }
       ],
       "layout": {
        "barmode": "overlay",
        "legend": {
         "bgcolor": "#F5F6F9",
         "font": {
          "color": "#4D5663"
         }
        },
        "paper_bgcolor": "#F5F6F9",
        "plot_bgcolor": "#F5F6F9",
        "template": {
         "data": {
          "bar": [
           {
            "error_x": {
             "color": "#2a3f5f"
            },
            "error_y": {
             "color": "#2a3f5f"
            },
            "marker": {
             "line": {
              "color": "#E5ECF6",
              "width": 0.5
             },
             "pattern": {
              "fillmode": "overlay",
              "size": 10,
              "solidity": 0.2
             }
            },
            "type": "bar"
           }
          ],
          "barpolar": [
           {
            "marker": {
             "line": {
              "color": "#E5ECF6",
              "width": 0.5
             },
             "pattern": {
              "fillmode": "overlay",
              "size": 10,
              "solidity": 0.2
             }
            },
            "type": "barpolar"
           }
          ],
          "carpet": [
           {
            "aaxis": {
             "endlinecolor": "#2a3f5f",
             "gridcolor": "white",
             "linecolor": "white",
             "minorgridcolor": "white",
             "startlinecolor": "#2a3f5f"
            },
            "baxis": {
             "endlinecolor": "#2a3f5f",
             "gridcolor": "white",
             "linecolor": "white",
             "minorgridcolor": "white",
             "startlinecolor": "#2a3f5f"
            },
            "type": "carpet"
           }
          ],
          "choropleth": [
           {
            "colorbar": {
             "outlinewidth": 0,
             "ticks": ""
            },
            "type": "choropleth"
           }
          ],
          "contour": [
           {
            "colorbar": {
             "outlinewidth": 0,
             "ticks": ""
            },
            "colorscale": [
             [
              0,
              "#0d0887"
             ],
             [
              0.1111111111111111,
              "#46039f"
             ],
             [
              0.2222222222222222,
              "#7201a8"
             ],
             [
              0.3333333333333333,
              "#9c179e"
             ],
             [
              0.4444444444444444,
              "#bd3786"
             ],
             [
              0.5555555555555556,
              "#d8576b"
             ],
             [
              0.6666666666666666,
              "#ed7953"
             ],
             [
              0.7777777777777778,
              "#fb9f3a"
             ],
             [
              0.8888888888888888,
              "#fdca26"
             ],
             [
              1,
              "#f0f921"
             ]
            ],
            "type": "contour"
           }
          ],
          "contourcarpet": [
           {
            "colorbar": {
             "outlinewidth": 0,
             "ticks": ""
            },
            "type": "contourcarpet"
           }
          ],
          "heatmap": [
           {
            "colorbar": {
             "outlinewidth": 0,
             "ticks": ""
            },
            "colorscale": [
             [
              0,
              "#0d0887"
             ],
             [
              0.1111111111111111,
              "#46039f"
             ],
             [
              0.2222222222222222,
              "#7201a8"
             ],
             [
              0.3333333333333333,
              "#9c179e"
             ],
             [
              0.4444444444444444,
              "#bd3786"
             ],
             [
              0.5555555555555556,
              "#d8576b"
             ],
             [
              0.6666666666666666,
              "#ed7953"
             ],
             [
              0.7777777777777778,
              "#fb9f3a"
             ],
             [
              0.8888888888888888,
              "#fdca26"
             ],
             [
              1,
              "#f0f921"
             ]
            ],
            "type": "heatmap"
           }
          ],
          "heatmapgl": [
           {
            "colorbar": {
             "outlinewidth": 0,
             "ticks": ""
            },
            "colorscale": [
             [
              0,
              "#0d0887"
             ],
             [
              0.1111111111111111,
              "#46039f"
             ],
             [
              0.2222222222222222,
              "#7201a8"
             ],
             [
              0.3333333333333333,
              "#9c179e"
             ],
             [
              0.4444444444444444,
              "#bd3786"
             ],
             [
              0.5555555555555556,
              "#d8576b"
             ],
             [
              0.6666666666666666,
              "#ed7953"
             ],
             [
              0.7777777777777778,
              "#fb9f3a"
             ],
             [
              0.8888888888888888,
              "#fdca26"
             ],
             [
              1,
              "#f0f921"
             ]
            ],
            "type": "heatmapgl"
           }
          ],
          "histogram": [
           {
            "marker": {
             "pattern": {
              "fillmode": "overlay",
              "size": 10,
              "solidity": 0.2
             }
            },
            "type": "histogram"
           }
          ],
          "histogram2d": [
           {
            "colorbar": {
             "outlinewidth": 0,
             "ticks": ""
            },
            "colorscale": [
             [
              0,
              "#0d0887"
             ],
             [
              0.1111111111111111,
              "#46039f"
             ],
             [
              0.2222222222222222,
              "#7201a8"
             ],
             [
              0.3333333333333333,
              "#9c179e"
             ],
             [
              0.4444444444444444,
              "#bd3786"
             ],
             [
              0.5555555555555556,
              "#d8576b"
             ],
             [
              0.6666666666666666,
              "#ed7953"
             ],
             [
              0.7777777777777778,
              "#fb9f3a"
             ],
             [
              0.8888888888888888,
              "#fdca26"
             ],
             [
              1,
              "#f0f921"
             ]
            ],
            "type": "histogram2d"
           }
          ],
          "histogram2dcontour": [
           {
            "colorbar": {
             "outlinewidth": 0,
             "ticks": ""
            },
            "colorscale": [
             [
              0,
              "#0d0887"
             ],
             [
              0.1111111111111111,
              "#46039f"
             ],
             [
              0.2222222222222222,
              "#7201a8"
             ],
             [
              0.3333333333333333,
              "#9c179e"
             ],
             [
              0.4444444444444444,
              "#bd3786"
             ],
             [
              0.5555555555555556,
              "#d8576b"
             ],
             [
              0.6666666666666666,
              "#ed7953"
             ],
             [
              0.7777777777777778,
              "#fb9f3a"
             ],
             [
              0.8888888888888888,
              "#fdca26"
             ],
             [
              1,
              "#f0f921"
             ]
            ],
            "type": "histogram2dcontour"
           }
          ],
          "mesh3d": [
           {
            "colorbar": {
             "outlinewidth": 0,
             "ticks": ""
            },
            "type": "mesh3d"
           }
          ],
          "parcoords": [
           {
            "line": {
             "colorbar": {
              "outlinewidth": 0,
              "ticks": ""
             }
            },
            "type": "parcoords"
           }
          ],
          "pie": [
           {
            "automargin": true,
            "type": "pie"
           }
          ],
          "scatter": [
           {
            "marker": {
             "colorbar": {
              "outlinewidth": 0,
              "ticks": ""
             }
            },
            "type": "scatter"
           }
          ],
          "scatter3d": [
           {
            "line": {
             "colorbar": {
              "outlinewidth": 0,
              "ticks": ""
             }
            },
            "marker": {
             "colorbar": {
              "outlinewidth": 0,
              "ticks": ""
             }
            },
            "type": "scatter3d"
           }
          ],
          "scattercarpet": [
           {
            "marker": {
             "colorbar": {
              "outlinewidth": 0,
              "ticks": ""
             }
            },
            "type": "scattercarpet"
           }
          ],
          "scattergeo": [
           {
            "marker": {
             "colorbar": {
              "outlinewidth": 0,
              "ticks": ""
             }
            },
            "type": "scattergeo"
           }
          ],
          "scattergl": [
           {
            "marker": {
             "colorbar": {
              "outlinewidth": 0,
              "ticks": ""
             }
            },
            "type": "scattergl"
           }
          ],
          "scattermapbox": [
           {
            "marker": {
             "colorbar": {
              "outlinewidth": 0,
              "ticks": ""
             }
            },
            "type": "scattermapbox"
           }
          ],
          "scatterpolar": [
           {
            "marker": {
             "colorbar": {
              "outlinewidth": 0,
              "ticks": ""
             }
            },
            "type": "scatterpolar"
           }
          ],
          "scatterpolargl": [
           {
            "marker": {
             "colorbar": {
              "outlinewidth": 0,
              "ticks": ""
             }
            },
            "type": "scatterpolargl"
           }
          ],
          "scatterternary": [
           {
            "marker": {
             "colorbar": {
              "outlinewidth": 0,
              "ticks": ""
             }
            },
            "type": "scatterternary"
           }
          ],
          "surface": [
           {
            "colorbar": {
             "outlinewidth": 0,
             "ticks": ""
            },
            "colorscale": [
             [
              0,
              "#0d0887"
             ],
             [
              0.1111111111111111,
              "#46039f"
             ],
             [
              0.2222222222222222,
              "#7201a8"
             ],
             [
              0.3333333333333333,
              "#9c179e"
             ],
             [
              0.4444444444444444,
              "#bd3786"
             ],
             [
              0.5555555555555556,
              "#d8576b"
             ],
             [
              0.6666666666666666,
              "#ed7953"
             ],
             [
              0.7777777777777778,
              "#fb9f3a"
             ],
             [
              0.8888888888888888,
              "#fdca26"
             ],
             [
              1,
              "#f0f921"
             ]
            ],
            "type": "surface"
           }
          ],
          "table": [
           {
            "cells": {
             "fill": {
              "color": "#EBF0F8"
             },
             "line": {
              "color": "white"
             }
            },
            "header": {
             "fill": {
              "color": "#C8D4E3"
             },
             "line": {
              "color": "white"
             }
            },
            "type": "table"
           }
          ]
         },
         "layout": {
          "annotationdefaults": {
           "arrowcolor": "#2a3f5f",
           "arrowhead": 0,
           "arrowwidth": 1
          },
          "autotypenumbers": "strict",
          "coloraxis": {
           "colorbar": {
            "outlinewidth": 0,
            "ticks": ""
           }
          },
          "colorscale": {
           "diverging": [
            [
             0,
             "#8e0152"
            ],
            [
             0.1,
             "#c51b7d"
            ],
            [
             0.2,
             "#de77ae"
            ],
            [
             0.3,
             "#f1b6da"
            ],
            [
             0.4,
             "#fde0ef"
            ],
            [
             0.5,
             "#f7f7f7"
            ],
            [
             0.6,
             "#e6f5d0"
            ],
            [
             0.7,
             "#b8e186"
            ],
            [
             0.8,
             "#7fbc41"
            ],
            [
             0.9,
             "#4d9221"
            ],
            [
             1,
             "#276419"
            ]
           ],
           "sequential": [
            [
             0,
             "#0d0887"
            ],
            [
             0.1111111111111111,
             "#46039f"
            ],
            [
             0.2222222222222222,
             "#7201a8"
            ],
            [
             0.3333333333333333,
             "#9c179e"
            ],
            [
             0.4444444444444444,
             "#bd3786"
            ],
            [
             0.5555555555555556,
             "#d8576b"
            ],
            [
             0.6666666666666666,
             "#ed7953"
            ],
            [
             0.7777777777777778,
             "#fb9f3a"
            ],
            [
             0.8888888888888888,
             "#fdca26"
            ],
            [
             1,
             "#f0f921"
            ]
           ],
           "sequentialminus": [
            [
             0,
             "#0d0887"
            ],
            [
             0.1111111111111111,
             "#46039f"
            ],
            [
             0.2222222222222222,
             "#7201a8"
            ],
            [
             0.3333333333333333,
             "#9c179e"
            ],
            [
             0.4444444444444444,
             "#bd3786"
            ],
            [
             0.5555555555555556,
             "#d8576b"
            ],
            [
             0.6666666666666666,
             "#ed7953"
            ],
            [
             0.7777777777777778,
             "#fb9f3a"
            ],
            [
             0.8888888888888888,
             "#fdca26"
            ],
            [
             1,
             "#f0f921"
            ]
           ]
          },
          "colorway": [
           "#636efa",
           "#EF553B",
           "#00cc96",
           "#ab63fa",
           "#FFA15A",
           "#19d3f3",
           "#FF6692",
           "#B6E880",
           "#FF97FF",
           "#FECB52"
          ],
          "font": {
           "color": "#2a3f5f"
          },
          "geo": {
           "bgcolor": "white",
           "lakecolor": "white",
           "landcolor": "#E5ECF6",
           "showlakes": true,
           "showland": true,
           "subunitcolor": "white"
          },
          "hoverlabel": {
           "align": "left"
          },
          "hovermode": "closest",
          "mapbox": {
           "style": "light"
          },
          "paper_bgcolor": "white",
          "plot_bgcolor": "#E5ECF6",
          "polar": {
           "angularaxis": {
            "gridcolor": "white",
            "linecolor": "white",
            "ticks": ""
           },
           "bgcolor": "#E5ECF6",
           "radialaxis": {
            "gridcolor": "white",
            "linecolor": "white",
            "ticks": ""
           }
          },
          "scene": {
           "xaxis": {
            "backgroundcolor": "#E5ECF6",
            "gridcolor": "white",
            "gridwidth": 2,
            "linecolor": "white",
            "showbackground": true,
            "ticks": "",
            "zerolinecolor": "white"
           },
           "yaxis": {
            "backgroundcolor": "#E5ECF6",
            "gridcolor": "white",
            "gridwidth": 2,
            "linecolor": "white",
            "showbackground": true,
            "ticks": "",
            "zerolinecolor": "white"
           },
           "zaxis": {
            "backgroundcolor": "#E5ECF6",
            "gridcolor": "white",
            "gridwidth": 2,
            "linecolor": "white",
            "showbackground": true,
            "ticks": "",
            "zerolinecolor": "white"
           }
          },
          "shapedefaults": {
           "line": {
            "color": "#2a3f5f"
           }
          },
          "ternary": {
           "aaxis": {
            "gridcolor": "white",
            "linecolor": "white",
            "ticks": ""
           },
           "baxis": {
            "gridcolor": "white",
            "linecolor": "white",
            "ticks": ""
           },
           "bgcolor": "#E5ECF6",
           "caxis": {
            "gridcolor": "white",
            "linecolor": "white",
            "ticks": ""
           }
          },
          "title": {
           "x": 0.05
          },
          "xaxis": {
           "automargin": true,
           "gridcolor": "white",
           "linecolor": "white",
           "ticks": "",
           "title": {
            "standoff": 15
           },
           "zerolinecolor": "white",
           "zerolinewidth": 2
          },
          "yaxis": {
           "automargin": true,
           "gridcolor": "white",
           "linecolor": "white",
           "ticks": "",
           "title": {
            "standoff": 15
           },
           "zerolinecolor": "white",
           "zerolinewidth": 2
          }
         }
        },
        "title": {
         "font": {
          "color": "#4D5663"
         },
         "text": "Review Text Length Distribution"
        },
        "xaxis": {
         "gridcolor": "#E1E5ED",
         "linecolor": "black",
         "showgrid": true,
         "tickfont": {
          "color": "#4D5663"
         },
         "title": {
          "font": {
           "color": "#4D5663"
          },
          "text": "review length"
         },
         "zerolinecolor": "#E1E5ED"
        },
        "yaxis": {
         "gridcolor": "#E1E5ED",
         "linecolor": "black",
         "showgrid": true,
         "tickfont": {
          "color": "#4D5663"
         },
         "title": {
          "font": {
           "color": "#4D5663"
          },
          "text": "count"
         },
         "zerolinecolor": "#E1E5ED"
        }
       }
      },
      "text/html": [
       "<div>                            <div id=\"86bf4d6f-f322-4048-a0ae-26295a4f3532\" class=\"plotly-graph-div\" style=\"height:525px; width:100%;\"></div>            <script type=\"text/javascript\">                require([\"plotly\"], function(Plotly) {                    window.PLOTLYENV=window.PLOTLYENV || {};\n",
       "                    window.PLOTLYENV.BASE_URL='https://plot.ly';                                    if (document.getElementById(\"86bf4d6f-f322-4048-a0ae-26295a4f3532\")) {                    Plotly.newPlot(                        \"86bf4d6f-f322-4048-a0ae-26295a4f3532\",                        [{\"histfunc\":\"count\",\"histnorm\":\"\",\"marker\":{\"color\":\"rgba(255, 153, 51, 1.0)\",\"line\":{\"color\":\"#000000\",\"width\":1.3}},\"name\":\"review_len\",\"nbinsx\":100,\"opacity\":0.8,\"orientation\":\"v\",\"x\":[900,806,1179,2209,1316,5700,375,1115,260,1572,254,678,1179,765,605,2120,1271,641,687,794,5209,3889,676,975,1111,715,680,274,820,1149,1437,842,694,809,932,1556,355,1408,927,266,1314,1935,733,2134,763,4116,2603,1435,731,1114,735,813,2370,2414,1491,714,1082,3681,1556,960,761,232,920,1169,717,1459,481,3027,723,581,932,1013,1468,2974,1557,337,1646,883,344,719,757,706,834,2692,1850,777,878,1962,790,1222,1975,981,1426,838,980,698,2696,691,1140,1012,2448,1552,4415,1086,1161,923,1637,684,1354,3050,813,719,917,1305,2144,2094,3315,312,3397,639,575,402,700,407,3803,732,830,297,2201,1939,3270,865,2853,1770,1795,510,1906,3495,249,1248,3752,2161,749,2612,1451,884,2887,1016,2038,317,1783,2905,1731,171,870,655,798,1188,639,314,531,1076,1872,721,1905,1038,1245,1025,1217,1079,1086,667,129,1409,973,954,925,654,1050,1097,487,1307,937,2985,724,811,581,1123,737,690,889,637,2121,1128,834,1177,516,394,638,749,975,2284,951],\"type\":\"histogram\"}],                        {\"barmode\":\"overlay\",\"legend\":{\"bgcolor\":\"#F5F6F9\",\"font\":{\"color\":\"#4D5663\"}},\"paper_bgcolor\":\"#F5F6F9\",\"plot_bgcolor\":\"#F5F6F9\",\"template\":{\"data\":{\"barpolar\":[{\"marker\":{\"line\":{\"color\":\"#E5ECF6\",\"width\":0.5},\"pattern\":{\"fillmode\":\"overlay\",\"size\":10,\"solidity\":0.2}},\"type\":\"barpolar\"}],\"bar\":[{\"error_x\":{\"color\":\"#2a3f5f\"},\"error_y\":{\"color\":\"#2a3f5f\"},\"marker\":{\"line\":{\"color\":\"#E5ECF6\",\"width\":0.5},\"pattern\":{\"fillmode\":\"overlay\",\"size\":10,\"solidity\":0.2}},\"type\":\"bar\"}],\"carpet\":[{\"aaxis\":{\"endlinecolor\":\"#2a3f5f\",\"gridcolor\":\"white\",\"linecolor\":\"white\",\"minorgridcolor\":\"white\",\"startlinecolor\":\"#2a3f5f\"},\"baxis\":{\"endlinecolor\":\"#2a3f5f\",\"gridcolor\":\"white\",\"linecolor\":\"white\",\"minorgridcolor\":\"white\",\"startlinecolor\":\"#2a3f5f\"},\"type\":\"carpet\"}],\"choropleth\":[{\"colorbar\":{\"outlinewidth\":0,\"ticks\":\"\"},\"type\":\"choropleth\"}],\"contourcarpet\":[{\"colorbar\":{\"outlinewidth\":0,\"ticks\":\"\"},\"type\":\"contourcarpet\"}],\"contour\":[{\"colorbar\":{\"outlinewidth\":0,\"ticks\":\"\"},\"colorscale\":[[0.0,\"#0d0887\"],[0.1111111111111111,\"#46039f\"],[0.2222222222222222,\"#7201a8\"],[0.3333333333333333,\"#9c179e\"],[0.4444444444444444,\"#bd3786\"],[0.5555555555555556,\"#d8576b\"],[0.6666666666666666,\"#ed7953\"],[0.7777777777777778,\"#fb9f3a\"],[0.8888888888888888,\"#fdca26\"],[1.0,\"#f0f921\"]],\"type\":\"contour\"}],\"heatmapgl\":[{\"colorbar\":{\"outlinewidth\":0,\"ticks\":\"\"},\"colorscale\":[[0.0,\"#0d0887\"],[0.1111111111111111,\"#46039f\"],[0.2222222222222222,\"#7201a8\"],[0.3333333333333333,\"#9c179e\"],[0.4444444444444444,\"#bd3786\"],[0.5555555555555556,\"#d8576b\"],[0.6666666666666666,\"#ed7953\"],[0.7777777777777778,\"#fb9f3a\"],[0.8888888888888888,\"#fdca26\"],[1.0,\"#f0f921\"]],\"type\":\"heatmapgl\"}],\"heatmap\":[{\"colorbar\":{\"outlinewidth\":0,\"ticks\":\"\"},\"colorscale\":[[0.0,\"#0d0887\"],[0.1111111111111111,\"#46039f\"],[0.2222222222222222,\"#7201a8\"],[0.3333333333333333,\"#9c179e\"],[0.4444444444444444,\"#bd3786\"],[0.5555555555555556,\"#d8576b\"],[0.6666666666666666,\"#ed7953\"],[0.7777777777777778,\"#fb9f3a\"],[0.8888888888888888,\"#fdca26\"],[1.0,\"#f0f921\"]],\"type\":\"heatmap\"}],\"histogram2dcontour\":[{\"colorbar\":{\"outlinewidth\":0,\"ticks\":\"\"},\"colorscale\":[[0.0,\"#0d0887\"],[0.1111111111111111,\"#46039f\"],[0.2222222222222222,\"#7201a8\"],[0.3333333333333333,\"#9c179e\"],[0.4444444444444444,\"#bd3786\"],[0.5555555555555556,\"#d8576b\"],[0.6666666666666666,\"#ed7953\"],[0.7777777777777778,\"#fb9f3a\"],[0.8888888888888888,\"#fdca26\"],[1.0,\"#f0f921\"]],\"type\":\"histogram2dcontour\"}],\"histogram2d\":[{\"colorbar\":{\"outlinewidth\":0,\"ticks\":\"\"},\"colorscale\":[[0.0,\"#0d0887\"],[0.1111111111111111,\"#46039f\"],[0.2222222222222222,\"#7201a8\"],[0.3333333333333333,\"#9c179e\"],[0.4444444444444444,\"#bd3786\"],[0.5555555555555556,\"#d8576b\"],[0.6666666666666666,\"#ed7953\"],[0.7777777777777778,\"#fb9f3a\"],[0.8888888888888888,\"#fdca26\"],[1.0,\"#f0f921\"]],\"type\":\"histogram2d\"}],\"histogram\":[{\"marker\":{\"pattern\":{\"fillmode\":\"overlay\",\"size\":10,\"solidity\":0.2}},\"type\":\"histogram\"}],\"mesh3d\":[{\"colorbar\":{\"outlinewidth\":0,\"ticks\":\"\"},\"type\":\"mesh3d\"}],\"parcoords\":[{\"line\":{\"colorbar\":{\"outlinewidth\":0,\"ticks\":\"\"}},\"type\":\"parcoords\"}],\"pie\":[{\"automargin\":true,\"type\":\"pie\"}],\"scatter3d\":[{\"line\":{\"colorbar\":{\"outlinewidth\":0,\"ticks\":\"\"}},\"marker\":{\"colorbar\":{\"outlinewidth\":0,\"ticks\":\"\"}},\"type\":\"scatter3d\"}],\"scattercarpet\":[{\"marker\":{\"colorbar\":{\"outlinewidth\":0,\"ticks\":\"\"}},\"type\":\"scattercarpet\"}],\"scattergeo\":[{\"marker\":{\"colorbar\":{\"outlinewidth\":0,\"ticks\":\"\"}},\"type\":\"scattergeo\"}],\"scattergl\":[{\"marker\":{\"colorbar\":{\"outlinewidth\":0,\"ticks\":\"\"}},\"type\":\"scattergl\"}],\"scattermapbox\":[{\"marker\":{\"colorbar\":{\"outlinewidth\":0,\"ticks\":\"\"}},\"type\":\"scattermapbox\"}],\"scatterpolargl\":[{\"marker\":{\"colorbar\":{\"outlinewidth\":0,\"ticks\":\"\"}},\"type\":\"scatterpolargl\"}],\"scatterpolar\":[{\"marker\":{\"colorbar\":{\"outlinewidth\":0,\"ticks\":\"\"}},\"type\":\"scatterpolar\"}],\"scatter\":[{\"marker\":{\"colorbar\":{\"outlinewidth\":0,\"ticks\":\"\"}},\"type\":\"scatter\"}],\"scatterternary\":[{\"marker\":{\"colorbar\":{\"outlinewidth\":0,\"ticks\":\"\"}},\"type\":\"scatterternary\"}],\"surface\":[{\"colorbar\":{\"outlinewidth\":0,\"ticks\":\"\"},\"colorscale\":[[0.0,\"#0d0887\"],[0.1111111111111111,\"#46039f\"],[0.2222222222222222,\"#7201a8\"],[0.3333333333333333,\"#9c179e\"],[0.4444444444444444,\"#bd3786\"],[0.5555555555555556,\"#d8576b\"],[0.6666666666666666,\"#ed7953\"],[0.7777777777777778,\"#fb9f3a\"],[0.8888888888888888,\"#fdca26\"],[1.0,\"#f0f921\"]],\"type\":\"surface\"}],\"table\":[{\"cells\":{\"fill\":{\"color\":\"#EBF0F8\"},\"line\":{\"color\":\"white\"}},\"header\":{\"fill\":{\"color\":\"#C8D4E3\"},\"line\":{\"color\":\"white\"}},\"type\":\"table\"}]},\"layout\":{\"annotationdefaults\":{\"arrowcolor\":\"#2a3f5f\",\"arrowhead\":0,\"arrowwidth\":1},\"autotypenumbers\":\"strict\",\"coloraxis\":{\"colorbar\":{\"outlinewidth\":0,\"ticks\":\"\"}},\"colorscale\":{\"diverging\":[[0,\"#8e0152\"],[0.1,\"#c51b7d\"],[0.2,\"#de77ae\"],[0.3,\"#f1b6da\"],[0.4,\"#fde0ef\"],[0.5,\"#f7f7f7\"],[0.6,\"#e6f5d0\"],[0.7,\"#b8e186\"],[0.8,\"#7fbc41\"],[0.9,\"#4d9221\"],[1,\"#276419\"]],\"sequential\":[[0.0,\"#0d0887\"],[0.1111111111111111,\"#46039f\"],[0.2222222222222222,\"#7201a8\"],[0.3333333333333333,\"#9c179e\"],[0.4444444444444444,\"#bd3786\"],[0.5555555555555556,\"#d8576b\"],[0.6666666666666666,\"#ed7953\"],[0.7777777777777778,\"#fb9f3a\"],[0.8888888888888888,\"#fdca26\"],[1.0,\"#f0f921\"]],\"sequentialminus\":[[0.0,\"#0d0887\"],[0.1111111111111111,\"#46039f\"],[0.2222222222222222,\"#7201a8\"],[0.3333333333333333,\"#9c179e\"],[0.4444444444444444,\"#bd3786\"],[0.5555555555555556,\"#d8576b\"],[0.6666666666666666,\"#ed7953\"],[0.7777777777777778,\"#fb9f3a\"],[0.8888888888888888,\"#fdca26\"],[1.0,\"#f0f921\"]]},\"colorway\":[\"#636efa\",\"#EF553B\",\"#00cc96\",\"#ab63fa\",\"#FFA15A\",\"#19d3f3\",\"#FF6692\",\"#B6E880\",\"#FF97FF\",\"#FECB52\"],\"font\":{\"color\":\"#2a3f5f\"},\"geo\":{\"bgcolor\":\"white\",\"lakecolor\":\"white\",\"landcolor\":\"#E5ECF6\",\"showlakes\":true,\"showland\":true,\"subunitcolor\":\"white\"},\"hoverlabel\":{\"align\":\"left\"},\"hovermode\":\"closest\",\"mapbox\":{\"style\":\"light\"},\"paper_bgcolor\":\"white\",\"plot_bgcolor\":\"#E5ECF6\",\"polar\":{\"angularaxis\":{\"gridcolor\":\"white\",\"linecolor\":\"white\",\"ticks\":\"\"},\"bgcolor\":\"#E5ECF6\",\"radialaxis\":{\"gridcolor\":\"white\",\"linecolor\":\"white\",\"ticks\":\"\"}},\"scene\":{\"xaxis\":{\"backgroundcolor\":\"#E5ECF6\",\"gridcolor\":\"white\",\"gridwidth\":2,\"linecolor\":\"white\",\"showbackground\":true,\"ticks\":\"\",\"zerolinecolor\":\"white\"},\"yaxis\":{\"backgroundcolor\":\"#E5ECF6\",\"gridcolor\":\"white\",\"gridwidth\":2,\"linecolor\":\"white\",\"showbackground\":true,\"ticks\":\"\",\"zerolinecolor\":\"white\"},\"zaxis\":{\"backgroundcolor\":\"#E5ECF6\",\"gridcolor\":\"white\",\"gridwidth\":2,\"linecolor\":\"white\",\"showbackground\":true,\"ticks\":\"\",\"zerolinecolor\":\"white\"}},\"shapedefaults\":{\"line\":{\"color\":\"#2a3f5f\"}},\"ternary\":{\"aaxis\":{\"gridcolor\":\"white\",\"linecolor\":\"white\",\"ticks\":\"\"},\"baxis\":{\"gridcolor\":\"white\",\"linecolor\":\"white\",\"ticks\":\"\"},\"bgcolor\":\"#E5ECF6\",\"caxis\":{\"gridcolor\":\"white\",\"linecolor\":\"white\",\"ticks\":\"\"}},\"title\":{\"x\":0.05},\"xaxis\":{\"automargin\":true,\"gridcolor\":\"white\",\"linecolor\":\"white\",\"ticks\":\"\",\"title\":{\"standoff\":15},\"zerolinecolor\":\"white\",\"zerolinewidth\":2},\"yaxis\":{\"automargin\":true,\"gridcolor\":\"white\",\"linecolor\":\"white\",\"ticks\":\"\",\"title\":{\"standoff\":15},\"zerolinecolor\":\"white\",\"zerolinewidth\":2}}},\"title\":{\"font\":{\"color\":\"#4D5663\"},\"text\":\"Review Text Length Distribution\"},\"xaxis\":{\"gridcolor\":\"#E1E5ED\",\"linecolor\":\"black\",\"showgrid\":true,\"tickfont\":{\"color\":\"#4D5663\"},\"title\":{\"font\":{\"color\":\"#4D5663\"},\"text\":\"review length\"},\"zerolinecolor\":\"#E1E5ED\"},\"yaxis\":{\"gridcolor\":\"#E1E5ED\",\"linecolor\":\"black\",\"showgrid\":true,\"tickfont\":{\"color\":\"#4D5663\"},\"title\":{\"font\":{\"color\":\"#4D5663\"},\"text\":\"count\"},\"zerolinecolor\":\"#E1E5ED\"}},                        {\"showLink\": true, \"linkText\": \"Export to plot.ly\", \"plotlyServerURL\": \"https://plot.ly\", \"responsive\": true}                    ).then(function(){\n",
       "                            \n",
       "var gd = document.getElementById('86bf4d6f-f322-4048-a0ae-26295a4f3532');\n",
       "var x = new MutationObserver(function (mutations, observer) {{\n",
       "        var display = window.getComputedStyle(gd).display;\n",
       "        if (!display || display === 'none') {{\n",
       "            console.log([gd, 'removed!']);\n",
       "            Plotly.purge(gd);\n",
       "            observer.disconnect();\n",
       "        }}\n",
       "}});\n",
       "\n",
       "// Listen for the removal of the full notebook cells\n",
       "var notebookContainer = gd.closest('#notebook-container');\n",
       "if (notebookContainer) {{\n",
       "    x.observe(notebookContainer, {childList: true});\n",
       "}}\n",
       "\n",
       "// Listen for the clearing of the current output cell\n",
       "var outputEl = gd.closest('.output');\n",
       "if (outputEl) {{\n",
       "    x.observe(outputEl, {childList: true});\n",
       "}}\n",
       "\n",
       "                        })                };                });            </script>        </div>"
      ]
     },
     "metadata": {},
     "output_type": "display_data"
    }
   ],
   "source": [
    "files_df['review_len'].iplot(\n",
    "    kind='hist',\n",
    "    bins=100,\n",
    "    xTitle='review length',\n",
    "    linecolor='black',\n",
    "    yTitle='count',\n",
    "    title='Review Text Length Distribution')"
   ]
  },
  {
   "cell_type": "code",
   "execution_count": 150,
   "metadata": {},
   "outputs": [
    {
     "data": {
      "application/vnd.plotly.v1+json": {
       "config": {
        "linkText": "Export to plot.ly",
        "plotlyServerURL": "https://plot.ly",
        "showLink": true
       },
       "data": [
        {
         "histfunc": "count",
         "histnorm": "",
         "marker": {
          "color": "rgba(255, 153, 51, 1.0)",
          "line": {
           "color": "#000000",
           "width": 1.3
          }
         },
         "name": "word_count",
         "nbinsx": 100,
         "opacity": 0.8,
         "orientation": "v",
         "type": "histogram",
         "x": [
          168,
          140,
          215,
          337,
          232,
          993,
          72,
          178,
          41,
          290,
          40,
          130,
          201,
          136,
          108,
          366,
          226,
          119,
          123,
          147,
          891,
          682,
          124,
          184,
          195,
          126,
          113,
          47,
          146,
          219,
          228,
          150,
          127,
          159,
          169,
          269,
          58,
          262,
          170,
          49,
          229,
          331,
          126,
          346,
          124,
          671,
          443,
          259,
          114,
          196,
          131,
          145,
          404,
          426,
          243,
          124,
          182,
          651,
          287,
          157,
          129,
          41,
          158,
          216,
          128,
          256,
          84,
          542,
          119,
          101,
          163,
          176,
          264,
          465,
          273,
          63,
          278,
          156,
          68,
          135,
          146,
          146,
          145,
          426,
          319,
          137,
          147,
          349,
          146,
          203,
          345,
          172,
          237,
          160,
          194,
          144,
          492,
          122,
          193,
          169,
          412,
          254,
          770,
          190,
          213,
          171,
          276,
          138,
          260,
          527,
          149,
          135,
          173,
          230,
          374,
          367,
          573,
          54,
          583,
          119,
          110,
          75,
          126,
          74,
          651,
          137,
          152,
          53,
          405,
          361,
          587,
          157,
          507,
          324,
          285,
          83,
          316,
          566,
          42,
          236,
          626,
          365,
          131,
          419,
          255,
          151,
          472,
          191,
          338,
          56,
          287,
          529,
          320,
          32,
          158,
          120,
          150,
          203,
          122,
          51,
          102,
          202,
          320,
          123,
          333,
          191,
          217,
          200,
          220,
          207,
          201,
          128,
          21,
          258,
          177,
          171,
          171,
          103,
          195,
          209,
          89,
          238,
          168,
          516,
          136,
          168,
          98,
          202,
          138,
          137,
          147,
          126,
          391,
          193,
          181,
          216,
          105,
          76,
          118,
          126,
          176,
          388,
          157
         ]
        }
       ],
       "layout": {
        "barmode": "overlay",
        "legend": {
         "bgcolor": "#F5F6F9",
         "font": {
          "color": "#4D5663"
         }
        },
        "paper_bgcolor": "#F5F6F9",
        "plot_bgcolor": "#F5F6F9",
        "template": {
         "data": {
          "bar": [
           {
            "error_x": {
             "color": "#2a3f5f"
            },
            "error_y": {
             "color": "#2a3f5f"
            },
            "marker": {
             "line": {
              "color": "#E5ECF6",
              "width": 0.5
             },
             "pattern": {
              "fillmode": "overlay",
              "size": 10,
              "solidity": 0.2
             }
            },
            "type": "bar"
           }
          ],
          "barpolar": [
           {
            "marker": {
             "line": {
              "color": "#E5ECF6",
              "width": 0.5
             },
             "pattern": {
              "fillmode": "overlay",
              "size": 10,
              "solidity": 0.2
             }
            },
            "type": "barpolar"
           }
          ],
          "carpet": [
           {
            "aaxis": {
             "endlinecolor": "#2a3f5f",
             "gridcolor": "white",
             "linecolor": "white",
             "minorgridcolor": "white",
             "startlinecolor": "#2a3f5f"
            },
            "baxis": {
             "endlinecolor": "#2a3f5f",
             "gridcolor": "white",
             "linecolor": "white",
             "minorgridcolor": "white",
             "startlinecolor": "#2a3f5f"
            },
            "type": "carpet"
           }
          ],
          "choropleth": [
           {
            "colorbar": {
             "outlinewidth": 0,
             "ticks": ""
            },
            "type": "choropleth"
           }
          ],
          "contour": [
           {
            "colorbar": {
             "outlinewidth": 0,
             "ticks": ""
            },
            "colorscale": [
             [
              0,
              "#0d0887"
             ],
             [
              0.1111111111111111,
              "#46039f"
             ],
             [
              0.2222222222222222,
              "#7201a8"
             ],
             [
              0.3333333333333333,
              "#9c179e"
             ],
             [
              0.4444444444444444,
              "#bd3786"
             ],
             [
              0.5555555555555556,
              "#d8576b"
             ],
             [
              0.6666666666666666,
              "#ed7953"
             ],
             [
              0.7777777777777778,
              "#fb9f3a"
             ],
             [
              0.8888888888888888,
              "#fdca26"
             ],
             [
              1,
              "#f0f921"
             ]
            ],
            "type": "contour"
           }
          ],
          "contourcarpet": [
           {
            "colorbar": {
             "outlinewidth": 0,
             "ticks": ""
            },
            "type": "contourcarpet"
           }
          ],
          "heatmap": [
           {
            "colorbar": {
             "outlinewidth": 0,
             "ticks": ""
            },
            "colorscale": [
             [
              0,
              "#0d0887"
             ],
             [
              0.1111111111111111,
              "#46039f"
             ],
             [
              0.2222222222222222,
              "#7201a8"
             ],
             [
              0.3333333333333333,
              "#9c179e"
             ],
             [
              0.4444444444444444,
              "#bd3786"
             ],
             [
              0.5555555555555556,
              "#d8576b"
             ],
             [
              0.6666666666666666,
              "#ed7953"
             ],
             [
              0.7777777777777778,
              "#fb9f3a"
             ],
             [
              0.8888888888888888,
              "#fdca26"
             ],
             [
              1,
              "#f0f921"
             ]
            ],
            "type": "heatmap"
           }
          ],
          "heatmapgl": [
           {
            "colorbar": {
             "outlinewidth": 0,
             "ticks": ""
            },
            "colorscale": [
             [
              0,
              "#0d0887"
             ],
             [
              0.1111111111111111,
              "#46039f"
             ],
             [
              0.2222222222222222,
              "#7201a8"
             ],
             [
              0.3333333333333333,
              "#9c179e"
             ],
             [
              0.4444444444444444,
              "#bd3786"
             ],
             [
              0.5555555555555556,
              "#d8576b"
             ],
             [
              0.6666666666666666,
              "#ed7953"
             ],
             [
              0.7777777777777778,
              "#fb9f3a"
             ],
             [
              0.8888888888888888,
              "#fdca26"
             ],
             [
              1,
              "#f0f921"
             ]
            ],
            "type": "heatmapgl"
           }
          ],
          "histogram": [
           {
            "marker": {
             "pattern": {
              "fillmode": "overlay",
              "size": 10,
              "solidity": 0.2
             }
            },
            "type": "histogram"
           }
          ],
          "histogram2d": [
           {
            "colorbar": {
             "outlinewidth": 0,
             "ticks": ""
            },
            "colorscale": [
             [
              0,
              "#0d0887"
             ],
             [
              0.1111111111111111,
              "#46039f"
             ],
             [
              0.2222222222222222,
              "#7201a8"
             ],
             [
              0.3333333333333333,
              "#9c179e"
             ],
             [
              0.4444444444444444,
              "#bd3786"
             ],
             [
              0.5555555555555556,
              "#d8576b"
             ],
             [
              0.6666666666666666,
              "#ed7953"
             ],
             [
              0.7777777777777778,
              "#fb9f3a"
             ],
             [
              0.8888888888888888,
              "#fdca26"
             ],
             [
              1,
              "#f0f921"
             ]
            ],
            "type": "histogram2d"
           }
          ],
          "histogram2dcontour": [
           {
            "colorbar": {
             "outlinewidth": 0,
             "ticks": ""
            },
            "colorscale": [
             [
              0,
              "#0d0887"
             ],
             [
              0.1111111111111111,
              "#46039f"
             ],
             [
              0.2222222222222222,
              "#7201a8"
             ],
             [
              0.3333333333333333,
              "#9c179e"
             ],
             [
              0.4444444444444444,
              "#bd3786"
             ],
             [
              0.5555555555555556,
              "#d8576b"
             ],
             [
              0.6666666666666666,
              "#ed7953"
             ],
             [
              0.7777777777777778,
              "#fb9f3a"
             ],
             [
              0.8888888888888888,
              "#fdca26"
             ],
             [
              1,
              "#f0f921"
             ]
            ],
            "type": "histogram2dcontour"
           }
          ],
          "mesh3d": [
           {
            "colorbar": {
             "outlinewidth": 0,
             "ticks": ""
            },
            "type": "mesh3d"
           }
          ],
          "parcoords": [
           {
            "line": {
             "colorbar": {
              "outlinewidth": 0,
              "ticks": ""
             }
            },
            "type": "parcoords"
           }
          ],
          "pie": [
           {
            "automargin": true,
            "type": "pie"
           }
          ],
          "scatter": [
           {
            "marker": {
             "colorbar": {
              "outlinewidth": 0,
              "ticks": ""
             }
            },
            "type": "scatter"
           }
          ],
          "scatter3d": [
           {
            "line": {
             "colorbar": {
              "outlinewidth": 0,
              "ticks": ""
             }
            },
            "marker": {
             "colorbar": {
              "outlinewidth": 0,
              "ticks": ""
             }
            },
            "type": "scatter3d"
           }
          ],
          "scattercarpet": [
           {
            "marker": {
             "colorbar": {
              "outlinewidth": 0,
              "ticks": ""
             }
            },
            "type": "scattercarpet"
           }
          ],
          "scattergeo": [
           {
            "marker": {
             "colorbar": {
              "outlinewidth": 0,
              "ticks": ""
             }
            },
            "type": "scattergeo"
           }
          ],
          "scattergl": [
           {
            "marker": {
             "colorbar": {
              "outlinewidth": 0,
              "ticks": ""
             }
            },
            "type": "scattergl"
           }
          ],
          "scattermapbox": [
           {
            "marker": {
             "colorbar": {
              "outlinewidth": 0,
              "ticks": ""
             }
            },
            "type": "scattermapbox"
           }
          ],
          "scatterpolar": [
           {
            "marker": {
             "colorbar": {
              "outlinewidth": 0,
              "ticks": ""
             }
            },
            "type": "scatterpolar"
           }
          ],
          "scatterpolargl": [
           {
            "marker": {
             "colorbar": {
              "outlinewidth": 0,
              "ticks": ""
             }
            },
            "type": "scatterpolargl"
           }
          ],
          "scatterternary": [
           {
            "marker": {
             "colorbar": {
              "outlinewidth": 0,
              "ticks": ""
             }
            },
            "type": "scatterternary"
           }
          ],
          "surface": [
           {
            "colorbar": {
             "outlinewidth": 0,
             "ticks": ""
            },
            "colorscale": [
             [
              0,
              "#0d0887"
             ],
             [
              0.1111111111111111,
              "#46039f"
             ],
             [
              0.2222222222222222,
              "#7201a8"
             ],
             [
              0.3333333333333333,
              "#9c179e"
             ],
             [
              0.4444444444444444,
              "#bd3786"
             ],
             [
              0.5555555555555556,
              "#d8576b"
             ],
             [
              0.6666666666666666,
              "#ed7953"
             ],
             [
              0.7777777777777778,
              "#fb9f3a"
             ],
             [
              0.8888888888888888,
              "#fdca26"
             ],
             [
              1,
              "#f0f921"
             ]
            ],
            "type": "surface"
           }
          ],
          "table": [
           {
            "cells": {
             "fill": {
              "color": "#EBF0F8"
             },
             "line": {
              "color": "white"
             }
            },
            "header": {
             "fill": {
              "color": "#C8D4E3"
             },
             "line": {
              "color": "white"
             }
            },
            "type": "table"
           }
          ]
         },
         "layout": {
          "annotationdefaults": {
           "arrowcolor": "#2a3f5f",
           "arrowhead": 0,
           "arrowwidth": 1
          },
          "autotypenumbers": "strict",
          "coloraxis": {
           "colorbar": {
            "outlinewidth": 0,
            "ticks": ""
           }
          },
          "colorscale": {
           "diverging": [
            [
             0,
             "#8e0152"
            ],
            [
             0.1,
             "#c51b7d"
            ],
            [
             0.2,
             "#de77ae"
            ],
            [
             0.3,
             "#f1b6da"
            ],
            [
             0.4,
             "#fde0ef"
            ],
            [
             0.5,
             "#f7f7f7"
            ],
            [
             0.6,
             "#e6f5d0"
            ],
            [
             0.7,
             "#b8e186"
            ],
            [
             0.8,
             "#7fbc41"
            ],
            [
             0.9,
             "#4d9221"
            ],
            [
             1,
             "#276419"
            ]
           ],
           "sequential": [
            [
             0,
             "#0d0887"
            ],
            [
             0.1111111111111111,
             "#46039f"
            ],
            [
             0.2222222222222222,
             "#7201a8"
            ],
            [
             0.3333333333333333,
             "#9c179e"
            ],
            [
             0.4444444444444444,
             "#bd3786"
            ],
            [
             0.5555555555555556,
             "#d8576b"
            ],
            [
             0.6666666666666666,
             "#ed7953"
            ],
            [
             0.7777777777777778,
             "#fb9f3a"
            ],
            [
             0.8888888888888888,
             "#fdca26"
            ],
            [
             1,
             "#f0f921"
            ]
           ],
           "sequentialminus": [
            [
             0,
             "#0d0887"
            ],
            [
             0.1111111111111111,
             "#46039f"
            ],
            [
             0.2222222222222222,
             "#7201a8"
            ],
            [
             0.3333333333333333,
             "#9c179e"
            ],
            [
             0.4444444444444444,
             "#bd3786"
            ],
            [
             0.5555555555555556,
             "#d8576b"
            ],
            [
             0.6666666666666666,
             "#ed7953"
            ],
            [
             0.7777777777777778,
             "#fb9f3a"
            ],
            [
             0.8888888888888888,
             "#fdca26"
            ],
            [
             1,
             "#f0f921"
            ]
           ]
          },
          "colorway": [
           "#636efa",
           "#EF553B",
           "#00cc96",
           "#ab63fa",
           "#FFA15A",
           "#19d3f3",
           "#FF6692",
           "#B6E880",
           "#FF97FF",
           "#FECB52"
          ],
          "font": {
           "color": "#2a3f5f"
          },
          "geo": {
           "bgcolor": "white",
           "lakecolor": "white",
           "landcolor": "#E5ECF6",
           "showlakes": true,
           "showland": true,
           "subunitcolor": "white"
          },
          "hoverlabel": {
           "align": "left"
          },
          "hovermode": "closest",
          "mapbox": {
           "style": "light"
          },
          "paper_bgcolor": "white",
          "plot_bgcolor": "#E5ECF6",
          "polar": {
           "angularaxis": {
            "gridcolor": "white",
            "linecolor": "white",
            "ticks": ""
           },
           "bgcolor": "#E5ECF6",
           "radialaxis": {
            "gridcolor": "white",
            "linecolor": "white",
            "ticks": ""
           }
          },
          "scene": {
           "xaxis": {
            "backgroundcolor": "#E5ECF6",
            "gridcolor": "white",
            "gridwidth": 2,
            "linecolor": "white",
            "showbackground": true,
            "ticks": "",
            "zerolinecolor": "white"
           },
           "yaxis": {
            "backgroundcolor": "#E5ECF6",
            "gridcolor": "white",
            "gridwidth": 2,
            "linecolor": "white",
            "showbackground": true,
            "ticks": "",
            "zerolinecolor": "white"
           },
           "zaxis": {
            "backgroundcolor": "#E5ECF6",
            "gridcolor": "white",
            "gridwidth": 2,
            "linecolor": "white",
            "showbackground": true,
            "ticks": "",
            "zerolinecolor": "white"
           }
          },
          "shapedefaults": {
           "line": {
            "color": "#2a3f5f"
           }
          },
          "ternary": {
           "aaxis": {
            "gridcolor": "white",
            "linecolor": "white",
            "ticks": ""
           },
           "baxis": {
            "gridcolor": "white",
            "linecolor": "white",
            "ticks": ""
           },
           "bgcolor": "#E5ECF6",
           "caxis": {
            "gridcolor": "white",
            "linecolor": "white",
            "ticks": ""
           }
          },
          "title": {
           "x": 0.05
          },
          "xaxis": {
           "automargin": true,
           "gridcolor": "white",
           "linecolor": "white",
           "ticks": "",
           "title": {
            "standoff": 15
           },
           "zerolinecolor": "white",
           "zerolinewidth": 2
          },
          "yaxis": {
           "automargin": true,
           "gridcolor": "white",
           "linecolor": "white",
           "ticks": "",
           "title": {
            "standoff": 15
           },
           "zerolinecolor": "white",
           "zerolinewidth": 2
          }
         }
        },
        "title": {
         "font": {
          "color": "#4D5663"
         },
         "text": "Review Text Word Count Distribution"
        },
        "xaxis": {
         "gridcolor": "#E1E5ED",
         "linecolor": "black",
         "showgrid": true,
         "tickfont": {
          "color": "#4D5663"
         },
         "title": {
          "font": {
           "color": "#4D5663"
          },
          "text": "word count"
         },
         "zerolinecolor": "#E1E5ED"
        },
        "yaxis": {
         "gridcolor": "#E1E5ED",
         "linecolor": "black",
         "showgrid": true,
         "tickfont": {
          "color": "#4D5663"
         },
         "title": {
          "font": {
           "color": "#4D5663"
          },
          "text": "count"
         },
         "zerolinecolor": "#E1E5ED"
        }
       }
      },
      "text/html": [
       "<div>                            <div id=\"a7425624-c630-429a-9854-d9ab72aded27\" class=\"plotly-graph-div\" style=\"height:525px; width:100%;\"></div>            <script type=\"text/javascript\">                require([\"plotly\"], function(Plotly) {                    window.PLOTLYENV=window.PLOTLYENV || {};\n",
       "                    window.PLOTLYENV.BASE_URL='https://plot.ly';                                    if (document.getElementById(\"a7425624-c630-429a-9854-d9ab72aded27\")) {                    Plotly.newPlot(                        \"a7425624-c630-429a-9854-d9ab72aded27\",                        [{\"histfunc\":\"count\",\"histnorm\":\"\",\"marker\":{\"color\":\"rgba(255, 153, 51, 1.0)\",\"line\":{\"color\":\"#000000\",\"width\":1.3}},\"name\":\"word_count\",\"nbinsx\":100,\"opacity\":0.8,\"orientation\":\"v\",\"x\":[168,140,215,337,232,993,72,178,41,290,40,130,201,136,108,366,226,119,123,147,891,682,124,184,195,126,113,47,146,219,228,150,127,159,169,269,58,262,170,49,229,331,126,346,124,671,443,259,114,196,131,145,404,426,243,124,182,651,287,157,129,41,158,216,128,256,84,542,119,101,163,176,264,465,273,63,278,156,68,135,146,146,145,426,319,137,147,349,146,203,345,172,237,160,194,144,492,122,193,169,412,254,770,190,213,171,276,138,260,527,149,135,173,230,374,367,573,54,583,119,110,75,126,74,651,137,152,53,405,361,587,157,507,324,285,83,316,566,42,236,626,365,131,419,255,151,472,191,338,56,287,529,320,32,158,120,150,203,122,51,102,202,320,123,333,191,217,200,220,207,201,128,21,258,177,171,171,103,195,209,89,238,168,516,136,168,98,202,138,137,147,126,391,193,181,216,105,76,118,126,176,388,157],\"type\":\"histogram\"}],                        {\"barmode\":\"overlay\",\"legend\":{\"bgcolor\":\"#F5F6F9\",\"font\":{\"color\":\"#4D5663\"}},\"paper_bgcolor\":\"#F5F6F9\",\"plot_bgcolor\":\"#F5F6F9\",\"template\":{\"data\":{\"barpolar\":[{\"marker\":{\"line\":{\"color\":\"#E5ECF6\",\"width\":0.5},\"pattern\":{\"fillmode\":\"overlay\",\"size\":10,\"solidity\":0.2}},\"type\":\"barpolar\"}],\"bar\":[{\"error_x\":{\"color\":\"#2a3f5f\"},\"error_y\":{\"color\":\"#2a3f5f\"},\"marker\":{\"line\":{\"color\":\"#E5ECF6\",\"width\":0.5},\"pattern\":{\"fillmode\":\"overlay\",\"size\":10,\"solidity\":0.2}},\"type\":\"bar\"}],\"carpet\":[{\"aaxis\":{\"endlinecolor\":\"#2a3f5f\",\"gridcolor\":\"white\",\"linecolor\":\"white\",\"minorgridcolor\":\"white\",\"startlinecolor\":\"#2a3f5f\"},\"baxis\":{\"endlinecolor\":\"#2a3f5f\",\"gridcolor\":\"white\",\"linecolor\":\"white\",\"minorgridcolor\":\"white\",\"startlinecolor\":\"#2a3f5f\"},\"type\":\"carpet\"}],\"choropleth\":[{\"colorbar\":{\"outlinewidth\":0,\"ticks\":\"\"},\"type\":\"choropleth\"}],\"contourcarpet\":[{\"colorbar\":{\"outlinewidth\":0,\"ticks\":\"\"},\"type\":\"contourcarpet\"}],\"contour\":[{\"colorbar\":{\"outlinewidth\":0,\"ticks\":\"\"},\"colorscale\":[[0.0,\"#0d0887\"],[0.1111111111111111,\"#46039f\"],[0.2222222222222222,\"#7201a8\"],[0.3333333333333333,\"#9c179e\"],[0.4444444444444444,\"#bd3786\"],[0.5555555555555556,\"#d8576b\"],[0.6666666666666666,\"#ed7953\"],[0.7777777777777778,\"#fb9f3a\"],[0.8888888888888888,\"#fdca26\"],[1.0,\"#f0f921\"]],\"type\":\"contour\"}],\"heatmapgl\":[{\"colorbar\":{\"outlinewidth\":0,\"ticks\":\"\"},\"colorscale\":[[0.0,\"#0d0887\"],[0.1111111111111111,\"#46039f\"],[0.2222222222222222,\"#7201a8\"],[0.3333333333333333,\"#9c179e\"],[0.4444444444444444,\"#bd3786\"],[0.5555555555555556,\"#d8576b\"],[0.6666666666666666,\"#ed7953\"],[0.7777777777777778,\"#fb9f3a\"],[0.8888888888888888,\"#fdca26\"],[1.0,\"#f0f921\"]],\"type\":\"heatmapgl\"}],\"heatmap\":[{\"colorbar\":{\"outlinewidth\":0,\"ticks\":\"\"},\"colorscale\":[[0.0,\"#0d0887\"],[0.1111111111111111,\"#46039f\"],[0.2222222222222222,\"#7201a8\"],[0.3333333333333333,\"#9c179e\"],[0.4444444444444444,\"#bd3786\"],[0.5555555555555556,\"#d8576b\"],[0.6666666666666666,\"#ed7953\"],[0.7777777777777778,\"#fb9f3a\"],[0.8888888888888888,\"#fdca26\"],[1.0,\"#f0f921\"]],\"type\":\"heatmap\"}],\"histogram2dcontour\":[{\"colorbar\":{\"outlinewidth\":0,\"ticks\":\"\"},\"colorscale\":[[0.0,\"#0d0887\"],[0.1111111111111111,\"#46039f\"],[0.2222222222222222,\"#7201a8\"],[0.3333333333333333,\"#9c179e\"],[0.4444444444444444,\"#bd3786\"],[0.5555555555555556,\"#d8576b\"],[0.6666666666666666,\"#ed7953\"],[0.7777777777777778,\"#fb9f3a\"],[0.8888888888888888,\"#fdca26\"],[1.0,\"#f0f921\"]],\"type\":\"histogram2dcontour\"}],\"histogram2d\":[{\"colorbar\":{\"outlinewidth\":0,\"ticks\":\"\"},\"colorscale\":[[0.0,\"#0d0887\"],[0.1111111111111111,\"#46039f\"],[0.2222222222222222,\"#7201a8\"],[0.3333333333333333,\"#9c179e\"],[0.4444444444444444,\"#bd3786\"],[0.5555555555555556,\"#d8576b\"],[0.6666666666666666,\"#ed7953\"],[0.7777777777777778,\"#fb9f3a\"],[0.8888888888888888,\"#fdca26\"],[1.0,\"#f0f921\"]],\"type\":\"histogram2d\"}],\"histogram\":[{\"marker\":{\"pattern\":{\"fillmode\":\"overlay\",\"size\":10,\"solidity\":0.2}},\"type\":\"histogram\"}],\"mesh3d\":[{\"colorbar\":{\"outlinewidth\":0,\"ticks\":\"\"},\"type\":\"mesh3d\"}],\"parcoords\":[{\"line\":{\"colorbar\":{\"outlinewidth\":0,\"ticks\":\"\"}},\"type\":\"parcoords\"}],\"pie\":[{\"automargin\":true,\"type\":\"pie\"}],\"scatter3d\":[{\"line\":{\"colorbar\":{\"outlinewidth\":0,\"ticks\":\"\"}},\"marker\":{\"colorbar\":{\"outlinewidth\":0,\"ticks\":\"\"}},\"type\":\"scatter3d\"}],\"scattercarpet\":[{\"marker\":{\"colorbar\":{\"outlinewidth\":0,\"ticks\":\"\"}},\"type\":\"scattercarpet\"}],\"scattergeo\":[{\"marker\":{\"colorbar\":{\"outlinewidth\":0,\"ticks\":\"\"}},\"type\":\"scattergeo\"}],\"scattergl\":[{\"marker\":{\"colorbar\":{\"outlinewidth\":0,\"ticks\":\"\"}},\"type\":\"scattergl\"}],\"scattermapbox\":[{\"marker\":{\"colorbar\":{\"outlinewidth\":0,\"ticks\":\"\"}},\"type\":\"scattermapbox\"}],\"scatterpolargl\":[{\"marker\":{\"colorbar\":{\"outlinewidth\":0,\"ticks\":\"\"}},\"type\":\"scatterpolargl\"}],\"scatterpolar\":[{\"marker\":{\"colorbar\":{\"outlinewidth\":0,\"ticks\":\"\"}},\"type\":\"scatterpolar\"}],\"scatter\":[{\"marker\":{\"colorbar\":{\"outlinewidth\":0,\"ticks\":\"\"}},\"type\":\"scatter\"}],\"scatterternary\":[{\"marker\":{\"colorbar\":{\"outlinewidth\":0,\"ticks\":\"\"}},\"type\":\"scatterternary\"}],\"surface\":[{\"colorbar\":{\"outlinewidth\":0,\"ticks\":\"\"},\"colorscale\":[[0.0,\"#0d0887\"],[0.1111111111111111,\"#46039f\"],[0.2222222222222222,\"#7201a8\"],[0.3333333333333333,\"#9c179e\"],[0.4444444444444444,\"#bd3786\"],[0.5555555555555556,\"#d8576b\"],[0.6666666666666666,\"#ed7953\"],[0.7777777777777778,\"#fb9f3a\"],[0.8888888888888888,\"#fdca26\"],[1.0,\"#f0f921\"]],\"type\":\"surface\"}],\"table\":[{\"cells\":{\"fill\":{\"color\":\"#EBF0F8\"},\"line\":{\"color\":\"white\"}},\"header\":{\"fill\":{\"color\":\"#C8D4E3\"},\"line\":{\"color\":\"white\"}},\"type\":\"table\"}]},\"layout\":{\"annotationdefaults\":{\"arrowcolor\":\"#2a3f5f\",\"arrowhead\":0,\"arrowwidth\":1},\"autotypenumbers\":\"strict\",\"coloraxis\":{\"colorbar\":{\"outlinewidth\":0,\"ticks\":\"\"}},\"colorscale\":{\"diverging\":[[0,\"#8e0152\"],[0.1,\"#c51b7d\"],[0.2,\"#de77ae\"],[0.3,\"#f1b6da\"],[0.4,\"#fde0ef\"],[0.5,\"#f7f7f7\"],[0.6,\"#e6f5d0\"],[0.7,\"#b8e186\"],[0.8,\"#7fbc41\"],[0.9,\"#4d9221\"],[1,\"#276419\"]],\"sequential\":[[0.0,\"#0d0887\"],[0.1111111111111111,\"#46039f\"],[0.2222222222222222,\"#7201a8\"],[0.3333333333333333,\"#9c179e\"],[0.4444444444444444,\"#bd3786\"],[0.5555555555555556,\"#d8576b\"],[0.6666666666666666,\"#ed7953\"],[0.7777777777777778,\"#fb9f3a\"],[0.8888888888888888,\"#fdca26\"],[1.0,\"#f0f921\"]],\"sequentialminus\":[[0.0,\"#0d0887\"],[0.1111111111111111,\"#46039f\"],[0.2222222222222222,\"#7201a8\"],[0.3333333333333333,\"#9c179e\"],[0.4444444444444444,\"#bd3786\"],[0.5555555555555556,\"#d8576b\"],[0.6666666666666666,\"#ed7953\"],[0.7777777777777778,\"#fb9f3a\"],[0.8888888888888888,\"#fdca26\"],[1.0,\"#f0f921\"]]},\"colorway\":[\"#636efa\",\"#EF553B\",\"#00cc96\",\"#ab63fa\",\"#FFA15A\",\"#19d3f3\",\"#FF6692\",\"#B6E880\",\"#FF97FF\",\"#FECB52\"],\"font\":{\"color\":\"#2a3f5f\"},\"geo\":{\"bgcolor\":\"white\",\"lakecolor\":\"white\",\"landcolor\":\"#E5ECF6\",\"showlakes\":true,\"showland\":true,\"subunitcolor\":\"white\"},\"hoverlabel\":{\"align\":\"left\"},\"hovermode\":\"closest\",\"mapbox\":{\"style\":\"light\"},\"paper_bgcolor\":\"white\",\"plot_bgcolor\":\"#E5ECF6\",\"polar\":{\"angularaxis\":{\"gridcolor\":\"white\",\"linecolor\":\"white\",\"ticks\":\"\"},\"bgcolor\":\"#E5ECF6\",\"radialaxis\":{\"gridcolor\":\"white\",\"linecolor\":\"white\",\"ticks\":\"\"}},\"scene\":{\"xaxis\":{\"backgroundcolor\":\"#E5ECF6\",\"gridcolor\":\"white\",\"gridwidth\":2,\"linecolor\":\"white\",\"showbackground\":true,\"ticks\":\"\",\"zerolinecolor\":\"white\"},\"yaxis\":{\"backgroundcolor\":\"#E5ECF6\",\"gridcolor\":\"white\",\"gridwidth\":2,\"linecolor\":\"white\",\"showbackground\":true,\"ticks\":\"\",\"zerolinecolor\":\"white\"},\"zaxis\":{\"backgroundcolor\":\"#E5ECF6\",\"gridcolor\":\"white\",\"gridwidth\":2,\"linecolor\":\"white\",\"showbackground\":true,\"ticks\":\"\",\"zerolinecolor\":\"white\"}},\"shapedefaults\":{\"line\":{\"color\":\"#2a3f5f\"}},\"ternary\":{\"aaxis\":{\"gridcolor\":\"white\",\"linecolor\":\"white\",\"ticks\":\"\"},\"baxis\":{\"gridcolor\":\"white\",\"linecolor\":\"white\",\"ticks\":\"\"},\"bgcolor\":\"#E5ECF6\",\"caxis\":{\"gridcolor\":\"white\",\"linecolor\":\"white\",\"ticks\":\"\"}},\"title\":{\"x\":0.05},\"xaxis\":{\"automargin\":true,\"gridcolor\":\"white\",\"linecolor\":\"white\",\"ticks\":\"\",\"title\":{\"standoff\":15},\"zerolinecolor\":\"white\",\"zerolinewidth\":2},\"yaxis\":{\"automargin\":true,\"gridcolor\":\"white\",\"linecolor\":\"white\",\"ticks\":\"\",\"title\":{\"standoff\":15},\"zerolinecolor\":\"white\",\"zerolinewidth\":2}}},\"title\":{\"font\":{\"color\":\"#4D5663\"},\"text\":\"Review Text Word Count Distribution\"},\"xaxis\":{\"gridcolor\":\"#E1E5ED\",\"linecolor\":\"black\",\"showgrid\":true,\"tickfont\":{\"color\":\"#4D5663\"},\"title\":{\"font\":{\"color\":\"#4D5663\"},\"text\":\"word count\"},\"zerolinecolor\":\"#E1E5ED\"},\"yaxis\":{\"gridcolor\":\"#E1E5ED\",\"linecolor\":\"black\",\"showgrid\":true,\"tickfont\":{\"color\":\"#4D5663\"},\"title\":{\"font\":{\"color\":\"#4D5663\"},\"text\":\"count\"},\"zerolinecolor\":\"#E1E5ED\"}},                        {\"showLink\": true, \"linkText\": \"Export to plot.ly\", \"plotlyServerURL\": \"https://plot.ly\", \"responsive\": true}                    ).then(function(){\n",
       "                            \n",
       "var gd = document.getElementById('a7425624-c630-429a-9854-d9ab72aded27');\n",
       "var x = new MutationObserver(function (mutations, observer) {{\n",
       "        var display = window.getComputedStyle(gd).display;\n",
       "        if (!display || display === 'none') {{\n",
       "            console.log([gd, 'removed!']);\n",
       "            Plotly.purge(gd);\n",
       "            observer.disconnect();\n",
       "        }}\n",
       "}});\n",
       "\n",
       "// Listen for the removal of the full notebook cells\n",
       "var notebookContainer = gd.closest('#notebook-container');\n",
       "if (notebookContainer) {{\n",
       "    x.observe(notebookContainer, {childList: true});\n",
       "}}\n",
       "\n",
       "// Listen for the clearing of the current output cell\n",
       "var outputEl = gd.closest('.output');\n",
       "if (outputEl) {{\n",
       "    x.observe(outputEl, {childList: true});\n",
       "}}\n",
       "\n",
       "                        })                };                });            </script>        </div>"
      ]
     },
     "metadata": {},
     "output_type": "display_data"
    }
   ],
   "source": [
    "files_df['word_count'].iplot(\n",
    "    kind='hist',\n",
    "    bins=100,\n",
    "    xTitle='word count',\n",
    "    linecolor='black',\n",
    "    yTitle='count',\n",
    "    title='Review Text Word Count Distribution')"
   ]
  },
  {
   "cell_type": "code",
   "execution_count": 157,
   "metadata": {},
   "outputs": [],
   "source": [
    "from sklearn.feature_extraction import text \n",
    "\n",
    "stop_words = text.ENGLISH_STOP_WORDS.union([\"br\"])"
   ]
  },
  {
   "cell_type": "code",
   "execution_count": 159,
   "metadata": {},
   "outputs": [
    {
     "name": "stdout",
     "output_type": "stream",
     "text": [
      "ve seen 21\n",
      "red queen 19\n",
      "home room 18\n",
      "vincent price 18\n",
      "erika christensen 14\n",
      "linda blair 13\n",
      "don know 12\n",
      "school shooting 12\n",
      "horror movie 11\n",
      "busy phillips 11\n",
      "la casa 10\n",
      "house wax 10\n",
      "jane fonda 9\n",
      "stanley iris 9\n",
      "high school 9\n",
      "horror film 9\n",
      "low budget 9\n",
      "special effects 9\n",
      "queen kills 9\n",
      "kills seven 9\n"
     ]
    },
    {
     "data": {
      "application/vnd.plotly.v1+json": {
       "config": {
        "linkText": "Export to plot.ly",
        "plotlyServerURL": "https://plot.ly",
        "showLink": true
       },
       "data": [
        {
         "marker": {
          "color": "rgba(255, 153, 51, 0.6)",
          "line": {
           "color": "rgba(255, 153, 51, 1.0)",
           "width": 1
          }
         },
         "name": "count",
         "orientation": "v",
         "text": "",
         "type": "bar",
         "x": [
          "ve seen",
          "red queen",
          "vincent price",
          "home room",
          "erika christensen",
          "linda blair",
          "don know",
          "school shooting",
          "busy phillips",
          "horror movie",
          "house wax",
          "la casa",
          "kills seven",
          "jane fonda",
          "low budget",
          "queen kills",
          "horror film",
          "special effects",
          "stanley iris",
          "high school"
         ],
         "y": [
          21,
          19,
          18,
          18,
          14,
          13,
          12,
          12,
          11,
          11,
          10,
          10,
          9,
          9,
          9,
          9,
          9,
          9,
          9,
          9
         ]
        }
       ],
       "layout": {
        "legend": {
         "bgcolor": "#F5F6F9",
         "font": {
          "color": "#4D5663"
         }
        },
        "paper_bgcolor": "#F5F6F9",
        "plot_bgcolor": "#F5F6F9",
        "template": {
         "data": {
          "bar": [
           {
            "error_x": {
             "color": "#2a3f5f"
            },
            "error_y": {
             "color": "#2a3f5f"
            },
            "marker": {
             "line": {
              "color": "#E5ECF6",
              "width": 0.5
             },
             "pattern": {
              "fillmode": "overlay",
              "size": 10,
              "solidity": 0.2
             }
            },
            "type": "bar"
           }
          ],
          "barpolar": [
           {
            "marker": {
             "line": {
              "color": "#E5ECF6",
              "width": 0.5
             },
             "pattern": {
              "fillmode": "overlay",
              "size": 10,
              "solidity": 0.2
             }
            },
            "type": "barpolar"
           }
          ],
          "carpet": [
           {
            "aaxis": {
             "endlinecolor": "#2a3f5f",
             "gridcolor": "white",
             "linecolor": "white",
             "minorgridcolor": "white",
             "startlinecolor": "#2a3f5f"
            },
            "baxis": {
             "endlinecolor": "#2a3f5f",
             "gridcolor": "white",
             "linecolor": "white",
             "minorgridcolor": "white",
             "startlinecolor": "#2a3f5f"
            },
            "type": "carpet"
           }
          ],
          "choropleth": [
           {
            "colorbar": {
             "outlinewidth": 0,
             "ticks": ""
            },
            "type": "choropleth"
           }
          ],
          "contour": [
           {
            "colorbar": {
             "outlinewidth": 0,
             "ticks": ""
            },
            "colorscale": [
             [
              0,
              "#0d0887"
             ],
             [
              0.1111111111111111,
              "#46039f"
             ],
             [
              0.2222222222222222,
              "#7201a8"
             ],
             [
              0.3333333333333333,
              "#9c179e"
             ],
             [
              0.4444444444444444,
              "#bd3786"
             ],
             [
              0.5555555555555556,
              "#d8576b"
             ],
             [
              0.6666666666666666,
              "#ed7953"
             ],
             [
              0.7777777777777778,
              "#fb9f3a"
             ],
             [
              0.8888888888888888,
              "#fdca26"
             ],
             [
              1,
              "#f0f921"
             ]
            ],
            "type": "contour"
           }
          ],
          "contourcarpet": [
           {
            "colorbar": {
             "outlinewidth": 0,
             "ticks": ""
            },
            "type": "contourcarpet"
           }
          ],
          "heatmap": [
           {
            "colorbar": {
             "outlinewidth": 0,
             "ticks": ""
            },
            "colorscale": [
             [
              0,
              "#0d0887"
             ],
             [
              0.1111111111111111,
              "#46039f"
             ],
             [
              0.2222222222222222,
              "#7201a8"
             ],
             [
              0.3333333333333333,
              "#9c179e"
             ],
             [
              0.4444444444444444,
              "#bd3786"
             ],
             [
              0.5555555555555556,
              "#d8576b"
             ],
             [
              0.6666666666666666,
              "#ed7953"
             ],
             [
              0.7777777777777778,
              "#fb9f3a"
             ],
             [
              0.8888888888888888,
              "#fdca26"
             ],
             [
              1,
              "#f0f921"
             ]
            ],
            "type": "heatmap"
           }
          ],
          "heatmapgl": [
           {
            "colorbar": {
             "outlinewidth": 0,
             "ticks": ""
            },
            "colorscale": [
             [
              0,
              "#0d0887"
             ],
             [
              0.1111111111111111,
              "#46039f"
             ],
             [
              0.2222222222222222,
              "#7201a8"
             ],
             [
              0.3333333333333333,
              "#9c179e"
             ],
             [
              0.4444444444444444,
              "#bd3786"
             ],
             [
              0.5555555555555556,
              "#d8576b"
             ],
             [
              0.6666666666666666,
              "#ed7953"
             ],
             [
              0.7777777777777778,
              "#fb9f3a"
             ],
             [
              0.8888888888888888,
              "#fdca26"
             ],
             [
              1,
              "#f0f921"
             ]
            ],
            "type": "heatmapgl"
           }
          ],
          "histogram": [
           {
            "marker": {
             "pattern": {
              "fillmode": "overlay",
              "size": 10,
              "solidity": 0.2
             }
            },
            "type": "histogram"
           }
          ],
          "histogram2d": [
           {
            "colorbar": {
             "outlinewidth": 0,
             "ticks": ""
            },
            "colorscale": [
             [
              0,
              "#0d0887"
             ],
             [
              0.1111111111111111,
              "#46039f"
             ],
             [
              0.2222222222222222,
              "#7201a8"
             ],
             [
              0.3333333333333333,
              "#9c179e"
             ],
             [
              0.4444444444444444,
              "#bd3786"
             ],
             [
              0.5555555555555556,
              "#d8576b"
             ],
             [
              0.6666666666666666,
              "#ed7953"
             ],
             [
              0.7777777777777778,
              "#fb9f3a"
             ],
             [
              0.8888888888888888,
              "#fdca26"
             ],
             [
              1,
              "#f0f921"
             ]
            ],
            "type": "histogram2d"
           }
          ],
          "histogram2dcontour": [
           {
            "colorbar": {
             "outlinewidth": 0,
             "ticks": ""
            },
            "colorscale": [
             [
              0,
              "#0d0887"
             ],
             [
              0.1111111111111111,
              "#46039f"
             ],
             [
              0.2222222222222222,
              "#7201a8"
             ],
             [
              0.3333333333333333,
              "#9c179e"
             ],
             [
              0.4444444444444444,
              "#bd3786"
             ],
             [
              0.5555555555555556,
              "#d8576b"
             ],
             [
              0.6666666666666666,
              "#ed7953"
             ],
             [
              0.7777777777777778,
              "#fb9f3a"
             ],
             [
              0.8888888888888888,
              "#fdca26"
             ],
             [
              1,
              "#f0f921"
             ]
            ],
            "type": "histogram2dcontour"
           }
          ],
          "mesh3d": [
           {
            "colorbar": {
             "outlinewidth": 0,
             "ticks": ""
            },
            "type": "mesh3d"
           }
          ],
          "parcoords": [
           {
            "line": {
             "colorbar": {
              "outlinewidth": 0,
              "ticks": ""
             }
            },
            "type": "parcoords"
           }
          ],
          "pie": [
           {
            "automargin": true,
            "type": "pie"
           }
          ],
          "scatter": [
           {
            "marker": {
             "colorbar": {
              "outlinewidth": 0,
              "ticks": ""
             }
            },
            "type": "scatter"
           }
          ],
          "scatter3d": [
           {
            "line": {
             "colorbar": {
              "outlinewidth": 0,
              "ticks": ""
             }
            },
            "marker": {
             "colorbar": {
              "outlinewidth": 0,
              "ticks": ""
             }
            },
            "type": "scatter3d"
           }
          ],
          "scattercarpet": [
           {
            "marker": {
             "colorbar": {
              "outlinewidth": 0,
              "ticks": ""
             }
            },
            "type": "scattercarpet"
           }
          ],
          "scattergeo": [
           {
            "marker": {
             "colorbar": {
              "outlinewidth": 0,
              "ticks": ""
             }
            },
            "type": "scattergeo"
           }
          ],
          "scattergl": [
           {
            "marker": {
             "colorbar": {
              "outlinewidth": 0,
              "ticks": ""
             }
            },
            "type": "scattergl"
           }
          ],
          "scattermapbox": [
           {
            "marker": {
             "colorbar": {
              "outlinewidth": 0,
              "ticks": ""
             }
            },
            "type": "scattermapbox"
           }
          ],
          "scatterpolar": [
           {
            "marker": {
             "colorbar": {
              "outlinewidth": 0,
              "ticks": ""
             }
            },
            "type": "scatterpolar"
           }
          ],
          "scatterpolargl": [
           {
            "marker": {
             "colorbar": {
              "outlinewidth": 0,
              "ticks": ""
             }
            },
            "type": "scatterpolargl"
           }
          ],
          "scatterternary": [
           {
            "marker": {
             "colorbar": {
              "outlinewidth": 0,
              "ticks": ""
             }
            },
            "type": "scatterternary"
           }
          ],
          "surface": [
           {
            "colorbar": {
             "outlinewidth": 0,
             "ticks": ""
            },
            "colorscale": [
             [
              0,
              "#0d0887"
             ],
             [
              0.1111111111111111,
              "#46039f"
             ],
             [
              0.2222222222222222,
              "#7201a8"
             ],
             [
              0.3333333333333333,
              "#9c179e"
             ],
             [
              0.4444444444444444,
              "#bd3786"
             ],
             [
              0.5555555555555556,
              "#d8576b"
             ],
             [
              0.6666666666666666,
              "#ed7953"
             ],
             [
              0.7777777777777778,
              "#fb9f3a"
             ],
             [
              0.8888888888888888,
              "#fdca26"
             ],
             [
              1,
              "#f0f921"
             ]
            ],
            "type": "surface"
           }
          ],
          "table": [
           {
            "cells": {
             "fill": {
              "color": "#EBF0F8"
             },
             "line": {
              "color": "white"
             }
            },
            "header": {
             "fill": {
              "color": "#C8D4E3"
             },
             "line": {
              "color": "white"
             }
            },
            "type": "table"
           }
          ]
         },
         "layout": {
          "annotationdefaults": {
           "arrowcolor": "#2a3f5f",
           "arrowhead": 0,
           "arrowwidth": 1
          },
          "autotypenumbers": "strict",
          "coloraxis": {
           "colorbar": {
            "outlinewidth": 0,
            "ticks": ""
           }
          },
          "colorscale": {
           "diverging": [
            [
             0,
             "#8e0152"
            ],
            [
             0.1,
             "#c51b7d"
            ],
            [
             0.2,
             "#de77ae"
            ],
            [
             0.3,
             "#f1b6da"
            ],
            [
             0.4,
             "#fde0ef"
            ],
            [
             0.5,
             "#f7f7f7"
            ],
            [
             0.6,
             "#e6f5d0"
            ],
            [
             0.7,
             "#b8e186"
            ],
            [
             0.8,
             "#7fbc41"
            ],
            [
             0.9,
             "#4d9221"
            ],
            [
             1,
             "#276419"
            ]
           ],
           "sequential": [
            [
             0,
             "#0d0887"
            ],
            [
             0.1111111111111111,
             "#46039f"
            ],
            [
             0.2222222222222222,
             "#7201a8"
            ],
            [
             0.3333333333333333,
             "#9c179e"
            ],
            [
             0.4444444444444444,
             "#bd3786"
            ],
            [
             0.5555555555555556,
             "#d8576b"
            ],
            [
             0.6666666666666666,
             "#ed7953"
            ],
            [
             0.7777777777777778,
             "#fb9f3a"
            ],
            [
             0.8888888888888888,
             "#fdca26"
            ],
            [
             1,
             "#f0f921"
            ]
           ],
           "sequentialminus": [
            [
             0,
             "#0d0887"
            ],
            [
             0.1111111111111111,
             "#46039f"
            ],
            [
             0.2222222222222222,
             "#7201a8"
            ],
            [
             0.3333333333333333,
             "#9c179e"
            ],
            [
             0.4444444444444444,
             "#bd3786"
            ],
            [
             0.5555555555555556,
             "#d8576b"
            ],
            [
             0.6666666666666666,
             "#ed7953"
            ],
            [
             0.7777777777777778,
             "#fb9f3a"
            ],
            [
             0.8888888888888888,
             "#fdca26"
            ],
            [
             1,
             "#f0f921"
            ]
           ]
          },
          "colorway": [
           "#636efa",
           "#EF553B",
           "#00cc96",
           "#ab63fa",
           "#FFA15A",
           "#19d3f3",
           "#FF6692",
           "#B6E880",
           "#FF97FF",
           "#FECB52"
          ],
          "font": {
           "color": "#2a3f5f"
          },
          "geo": {
           "bgcolor": "white",
           "lakecolor": "white",
           "landcolor": "#E5ECF6",
           "showlakes": true,
           "showland": true,
           "subunitcolor": "white"
          },
          "hoverlabel": {
           "align": "left"
          },
          "hovermode": "closest",
          "mapbox": {
           "style": "light"
          },
          "paper_bgcolor": "white",
          "plot_bgcolor": "#E5ECF6",
          "polar": {
           "angularaxis": {
            "gridcolor": "white",
            "linecolor": "white",
            "ticks": ""
           },
           "bgcolor": "#E5ECF6",
           "radialaxis": {
            "gridcolor": "white",
            "linecolor": "white",
            "ticks": ""
           }
          },
          "scene": {
           "xaxis": {
            "backgroundcolor": "#E5ECF6",
            "gridcolor": "white",
            "gridwidth": 2,
            "linecolor": "white",
            "showbackground": true,
            "ticks": "",
            "zerolinecolor": "white"
           },
           "yaxis": {
            "backgroundcolor": "#E5ECF6",
            "gridcolor": "white",
            "gridwidth": 2,
            "linecolor": "white",
            "showbackground": true,
            "ticks": "",
            "zerolinecolor": "white"
           },
           "zaxis": {
            "backgroundcolor": "#E5ECF6",
            "gridcolor": "white",
            "gridwidth": 2,
            "linecolor": "white",
            "showbackground": true,
            "ticks": "",
            "zerolinecolor": "white"
           }
          },
          "shapedefaults": {
           "line": {
            "color": "#2a3f5f"
           }
          },
          "ternary": {
           "aaxis": {
            "gridcolor": "white",
            "linecolor": "white",
            "ticks": ""
           },
           "baxis": {
            "gridcolor": "white",
            "linecolor": "white",
            "ticks": ""
           },
           "bgcolor": "#E5ECF6",
           "caxis": {
            "gridcolor": "white",
            "linecolor": "white",
            "ticks": ""
           }
          },
          "title": {
           "x": 0.05
          },
          "xaxis": {
           "automargin": true,
           "gridcolor": "white",
           "linecolor": "white",
           "ticks": "",
           "title": {
            "standoff": 15
           },
           "zerolinecolor": "white",
           "zerolinewidth": 2
          },
          "yaxis": {
           "automargin": true,
           "gridcolor": "white",
           "linecolor": "white",
           "ticks": "",
           "title": {
            "standoff": 15
           },
           "zerolinecolor": "white",
           "zerolinewidth": 2
          }
         }
        },
        "title": {
         "font": {
          "color": "#4D5663"
         },
         "text": "Top 20 bigrams in review after removing stop words"
        },
        "xaxis": {
         "gridcolor": "#E1E5ED",
         "linecolor": "black",
         "showgrid": true,
         "tickfont": {
          "color": "#4D5663"
         },
         "title": {
          "font": {
           "color": "#4D5663"
          },
          "text": ""
         },
         "zerolinecolor": "#E1E5ED"
        },
        "yaxis": {
         "gridcolor": "#E1E5ED",
         "linecolor": "black",
         "showgrid": true,
         "tickfont": {
          "color": "#4D5663"
         },
         "title": {
          "font": {
           "color": "#4D5663"
          },
          "text": "Count"
         },
         "zerolinecolor": "#E1E5ED"
        }
       }
      },
      "text/html": [
       "<div>                            <div id=\"6e276f5e-ce72-4a81-8834-7d75fb53ab42\" class=\"plotly-graph-div\" style=\"height:525px; width:100%;\"></div>            <script type=\"text/javascript\">                require([\"plotly\"], function(Plotly) {                    window.PLOTLYENV=window.PLOTLYENV || {};\n",
       "                    window.PLOTLYENV.BASE_URL='https://plot.ly';                                    if (document.getElementById(\"6e276f5e-ce72-4a81-8834-7d75fb53ab42\")) {                    Plotly.newPlot(                        \"6e276f5e-ce72-4a81-8834-7d75fb53ab42\",                        [{\"marker\":{\"color\":\"rgba(255, 153, 51, 0.6)\",\"line\":{\"color\":\"rgba(255, 153, 51, 1.0)\",\"width\":1}},\"name\":\"count\",\"orientation\":\"v\",\"text\":\"\",\"x\":[\"ve seen\",\"red queen\",\"vincent price\",\"home room\",\"erika christensen\",\"linda blair\",\"don know\",\"school shooting\",\"busy phillips\",\"horror movie\",\"house wax\",\"la casa\",\"kills seven\",\"jane fonda\",\"low budget\",\"queen kills\",\"horror film\",\"special effects\",\"stanley iris\",\"high school\"],\"y\":[21,19,18,18,14,13,12,12,11,11,10,10,9,9,9,9,9,9,9,9],\"type\":\"bar\"}],                        {\"legend\":{\"bgcolor\":\"#F5F6F9\",\"font\":{\"color\":\"#4D5663\"}},\"paper_bgcolor\":\"#F5F6F9\",\"plot_bgcolor\":\"#F5F6F9\",\"template\":{\"data\":{\"barpolar\":[{\"marker\":{\"line\":{\"color\":\"#E5ECF6\",\"width\":0.5},\"pattern\":{\"fillmode\":\"overlay\",\"size\":10,\"solidity\":0.2}},\"type\":\"barpolar\"}],\"bar\":[{\"error_x\":{\"color\":\"#2a3f5f\"},\"error_y\":{\"color\":\"#2a3f5f\"},\"marker\":{\"line\":{\"color\":\"#E5ECF6\",\"width\":0.5},\"pattern\":{\"fillmode\":\"overlay\",\"size\":10,\"solidity\":0.2}},\"type\":\"bar\"}],\"carpet\":[{\"aaxis\":{\"endlinecolor\":\"#2a3f5f\",\"gridcolor\":\"white\",\"linecolor\":\"white\",\"minorgridcolor\":\"white\",\"startlinecolor\":\"#2a3f5f\"},\"baxis\":{\"endlinecolor\":\"#2a3f5f\",\"gridcolor\":\"white\",\"linecolor\":\"white\",\"minorgridcolor\":\"white\",\"startlinecolor\":\"#2a3f5f\"},\"type\":\"carpet\"}],\"choropleth\":[{\"colorbar\":{\"outlinewidth\":0,\"ticks\":\"\"},\"type\":\"choropleth\"}],\"contourcarpet\":[{\"colorbar\":{\"outlinewidth\":0,\"ticks\":\"\"},\"type\":\"contourcarpet\"}],\"contour\":[{\"colorbar\":{\"outlinewidth\":0,\"ticks\":\"\"},\"colorscale\":[[0.0,\"#0d0887\"],[0.1111111111111111,\"#46039f\"],[0.2222222222222222,\"#7201a8\"],[0.3333333333333333,\"#9c179e\"],[0.4444444444444444,\"#bd3786\"],[0.5555555555555556,\"#d8576b\"],[0.6666666666666666,\"#ed7953\"],[0.7777777777777778,\"#fb9f3a\"],[0.8888888888888888,\"#fdca26\"],[1.0,\"#f0f921\"]],\"type\":\"contour\"}],\"heatmapgl\":[{\"colorbar\":{\"outlinewidth\":0,\"ticks\":\"\"},\"colorscale\":[[0.0,\"#0d0887\"],[0.1111111111111111,\"#46039f\"],[0.2222222222222222,\"#7201a8\"],[0.3333333333333333,\"#9c179e\"],[0.4444444444444444,\"#bd3786\"],[0.5555555555555556,\"#d8576b\"],[0.6666666666666666,\"#ed7953\"],[0.7777777777777778,\"#fb9f3a\"],[0.8888888888888888,\"#fdca26\"],[1.0,\"#f0f921\"]],\"type\":\"heatmapgl\"}],\"heatmap\":[{\"colorbar\":{\"outlinewidth\":0,\"ticks\":\"\"},\"colorscale\":[[0.0,\"#0d0887\"],[0.1111111111111111,\"#46039f\"],[0.2222222222222222,\"#7201a8\"],[0.3333333333333333,\"#9c179e\"],[0.4444444444444444,\"#bd3786\"],[0.5555555555555556,\"#d8576b\"],[0.6666666666666666,\"#ed7953\"],[0.7777777777777778,\"#fb9f3a\"],[0.8888888888888888,\"#fdca26\"],[1.0,\"#f0f921\"]],\"type\":\"heatmap\"}],\"histogram2dcontour\":[{\"colorbar\":{\"outlinewidth\":0,\"ticks\":\"\"},\"colorscale\":[[0.0,\"#0d0887\"],[0.1111111111111111,\"#46039f\"],[0.2222222222222222,\"#7201a8\"],[0.3333333333333333,\"#9c179e\"],[0.4444444444444444,\"#bd3786\"],[0.5555555555555556,\"#d8576b\"],[0.6666666666666666,\"#ed7953\"],[0.7777777777777778,\"#fb9f3a\"],[0.8888888888888888,\"#fdca26\"],[1.0,\"#f0f921\"]],\"type\":\"histogram2dcontour\"}],\"histogram2d\":[{\"colorbar\":{\"outlinewidth\":0,\"ticks\":\"\"},\"colorscale\":[[0.0,\"#0d0887\"],[0.1111111111111111,\"#46039f\"],[0.2222222222222222,\"#7201a8\"],[0.3333333333333333,\"#9c179e\"],[0.4444444444444444,\"#bd3786\"],[0.5555555555555556,\"#d8576b\"],[0.6666666666666666,\"#ed7953\"],[0.7777777777777778,\"#fb9f3a\"],[0.8888888888888888,\"#fdca26\"],[1.0,\"#f0f921\"]],\"type\":\"histogram2d\"}],\"histogram\":[{\"marker\":{\"pattern\":{\"fillmode\":\"overlay\",\"size\":10,\"solidity\":0.2}},\"type\":\"histogram\"}],\"mesh3d\":[{\"colorbar\":{\"outlinewidth\":0,\"ticks\":\"\"},\"type\":\"mesh3d\"}],\"parcoords\":[{\"line\":{\"colorbar\":{\"outlinewidth\":0,\"ticks\":\"\"}},\"type\":\"parcoords\"}],\"pie\":[{\"automargin\":true,\"type\":\"pie\"}],\"scatter3d\":[{\"line\":{\"colorbar\":{\"outlinewidth\":0,\"ticks\":\"\"}},\"marker\":{\"colorbar\":{\"outlinewidth\":0,\"ticks\":\"\"}},\"type\":\"scatter3d\"}],\"scattercarpet\":[{\"marker\":{\"colorbar\":{\"outlinewidth\":0,\"ticks\":\"\"}},\"type\":\"scattercarpet\"}],\"scattergeo\":[{\"marker\":{\"colorbar\":{\"outlinewidth\":0,\"ticks\":\"\"}},\"type\":\"scattergeo\"}],\"scattergl\":[{\"marker\":{\"colorbar\":{\"outlinewidth\":0,\"ticks\":\"\"}},\"type\":\"scattergl\"}],\"scattermapbox\":[{\"marker\":{\"colorbar\":{\"outlinewidth\":0,\"ticks\":\"\"}},\"type\":\"scattermapbox\"}],\"scatterpolargl\":[{\"marker\":{\"colorbar\":{\"outlinewidth\":0,\"ticks\":\"\"}},\"type\":\"scatterpolargl\"}],\"scatterpolar\":[{\"marker\":{\"colorbar\":{\"outlinewidth\":0,\"ticks\":\"\"}},\"type\":\"scatterpolar\"}],\"scatter\":[{\"marker\":{\"colorbar\":{\"outlinewidth\":0,\"ticks\":\"\"}},\"type\":\"scatter\"}],\"scatterternary\":[{\"marker\":{\"colorbar\":{\"outlinewidth\":0,\"ticks\":\"\"}},\"type\":\"scatterternary\"}],\"surface\":[{\"colorbar\":{\"outlinewidth\":0,\"ticks\":\"\"},\"colorscale\":[[0.0,\"#0d0887\"],[0.1111111111111111,\"#46039f\"],[0.2222222222222222,\"#7201a8\"],[0.3333333333333333,\"#9c179e\"],[0.4444444444444444,\"#bd3786\"],[0.5555555555555556,\"#d8576b\"],[0.6666666666666666,\"#ed7953\"],[0.7777777777777778,\"#fb9f3a\"],[0.8888888888888888,\"#fdca26\"],[1.0,\"#f0f921\"]],\"type\":\"surface\"}],\"table\":[{\"cells\":{\"fill\":{\"color\":\"#EBF0F8\"},\"line\":{\"color\":\"white\"}},\"header\":{\"fill\":{\"color\":\"#C8D4E3\"},\"line\":{\"color\":\"white\"}},\"type\":\"table\"}]},\"layout\":{\"annotationdefaults\":{\"arrowcolor\":\"#2a3f5f\",\"arrowhead\":0,\"arrowwidth\":1},\"autotypenumbers\":\"strict\",\"coloraxis\":{\"colorbar\":{\"outlinewidth\":0,\"ticks\":\"\"}},\"colorscale\":{\"diverging\":[[0,\"#8e0152\"],[0.1,\"#c51b7d\"],[0.2,\"#de77ae\"],[0.3,\"#f1b6da\"],[0.4,\"#fde0ef\"],[0.5,\"#f7f7f7\"],[0.6,\"#e6f5d0\"],[0.7,\"#b8e186\"],[0.8,\"#7fbc41\"],[0.9,\"#4d9221\"],[1,\"#276419\"]],\"sequential\":[[0.0,\"#0d0887\"],[0.1111111111111111,\"#46039f\"],[0.2222222222222222,\"#7201a8\"],[0.3333333333333333,\"#9c179e\"],[0.4444444444444444,\"#bd3786\"],[0.5555555555555556,\"#d8576b\"],[0.6666666666666666,\"#ed7953\"],[0.7777777777777778,\"#fb9f3a\"],[0.8888888888888888,\"#fdca26\"],[1.0,\"#f0f921\"]],\"sequentialminus\":[[0.0,\"#0d0887\"],[0.1111111111111111,\"#46039f\"],[0.2222222222222222,\"#7201a8\"],[0.3333333333333333,\"#9c179e\"],[0.4444444444444444,\"#bd3786\"],[0.5555555555555556,\"#d8576b\"],[0.6666666666666666,\"#ed7953\"],[0.7777777777777778,\"#fb9f3a\"],[0.8888888888888888,\"#fdca26\"],[1.0,\"#f0f921\"]]},\"colorway\":[\"#636efa\",\"#EF553B\",\"#00cc96\",\"#ab63fa\",\"#FFA15A\",\"#19d3f3\",\"#FF6692\",\"#B6E880\",\"#FF97FF\",\"#FECB52\"],\"font\":{\"color\":\"#2a3f5f\"},\"geo\":{\"bgcolor\":\"white\",\"lakecolor\":\"white\",\"landcolor\":\"#E5ECF6\",\"showlakes\":true,\"showland\":true,\"subunitcolor\":\"white\"},\"hoverlabel\":{\"align\":\"left\"},\"hovermode\":\"closest\",\"mapbox\":{\"style\":\"light\"},\"paper_bgcolor\":\"white\",\"plot_bgcolor\":\"#E5ECF6\",\"polar\":{\"angularaxis\":{\"gridcolor\":\"white\",\"linecolor\":\"white\",\"ticks\":\"\"},\"bgcolor\":\"#E5ECF6\",\"radialaxis\":{\"gridcolor\":\"white\",\"linecolor\":\"white\",\"ticks\":\"\"}},\"scene\":{\"xaxis\":{\"backgroundcolor\":\"#E5ECF6\",\"gridcolor\":\"white\",\"gridwidth\":2,\"linecolor\":\"white\",\"showbackground\":true,\"ticks\":\"\",\"zerolinecolor\":\"white\"},\"yaxis\":{\"backgroundcolor\":\"#E5ECF6\",\"gridcolor\":\"white\",\"gridwidth\":2,\"linecolor\":\"white\",\"showbackground\":true,\"ticks\":\"\",\"zerolinecolor\":\"white\"},\"zaxis\":{\"backgroundcolor\":\"#E5ECF6\",\"gridcolor\":\"white\",\"gridwidth\":2,\"linecolor\":\"white\",\"showbackground\":true,\"ticks\":\"\",\"zerolinecolor\":\"white\"}},\"shapedefaults\":{\"line\":{\"color\":\"#2a3f5f\"}},\"ternary\":{\"aaxis\":{\"gridcolor\":\"white\",\"linecolor\":\"white\",\"ticks\":\"\"},\"baxis\":{\"gridcolor\":\"white\",\"linecolor\":\"white\",\"ticks\":\"\"},\"bgcolor\":\"#E5ECF6\",\"caxis\":{\"gridcolor\":\"white\",\"linecolor\":\"white\",\"ticks\":\"\"}},\"title\":{\"x\":0.05},\"xaxis\":{\"automargin\":true,\"gridcolor\":\"white\",\"linecolor\":\"white\",\"ticks\":\"\",\"title\":{\"standoff\":15},\"zerolinecolor\":\"white\",\"zerolinewidth\":2},\"yaxis\":{\"automargin\":true,\"gridcolor\":\"white\",\"linecolor\":\"white\",\"ticks\":\"\",\"title\":{\"standoff\":15},\"zerolinecolor\":\"white\",\"zerolinewidth\":2}}},\"title\":{\"font\":{\"color\":\"#4D5663\"},\"text\":\"Top 20 bigrams in review after removing stop words\"},\"xaxis\":{\"gridcolor\":\"#E1E5ED\",\"linecolor\":\"black\",\"showgrid\":true,\"tickfont\":{\"color\":\"#4D5663\"},\"title\":{\"font\":{\"color\":\"#4D5663\"},\"text\":\"\"},\"zerolinecolor\":\"#E1E5ED\"},\"yaxis\":{\"gridcolor\":\"#E1E5ED\",\"linecolor\":\"black\",\"showgrid\":true,\"tickfont\":{\"color\":\"#4D5663\"},\"title\":{\"font\":{\"color\":\"#4D5663\"},\"text\":\"Count\"},\"zerolinecolor\":\"#E1E5ED\"}},                        {\"showLink\": true, \"linkText\": \"Export to plot.ly\", \"plotlyServerURL\": \"https://plot.ly\", \"responsive\": true}                    ).then(function(){\n",
       "                            \n",
       "var gd = document.getElementById('6e276f5e-ce72-4a81-8834-7d75fb53ab42');\n",
       "var x = new MutationObserver(function (mutations, observer) {{\n",
       "        var display = window.getComputedStyle(gd).display;\n",
       "        if (!display || display === 'none') {{\n",
       "            console.log([gd, 'removed!']);\n",
       "            Plotly.purge(gd);\n",
       "            observer.disconnect();\n",
       "        }}\n",
       "}});\n",
       "\n",
       "// Listen for the removal of the full notebook cells\n",
       "var notebookContainer = gd.closest('#notebook-container');\n",
       "if (notebookContainer) {{\n",
       "    x.observe(notebookContainer, {childList: true});\n",
       "}}\n",
       "\n",
       "// Listen for the clearing of the current output cell\n",
       "var outputEl = gd.closest('.output');\n",
       "if (outputEl) {{\n",
       "    x.observe(outputEl, {childList: true});\n",
       "}}\n",
       "\n",
       "                        })                };                });            </script>        </div>"
      ]
     },
     "metadata": {},
     "output_type": "display_data"
    }
   ],
   "source": [
    "from sklearn.feature_extraction.text import CountVectorizer\n",
    "\n",
    "def get_top_n_bigram(corpus, n=None):\n",
    "    vec = CountVectorizer(ngram_range=(2, 2), stop_words=stop_words).fit(corpus)\n",
    "    bag_of_words = vec.transform(corpus)\n",
    "    sum_words = bag_of_words.sum(axis=0) \n",
    "    words_freq = [(word, sum_words[0, idx]) for word, idx in vec.vocabulary_.items()]\n",
    "    words_freq =sorted(words_freq, key = lambda x: x[1], reverse=True)\n",
    "    return words_freq[:n]\n",
    "common_words = get_top_n_bigram(files_df['Review'], 20)\n",
    "for word, freq in common_words:\n",
    "    print(word, freq)\n",
    "df4 = pd.DataFrame(common_words, columns = ['ReviewText' , 'count'])\n",
    "df4.groupby('ReviewText').sum()['count'].sort_values(ascending=False).iplot(\n",
    "    kind='bar', yTitle='Count', linecolor='black', title='Top 20 bigrams in review after removing stop words')\n"
   ]
  },
  {
   "cell_type": "code",
   "execution_count": 160,
   "metadata": {},
   "outputs": [
    {
     "name": "stdout",
     "output_type": "stream",
     "text": [
      "red queen kills 9\n",
      "kills seven times 7\n",
      "queen kills seven 6\n",
      "night evelyn came 6\n",
      "evelyn came grave 6\n",
      "jane fonda robert 4\n",
      "don know going 3\n",
      "fonda robert niro 3\n",
      "la dama rossa 3\n",
      "queen kills times 3\n",
      "anti social goth 3\n",
      "tommy michael manchester 3\n",
      "jerry rick farnsworth 3\n",
      "lydia reed hassie 3\n",
      "michael winkelman little 3\n",
      "winkelman little luke 3\n",
      "merging film video 2\n",
      "thoroughly bored looking 2\n",
      "inspired andrews edwards 2\n",
      "doesn make sense 2\n"
     ]
    },
    {
     "data": {
      "application/vnd.plotly.v1+json": {
       "config": {
        "linkText": "Export to plot.ly",
        "plotlyServerURL": "https://plot.ly",
        "showLink": true
       },
       "data": [
        {
         "marker": {
          "color": "rgba(255, 153, 51, 0.6)",
          "line": {
           "color": "rgba(255, 153, 51, 1.0)",
           "width": 1
          }
         },
         "name": "count",
         "orientation": "v",
         "text": "",
         "type": "bar",
         "x": [
          "red queen kills",
          "kills seven times",
          "evelyn came grave",
          "queen kills seven",
          "night evelyn came",
          "jane fonda robert",
          "anti social goth",
          "michael winkelman little",
          "tommy michael manchester",
          "queen kills times",
          "lydia reed hassie",
          "la dama rossa",
          "jerry rick farnsworth",
          "fonda robert niro",
          "don know going",
          "winkelman little luke",
          "merging film video",
          "doesn make sense",
          "inspired andrews edwards",
          "thoroughly bored looking"
         ],
         "y": [
          9,
          7,
          6,
          6,
          6,
          4,
          3,
          3,
          3,
          3,
          3,
          3,
          3,
          3,
          3,
          3,
          2,
          2,
          2,
          2
         ]
        }
       ],
       "layout": {
        "legend": {
         "bgcolor": "#F5F6F9",
         "font": {
          "color": "#4D5663"
         }
        },
        "paper_bgcolor": "#F5F6F9",
        "plot_bgcolor": "#F5F6F9",
        "template": {
         "data": {
          "bar": [
           {
            "error_x": {
             "color": "#2a3f5f"
            },
            "error_y": {
             "color": "#2a3f5f"
            },
            "marker": {
             "line": {
              "color": "#E5ECF6",
              "width": 0.5
             },
             "pattern": {
              "fillmode": "overlay",
              "size": 10,
              "solidity": 0.2
             }
            },
            "type": "bar"
           }
          ],
          "barpolar": [
           {
            "marker": {
             "line": {
              "color": "#E5ECF6",
              "width": 0.5
             },
             "pattern": {
              "fillmode": "overlay",
              "size": 10,
              "solidity": 0.2
             }
            },
            "type": "barpolar"
           }
          ],
          "carpet": [
           {
            "aaxis": {
             "endlinecolor": "#2a3f5f",
             "gridcolor": "white",
             "linecolor": "white",
             "minorgridcolor": "white",
             "startlinecolor": "#2a3f5f"
            },
            "baxis": {
             "endlinecolor": "#2a3f5f",
             "gridcolor": "white",
             "linecolor": "white",
             "minorgridcolor": "white",
             "startlinecolor": "#2a3f5f"
            },
            "type": "carpet"
           }
          ],
          "choropleth": [
           {
            "colorbar": {
             "outlinewidth": 0,
             "ticks": ""
            },
            "type": "choropleth"
           }
          ],
          "contour": [
           {
            "colorbar": {
             "outlinewidth": 0,
             "ticks": ""
            },
            "colorscale": [
             [
              0,
              "#0d0887"
             ],
             [
              0.1111111111111111,
              "#46039f"
             ],
             [
              0.2222222222222222,
              "#7201a8"
             ],
             [
              0.3333333333333333,
              "#9c179e"
             ],
             [
              0.4444444444444444,
              "#bd3786"
             ],
             [
              0.5555555555555556,
              "#d8576b"
             ],
             [
              0.6666666666666666,
              "#ed7953"
             ],
             [
              0.7777777777777778,
              "#fb9f3a"
             ],
             [
              0.8888888888888888,
              "#fdca26"
             ],
             [
              1,
              "#f0f921"
             ]
            ],
            "type": "contour"
           }
          ],
          "contourcarpet": [
           {
            "colorbar": {
             "outlinewidth": 0,
             "ticks": ""
            },
            "type": "contourcarpet"
           }
          ],
          "heatmap": [
           {
            "colorbar": {
             "outlinewidth": 0,
             "ticks": ""
            },
            "colorscale": [
             [
              0,
              "#0d0887"
             ],
             [
              0.1111111111111111,
              "#46039f"
             ],
             [
              0.2222222222222222,
              "#7201a8"
             ],
             [
              0.3333333333333333,
              "#9c179e"
             ],
             [
              0.4444444444444444,
              "#bd3786"
             ],
             [
              0.5555555555555556,
              "#d8576b"
             ],
             [
              0.6666666666666666,
              "#ed7953"
             ],
             [
              0.7777777777777778,
              "#fb9f3a"
             ],
             [
              0.8888888888888888,
              "#fdca26"
             ],
             [
              1,
              "#f0f921"
             ]
            ],
            "type": "heatmap"
           }
          ],
          "heatmapgl": [
           {
            "colorbar": {
             "outlinewidth": 0,
             "ticks": ""
            },
            "colorscale": [
             [
              0,
              "#0d0887"
             ],
             [
              0.1111111111111111,
              "#46039f"
             ],
             [
              0.2222222222222222,
              "#7201a8"
             ],
             [
              0.3333333333333333,
              "#9c179e"
             ],
             [
              0.4444444444444444,
              "#bd3786"
             ],
             [
              0.5555555555555556,
              "#d8576b"
             ],
             [
              0.6666666666666666,
              "#ed7953"
             ],
             [
              0.7777777777777778,
              "#fb9f3a"
             ],
             [
              0.8888888888888888,
              "#fdca26"
             ],
             [
              1,
              "#f0f921"
             ]
            ],
            "type": "heatmapgl"
           }
          ],
          "histogram": [
           {
            "marker": {
             "pattern": {
              "fillmode": "overlay",
              "size": 10,
              "solidity": 0.2
             }
            },
            "type": "histogram"
           }
          ],
          "histogram2d": [
           {
            "colorbar": {
             "outlinewidth": 0,
             "ticks": ""
            },
            "colorscale": [
             [
              0,
              "#0d0887"
             ],
             [
              0.1111111111111111,
              "#46039f"
             ],
             [
              0.2222222222222222,
              "#7201a8"
             ],
             [
              0.3333333333333333,
              "#9c179e"
             ],
             [
              0.4444444444444444,
              "#bd3786"
             ],
             [
              0.5555555555555556,
              "#d8576b"
             ],
             [
              0.6666666666666666,
              "#ed7953"
             ],
             [
              0.7777777777777778,
              "#fb9f3a"
             ],
             [
              0.8888888888888888,
              "#fdca26"
             ],
             [
              1,
              "#f0f921"
             ]
            ],
            "type": "histogram2d"
           }
          ],
          "histogram2dcontour": [
           {
            "colorbar": {
             "outlinewidth": 0,
             "ticks": ""
            },
            "colorscale": [
             [
              0,
              "#0d0887"
             ],
             [
              0.1111111111111111,
              "#46039f"
             ],
             [
              0.2222222222222222,
              "#7201a8"
             ],
             [
              0.3333333333333333,
              "#9c179e"
             ],
             [
              0.4444444444444444,
              "#bd3786"
             ],
             [
              0.5555555555555556,
              "#d8576b"
             ],
             [
              0.6666666666666666,
              "#ed7953"
             ],
             [
              0.7777777777777778,
              "#fb9f3a"
             ],
             [
              0.8888888888888888,
              "#fdca26"
             ],
             [
              1,
              "#f0f921"
             ]
            ],
            "type": "histogram2dcontour"
           }
          ],
          "mesh3d": [
           {
            "colorbar": {
             "outlinewidth": 0,
             "ticks": ""
            },
            "type": "mesh3d"
           }
          ],
          "parcoords": [
           {
            "line": {
             "colorbar": {
              "outlinewidth": 0,
              "ticks": ""
             }
            },
            "type": "parcoords"
           }
          ],
          "pie": [
           {
            "automargin": true,
            "type": "pie"
           }
          ],
          "scatter": [
           {
            "marker": {
             "colorbar": {
              "outlinewidth": 0,
              "ticks": ""
             }
            },
            "type": "scatter"
           }
          ],
          "scatter3d": [
           {
            "line": {
             "colorbar": {
              "outlinewidth": 0,
              "ticks": ""
             }
            },
            "marker": {
             "colorbar": {
              "outlinewidth": 0,
              "ticks": ""
             }
            },
            "type": "scatter3d"
           }
          ],
          "scattercarpet": [
           {
            "marker": {
             "colorbar": {
              "outlinewidth": 0,
              "ticks": ""
             }
            },
            "type": "scattercarpet"
           }
          ],
          "scattergeo": [
           {
            "marker": {
             "colorbar": {
              "outlinewidth": 0,
              "ticks": ""
             }
            },
            "type": "scattergeo"
           }
          ],
          "scattergl": [
           {
            "marker": {
             "colorbar": {
              "outlinewidth": 0,
              "ticks": ""
             }
            },
            "type": "scattergl"
           }
          ],
          "scattermapbox": [
           {
            "marker": {
             "colorbar": {
              "outlinewidth": 0,
              "ticks": ""
             }
            },
            "type": "scattermapbox"
           }
          ],
          "scatterpolar": [
           {
            "marker": {
             "colorbar": {
              "outlinewidth": 0,
              "ticks": ""
             }
            },
            "type": "scatterpolar"
           }
          ],
          "scatterpolargl": [
           {
            "marker": {
             "colorbar": {
              "outlinewidth": 0,
              "ticks": ""
             }
            },
            "type": "scatterpolargl"
           }
          ],
          "scatterternary": [
           {
            "marker": {
             "colorbar": {
              "outlinewidth": 0,
              "ticks": ""
             }
            },
            "type": "scatterternary"
           }
          ],
          "surface": [
           {
            "colorbar": {
             "outlinewidth": 0,
             "ticks": ""
            },
            "colorscale": [
             [
              0,
              "#0d0887"
             ],
             [
              0.1111111111111111,
              "#46039f"
             ],
             [
              0.2222222222222222,
              "#7201a8"
             ],
             [
              0.3333333333333333,
              "#9c179e"
             ],
             [
              0.4444444444444444,
              "#bd3786"
             ],
             [
              0.5555555555555556,
              "#d8576b"
             ],
             [
              0.6666666666666666,
              "#ed7953"
             ],
             [
              0.7777777777777778,
              "#fb9f3a"
             ],
             [
              0.8888888888888888,
              "#fdca26"
             ],
             [
              1,
              "#f0f921"
             ]
            ],
            "type": "surface"
           }
          ],
          "table": [
           {
            "cells": {
             "fill": {
              "color": "#EBF0F8"
             },
             "line": {
              "color": "white"
             }
            },
            "header": {
             "fill": {
              "color": "#C8D4E3"
             },
             "line": {
              "color": "white"
             }
            },
            "type": "table"
           }
          ]
         },
         "layout": {
          "annotationdefaults": {
           "arrowcolor": "#2a3f5f",
           "arrowhead": 0,
           "arrowwidth": 1
          },
          "autotypenumbers": "strict",
          "coloraxis": {
           "colorbar": {
            "outlinewidth": 0,
            "ticks": ""
           }
          },
          "colorscale": {
           "diverging": [
            [
             0,
             "#8e0152"
            ],
            [
             0.1,
             "#c51b7d"
            ],
            [
             0.2,
             "#de77ae"
            ],
            [
             0.3,
             "#f1b6da"
            ],
            [
             0.4,
             "#fde0ef"
            ],
            [
             0.5,
             "#f7f7f7"
            ],
            [
             0.6,
             "#e6f5d0"
            ],
            [
             0.7,
             "#b8e186"
            ],
            [
             0.8,
             "#7fbc41"
            ],
            [
             0.9,
             "#4d9221"
            ],
            [
             1,
             "#276419"
            ]
           ],
           "sequential": [
            [
             0,
             "#0d0887"
            ],
            [
             0.1111111111111111,
             "#46039f"
            ],
            [
             0.2222222222222222,
             "#7201a8"
            ],
            [
             0.3333333333333333,
             "#9c179e"
            ],
            [
             0.4444444444444444,
             "#bd3786"
            ],
            [
             0.5555555555555556,
             "#d8576b"
            ],
            [
             0.6666666666666666,
             "#ed7953"
            ],
            [
             0.7777777777777778,
             "#fb9f3a"
            ],
            [
             0.8888888888888888,
             "#fdca26"
            ],
            [
             1,
             "#f0f921"
            ]
           ],
           "sequentialminus": [
            [
             0,
             "#0d0887"
            ],
            [
             0.1111111111111111,
             "#46039f"
            ],
            [
             0.2222222222222222,
             "#7201a8"
            ],
            [
             0.3333333333333333,
             "#9c179e"
            ],
            [
             0.4444444444444444,
             "#bd3786"
            ],
            [
             0.5555555555555556,
             "#d8576b"
            ],
            [
             0.6666666666666666,
             "#ed7953"
            ],
            [
             0.7777777777777778,
             "#fb9f3a"
            ],
            [
             0.8888888888888888,
             "#fdca26"
            ],
            [
             1,
             "#f0f921"
            ]
           ]
          },
          "colorway": [
           "#636efa",
           "#EF553B",
           "#00cc96",
           "#ab63fa",
           "#FFA15A",
           "#19d3f3",
           "#FF6692",
           "#B6E880",
           "#FF97FF",
           "#FECB52"
          ],
          "font": {
           "color": "#2a3f5f"
          },
          "geo": {
           "bgcolor": "white",
           "lakecolor": "white",
           "landcolor": "#E5ECF6",
           "showlakes": true,
           "showland": true,
           "subunitcolor": "white"
          },
          "hoverlabel": {
           "align": "left"
          },
          "hovermode": "closest",
          "mapbox": {
           "style": "light"
          },
          "paper_bgcolor": "white",
          "plot_bgcolor": "#E5ECF6",
          "polar": {
           "angularaxis": {
            "gridcolor": "white",
            "linecolor": "white",
            "ticks": ""
           },
           "bgcolor": "#E5ECF6",
           "radialaxis": {
            "gridcolor": "white",
            "linecolor": "white",
            "ticks": ""
           }
          },
          "scene": {
           "xaxis": {
            "backgroundcolor": "#E5ECF6",
            "gridcolor": "white",
            "gridwidth": 2,
            "linecolor": "white",
            "showbackground": true,
            "ticks": "",
            "zerolinecolor": "white"
           },
           "yaxis": {
            "backgroundcolor": "#E5ECF6",
            "gridcolor": "white",
            "gridwidth": 2,
            "linecolor": "white",
            "showbackground": true,
            "ticks": "",
            "zerolinecolor": "white"
           },
           "zaxis": {
            "backgroundcolor": "#E5ECF6",
            "gridcolor": "white",
            "gridwidth": 2,
            "linecolor": "white",
            "showbackground": true,
            "ticks": "",
            "zerolinecolor": "white"
           }
          },
          "shapedefaults": {
           "line": {
            "color": "#2a3f5f"
           }
          },
          "ternary": {
           "aaxis": {
            "gridcolor": "white",
            "linecolor": "white",
            "ticks": ""
           },
           "baxis": {
            "gridcolor": "white",
            "linecolor": "white",
            "ticks": ""
           },
           "bgcolor": "#E5ECF6",
           "caxis": {
            "gridcolor": "white",
            "linecolor": "white",
            "ticks": ""
           }
          },
          "title": {
           "x": 0.05
          },
          "xaxis": {
           "automargin": true,
           "gridcolor": "white",
           "linecolor": "white",
           "ticks": "",
           "title": {
            "standoff": 15
           },
           "zerolinecolor": "white",
           "zerolinewidth": 2
          },
          "yaxis": {
           "automargin": true,
           "gridcolor": "white",
           "linecolor": "white",
           "ticks": "",
           "title": {
            "standoff": 15
           },
           "zerolinecolor": "white",
           "zerolinewidth": 2
          }
         }
        },
        "title": {
         "font": {
          "color": "#4D5663"
         },
         "text": "Top 20 trigrams in review after removing stop words"
        },
        "xaxis": {
         "gridcolor": "#E1E5ED",
         "linecolor": "black",
         "showgrid": true,
         "tickfont": {
          "color": "#4D5663"
         },
         "title": {
          "font": {
           "color": "#4D5663"
          },
          "text": ""
         },
         "zerolinecolor": "#E1E5ED"
        },
        "yaxis": {
         "gridcolor": "#E1E5ED",
         "linecolor": "black",
         "showgrid": true,
         "tickfont": {
          "color": "#4D5663"
         },
         "title": {
          "font": {
           "color": "#4D5663"
          },
          "text": "Count"
         },
         "zerolinecolor": "#E1E5ED"
        }
       }
      },
      "text/html": [
       "<div>                            <div id=\"e055adce-3148-4306-ac20-bb139368803d\" class=\"plotly-graph-div\" style=\"height:525px; width:100%;\"></div>            <script type=\"text/javascript\">                require([\"plotly\"], function(Plotly) {                    window.PLOTLYENV=window.PLOTLYENV || {};\n",
       "                    window.PLOTLYENV.BASE_URL='https://plot.ly';                                    if (document.getElementById(\"e055adce-3148-4306-ac20-bb139368803d\")) {                    Plotly.newPlot(                        \"e055adce-3148-4306-ac20-bb139368803d\",                        [{\"marker\":{\"color\":\"rgba(255, 153, 51, 0.6)\",\"line\":{\"color\":\"rgba(255, 153, 51, 1.0)\",\"width\":1}},\"name\":\"count\",\"orientation\":\"v\",\"text\":\"\",\"x\":[\"red queen kills\",\"kills seven times\",\"evelyn came grave\",\"queen kills seven\",\"night evelyn came\",\"jane fonda robert\",\"anti social goth\",\"michael winkelman little\",\"tommy michael manchester\",\"queen kills times\",\"lydia reed hassie\",\"la dama rossa\",\"jerry rick farnsworth\",\"fonda robert niro\",\"don know going\",\"winkelman little luke\",\"merging film video\",\"doesn make sense\",\"inspired andrews edwards\",\"thoroughly bored looking\"],\"y\":[9,7,6,6,6,4,3,3,3,3,3,3,3,3,3,3,2,2,2,2],\"type\":\"bar\"}],                        {\"legend\":{\"bgcolor\":\"#F5F6F9\",\"font\":{\"color\":\"#4D5663\"}},\"paper_bgcolor\":\"#F5F6F9\",\"plot_bgcolor\":\"#F5F6F9\",\"template\":{\"data\":{\"barpolar\":[{\"marker\":{\"line\":{\"color\":\"#E5ECF6\",\"width\":0.5},\"pattern\":{\"fillmode\":\"overlay\",\"size\":10,\"solidity\":0.2}},\"type\":\"barpolar\"}],\"bar\":[{\"error_x\":{\"color\":\"#2a3f5f\"},\"error_y\":{\"color\":\"#2a3f5f\"},\"marker\":{\"line\":{\"color\":\"#E5ECF6\",\"width\":0.5},\"pattern\":{\"fillmode\":\"overlay\",\"size\":10,\"solidity\":0.2}},\"type\":\"bar\"}],\"carpet\":[{\"aaxis\":{\"endlinecolor\":\"#2a3f5f\",\"gridcolor\":\"white\",\"linecolor\":\"white\",\"minorgridcolor\":\"white\",\"startlinecolor\":\"#2a3f5f\"},\"baxis\":{\"endlinecolor\":\"#2a3f5f\",\"gridcolor\":\"white\",\"linecolor\":\"white\",\"minorgridcolor\":\"white\",\"startlinecolor\":\"#2a3f5f\"},\"type\":\"carpet\"}],\"choropleth\":[{\"colorbar\":{\"outlinewidth\":0,\"ticks\":\"\"},\"type\":\"choropleth\"}],\"contourcarpet\":[{\"colorbar\":{\"outlinewidth\":0,\"ticks\":\"\"},\"type\":\"contourcarpet\"}],\"contour\":[{\"colorbar\":{\"outlinewidth\":0,\"ticks\":\"\"},\"colorscale\":[[0.0,\"#0d0887\"],[0.1111111111111111,\"#46039f\"],[0.2222222222222222,\"#7201a8\"],[0.3333333333333333,\"#9c179e\"],[0.4444444444444444,\"#bd3786\"],[0.5555555555555556,\"#d8576b\"],[0.6666666666666666,\"#ed7953\"],[0.7777777777777778,\"#fb9f3a\"],[0.8888888888888888,\"#fdca26\"],[1.0,\"#f0f921\"]],\"type\":\"contour\"}],\"heatmapgl\":[{\"colorbar\":{\"outlinewidth\":0,\"ticks\":\"\"},\"colorscale\":[[0.0,\"#0d0887\"],[0.1111111111111111,\"#46039f\"],[0.2222222222222222,\"#7201a8\"],[0.3333333333333333,\"#9c179e\"],[0.4444444444444444,\"#bd3786\"],[0.5555555555555556,\"#d8576b\"],[0.6666666666666666,\"#ed7953\"],[0.7777777777777778,\"#fb9f3a\"],[0.8888888888888888,\"#fdca26\"],[1.0,\"#f0f921\"]],\"type\":\"heatmapgl\"}],\"heatmap\":[{\"colorbar\":{\"outlinewidth\":0,\"ticks\":\"\"},\"colorscale\":[[0.0,\"#0d0887\"],[0.1111111111111111,\"#46039f\"],[0.2222222222222222,\"#7201a8\"],[0.3333333333333333,\"#9c179e\"],[0.4444444444444444,\"#bd3786\"],[0.5555555555555556,\"#d8576b\"],[0.6666666666666666,\"#ed7953\"],[0.7777777777777778,\"#fb9f3a\"],[0.8888888888888888,\"#fdca26\"],[1.0,\"#f0f921\"]],\"type\":\"heatmap\"}],\"histogram2dcontour\":[{\"colorbar\":{\"outlinewidth\":0,\"ticks\":\"\"},\"colorscale\":[[0.0,\"#0d0887\"],[0.1111111111111111,\"#46039f\"],[0.2222222222222222,\"#7201a8\"],[0.3333333333333333,\"#9c179e\"],[0.4444444444444444,\"#bd3786\"],[0.5555555555555556,\"#d8576b\"],[0.6666666666666666,\"#ed7953\"],[0.7777777777777778,\"#fb9f3a\"],[0.8888888888888888,\"#fdca26\"],[1.0,\"#f0f921\"]],\"type\":\"histogram2dcontour\"}],\"histogram2d\":[{\"colorbar\":{\"outlinewidth\":0,\"ticks\":\"\"},\"colorscale\":[[0.0,\"#0d0887\"],[0.1111111111111111,\"#46039f\"],[0.2222222222222222,\"#7201a8\"],[0.3333333333333333,\"#9c179e\"],[0.4444444444444444,\"#bd3786\"],[0.5555555555555556,\"#d8576b\"],[0.6666666666666666,\"#ed7953\"],[0.7777777777777778,\"#fb9f3a\"],[0.8888888888888888,\"#fdca26\"],[1.0,\"#f0f921\"]],\"type\":\"histogram2d\"}],\"histogram\":[{\"marker\":{\"pattern\":{\"fillmode\":\"overlay\",\"size\":10,\"solidity\":0.2}},\"type\":\"histogram\"}],\"mesh3d\":[{\"colorbar\":{\"outlinewidth\":0,\"ticks\":\"\"},\"type\":\"mesh3d\"}],\"parcoords\":[{\"line\":{\"colorbar\":{\"outlinewidth\":0,\"ticks\":\"\"}},\"type\":\"parcoords\"}],\"pie\":[{\"automargin\":true,\"type\":\"pie\"}],\"scatter3d\":[{\"line\":{\"colorbar\":{\"outlinewidth\":0,\"ticks\":\"\"}},\"marker\":{\"colorbar\":{\"outlinewidth\":0,\"ticks\":\"\"}},\"type\":\"scatter3d\"}],\"scattercarpet\":[{\"marker\":{\"colorbar\":{\"outlinewidth\":0,\"ticks\":\"\"}},\"type\":\"scattercarpet\"}],\"scattergeo\":[{\"marker\":{\"colorbar\":{\"outlinewidth\":0,\"ticks\":\"\"}},\"type\":\"scattergeo\"}],\"scattergl\":[{\"marker\":{\"colorbar\":{\"outlinewidth\":0,\"ticks\":\"\"}},\"type\":\"scattergl\"}],\"scattermapbox\":[{\"marker\":{\"colorbar\":{\"outlinewidth\":0,\"ticks\":\"\"}},\"type\":\"scattermapbox\"}],\"scatterpolargl\":[{\"marker\":{\"colorbar\":{\"outlinewidth\":0,\"ticks\":\"\"}},\"type\":\"scatterpolargl\"}],\"scatterpolar\":[{\"marker\":{\"colorbar\":{\"outlinewidth\":0,\"ticks\":\"\"}},\"type\":\"scatterpolar\"}],\"scatter\":[{\"marker\":{\"colorbar\":{\"outlinewidth\":0,\"ticks\":\"\"}},\"type\":\"scatter\"}],\"scatterternary\":[{\"marker\":{\"colorbar\":{\"outlinewidth\":0,\"ticks\":\"\"}},\"type\":\"scatterternary\"}],\"surface\":[{\"colorbar\":{\"outlinewidth\":0,\"ticks\":\"\"},\"colorscale\":[[0.0,\"#0d0887\"],[0.1111111111111111,\"#46039f\"],[0.2222222222222222,\"#7201a8\"],[0.3333333333333333,\"#9c179e\"],[0.4444444444444444,\"#bd3786\"],[0.5555555555555556,\"#d8576b\"],[0.6666666666666666,\"#ed7953\"],[0.7777777777777778,\"#fb9f3a\"],[0.8888888888888888,\"#fdca26\"],[1.0,\"#f0f921\"]],\"type\":\"surface\"}],\"table\":[{\"cells\":{\"fill\":{\"color\":\"#EBF0F8\"},\"line\":{\"color\":\"white\"}},\"header\":{\"fill\":{\"color\":\"#C8D4E3\"},\"line\":{\"color\":\"white\"}},\"type\":\"table\"}]},\"layout\":{\"annotationdefaults\":{\"arrowcolor\":\"#2a3f5f\",\"arrowhead\":0,\"arrowwidth\":1},\"autotypenumbers\":\"strict\",\"coloraxis\":{\"colorbar\":{\"outlinewidth\":0,\"ticks\":\"\"}},\"colorscale\":{\"diverging\":[[0,\"#8e0152\"],[0.1,\"#c51b7d\"],[0.2,\"#de77ae\"],[0.3,\"#f1b6da\"],[0.4,\"#fde0ef\"],[0.5,\"#f7f7f7\"],[0.6,\"#e6f5d0\"],[0.7,\"#b8e186\"],[0.8,\"#7fbc41\"],[0.9,\"#4d9221\"],[1,\"#276419\"]],\"sequential\":[[0.0,\"#0d0887\"],[0.1111111111111111,\"#46039f\"],[0.2222222222222222,\"#7201a8\"],[0.3333333333333333,\"#9c179e\"],[0.4444444444444444,\"#bd3786\"],[0.5555555555555556,\"#d8576b\"],[0.6666666666666666,\"#ed7953\"],[0.7777777777777778,\"#fb9f3a\"],[0.8888888888888888,\"#fdca26\"],[1.0,\"#f0f921\"]],\"sequentialminus\":[[0.0,\"#0d0887\"],[0.1111111111111111,\"#46039f\"],[0.2222222222222222,\"#7201a8\"],[0.3333333333333333,\"#9c179e\"],[0.4444444444444444,\"#bd3786\"],[0.5555555555555556,\"#d8576b\"],[0.6666666666666666,\"#ed7953\"],[0.7777777777777778,\"#fb9f3a\"],[0.8888888888888888,\"#fdca26\"],[1.0,\"#f0f921\"]]},\"colorway\":[\"#636efa\",\"#EF553B\",\"#00cc96\",\"#ab63fa\",\"#FFA15A\",\"#19d3f3\",\"#FF6692\",\"#B6E880\",\"#FF97FF\",\"#FECB52\"],\"font\":{\"color\":\"#2a3f5f\"},\"geo\":{\"bgcolor\":\"white\",\"lakecolor\":\"white\",\"landcolor\":\"#E5ECF6\",\"showlakes\":true,\"showland\":true,\"subunitcolor\":\"white\"},\"hoverlabel\":{\"align\":\"left\"},\"hovermode\":\"closest\",\"mapbox\":{\"style\":\"light\"},\"paper_bgcolor\":\"white\",\"plot_bgcolor\":\"#E5ECF6\",\"polar\":{\"angularaxis\":{\"gridcolor\":\"white\",\"linecolor\":\"white\",\"ticks\":\"\"},\"bgcolor\":\"#E5ECF6\",\"radialaxis\":{\"gridcolor\":\"white\",\"linecolor\":\"white\",\"ticks\":\"\"}},\"scene\":{\"xaxis\":{\"backgroundcolor\":\"#E5ECF6\",\"gridcolor\":\"white\",\"gridwidth\":2,\"linecolor\":\"white\",\"showbackground\":true,\"ticks\":\"\",\"zerolinecolor\":\"white\"},\"yaxis\":{\"backgroundcolor\":\"#E5ECF6\",\"gridcolor\":\"white\",\"gridwidth\":2,\"linecolor\":\"white\",\"showbackground\":true,\"ticks\":\"\",\"zerolinecolor\":\"white\"},\"zaxis\":{\"backgroundcolor\":\"#E5ECF6\",\"gridcolor\":\"white\",\"gridwidth\":2,\"linecolor\":\"white\",\"showbackground\":true,\"ticks\":\"\",\"zerolinecolor\":\"white\"}},\"shapedefaults\":{\"line\":{\"color\":\"#2a3f5f\"}},\"ternary\":{\"aaxis\":{\"gridcolor\":\"white\",\"linecolor\":\"white\",\"ticks\":\"\"},\"baxis\":{\"gridcolor\":\"white\",\"linecolor\":\"white\",\"ticks\":\"\"},\"bgcolor\":\"#E5ECF6\",\"caxis\":{\"gridcolor\":\"white\",\"linecolor\":\"white\",\"ticks\":\"\"}},\"title\":{\"x\":0.05},\"xaxis\":{\"automargin\":true,\"gridcolor\":\"white\",\"linecolor\":\"white\",\"ticks\":\"\",\"title\":{\"standoff\":15},\"zerolinecolor\":\"white\",\"zerolinewidth\":2},\"yaxis\":{\"automargin\":true,\"gridcolor\":\"white\",\"linecolor\":\"white\",\"ticks\":\"\",\"title\":{\"standoff\":15},\"zerolinecolor\":\"white\",\"zerolinewidth\":2}}},\"title\":{\"font\":{\"color\":\"#4D5663\"},\"text\":\"Top 20 trigrams in review after removing stop words\"},\"xaxis\":{\"gridcolor\":\"#E1E5ED\",\"linecolor\":\"black\",\"showgrid\":true,\"tickfont\":{\"color\":\"#4D5663\"},\"title\":{\"font\":{\"color\":\"#4D5663\"},\"text\":\"\"},\"zerolinecolor\":\"#E1E5ED\"},\"yaxis\":{\"gridcolor\":\"#E1E5ED\",\"linecolor\":\"black\",\"showgrid\":true,\"tickfont\":{\"color\":\"#4D5663\"},\"title\":{\"font\":{\"color\":\"#4D5663\"},\"text\":\"Count\"},\"zerolinecolor\":\"#E1E5ED\"}},                        {\"showLink\": true, \"linkText\": \"Export to plot.ly\", \"plotlyServerURL\": \"https://plot.ly\", \"responsive\": true}                    ).then(function(){\n",
       "                            \n",
       "var gd = document.getElementById('e055adce-3148-4306-ac20-bb139368803d');\n",
       "var x = new MutationObserver(function (mutations, observer) {{\n",
       "        var display = window.getComputedStyle(gd).display;\n",
       "        if (!display || display === 'none') {{\n",
       "            console.log([gd, 'removed!']);\n",
       "            Plotly.purge(gd);\n",
       "            observer.disconnect();\n",
       "        }}\n",
       "}});\n",
       "\n",
       "// Listen for the removal of the full notebook cells\n",
       "var notebookContainer = gd.closest('#notebook-container');\n",
       "if (notebookContainer) {{\n",
       "    x.observe(notebookContainer, {childList: true});\n",
       "}}\n",
       "\n",
       "// Listen for the clearing of the current output cell\n",
       "var outputEl = gd.closest('.output');\n",
       "if (outputEl) {{\n",
       "    x.observe(outputEl, {childList: true});\n",
       "}}\n",
       "\n",
       "                        })                };                });            </script>        </div>"
      ]
     },
     "metadata": {},
     "output_type": "display_data"
    }
   ],
   "source": [
    "def get_top_n_trigram(corpus, n=None):\n",
    "    vec = CountVectorizer(ngram_range=(3, 3), stop_words=stop_words).fit(corpus)\n",
    "    bag_of_words = vec.transform(corpus)\n",
    "    sum_words = bag_of_words.sum(axis=0) \n",
    "    words_freq = [(word, sum_words[0, idx]) for word, idx in vec.vocabulary_.items()]\n",
    "    words_freq =sorted(words_freq, key = lambda x: x[1], reverse=True)\n",
    "    return words_freq[:n]\n",
    "common_words = get_top_n_trigram(files_df['Review'], 20)\n",
    "for word, freq in common_words:\n",
    "    print(word, freq)\n",
    "df6 = pd.DataFrame(common_words, columns = ['ReviewText' , 'count'])\n",
    "df6.groupby('ReviewText').sum()['count'].sort_values(ascending=False).iplot(\n",
    "    kind='bar', yTitle='Count', linecolor='black', title='Top 20 trigrams in review after removing stop words')"
   ]
  },
  {
   "cell_type": "code",
   "execution_count": null,
   "metadata": {},
   "outputs": [],
   "source": []
  }
 ],
 "metadata": {
  "kernelspec": {
   "display_name": "Python 3 (ipykernel)",
   "language": "python",
   "name": "python3"
  },
  "language_info": {
   "codemirror_mode": {
    "name": "ipython",
    "version": 3
   },
   "file_extension": ".py",
   "mimetype": "text/x-python",
   "name": "python",
   "nbconvert_exporter": "python",
   "pygments_lexer": "ipython3",
   "version": "3.9.7"
  }
 },
 "nbformat": 4,
 "nbformat_minor": 2
}
